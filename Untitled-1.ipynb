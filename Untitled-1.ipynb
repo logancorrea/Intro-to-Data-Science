{
 "cells": [
  {
   "cell_type": "code",
   "execution_count": 22,
   "metadata": {},
   "outputs": [
    {
     "data": {
      "text/plain": [
       "('Logan: $1000', 'Alheli: $700')"
      ]
     },
     "execution_count": 22,
     "metadata": {},
     "output_type": "execute_result"
    }
   ],
   "source": [
    "\n",
    "# Rent Model 1\n",
    "total = 1700\n",
    "logan_max = 900\n",
    "alheli_max = 700\n",
    "\n",
    "def rent1(total,logan_max,alheli_max):\n",
    "    logan_rent = 0\n",
    "    alheli_rent = 0\n",
    "    if total <= logan_max +alheli_max:\n",
    "        logan_rent = total/2\n",
    "        alheli_rent = total/2\n",
    "    else:\n",
    "        logan_rent = total - alheli_max\n",
    "        alheli_rent = alheli_max\n",
    "\n",
    "    return \"Logan: $\" + str(logan_rent) , \"Alheli: $\" + str(alheli_rent)\n",
    "\n",
    "rent1(total,logan_max,alheli_max)\n",
    "\n",
    "\n"
   ]
  },
  {
   "cell_type": "code",
   "execution_count": 3,
   "metadata": {},
   "outputs": [
    {
     "name": "stdout",
     "output_type": "stream",
     "text": [
      "['/Users/logancorrea/Documents/Money', '/Library/Developer/CommandLineTools/Library/Frameworks/Python3.framework/Versions/3.9/lib/python39.zip', '/Library/Developer/CommandLineTools/Library/Frameworks/Python3.framework/Versions/3.9/lib/python3.9', '/Library/Developer/CommandLineTools/Library/Frameworks/Python3.framework/Versions/3.9/lib/python3.9/lib-dynload', '', '/Users/logancorrea/Library/Python/3.9/lib/python/site-packages', '/Library/Developer/CommandLineTools/Library/Frameworks/Python3.framework/Versions/3.9/lib/python3.9/site-packages']\n"
     ]
    }
   ],
   "source": [
    "import sys\n",
    "print(sys.path)\n"
   ]
  },
  {
   "cell_type": "code",
   "execution_count": 23,
   "metadata": {},
   "outputs": [
    {
     "ename": "ModuleNotFoundError",
     "evalue": "No module named 'pandas'",
     "output_type": "error",
     "traceback": [
      "\u001b[0;31m---------------------------------------------------------------------------\u001b[0m",
      "\u001b[0;31mModuleNotFoundError\u001b[0m                       Traceback (most recent call last)",
      "Cell \u001b[0;32mIn[23], line 1\u001b[0m\n\u001b[0;32m----> 1\u001b[0m \u001b[38;5;28;01mimport\u001b[39;00m \u001b[38;5;21;01mpandas\u001b[39;00m \u001b[38;5;28;01mas\u001b[39;00m \u001b[38;5;21;01mpd\u001b[39;00m\n\u001b[1;32m      2\u001b[0m total_rent_prices \u001b[38;5;241m=\u001b[39m []\n\u001b[1;32m      3\u001b[0m \u001b[38;5;28;01mfor\u001b[39;00m total \u001b[38;5;129;01min\u001b[39;00m \u001b[38;5;28mrange\u001b[39m(\u001b[38;5;241m800\u001b[39m, \u001b[38;5;241m2100\u001b[39m, \u001b[38;5;241m100\u001b[39m):\n",
      "\u001b[0;31mModuleNotFoundError\u001b[0m: No module named 'pandas'"
     ]
    }
   ],
   "source": [
    "import pandas as pd\n",
    "total_rent_prices = []\n",
    "for total in range(800, 2100, 100):\n",
    "    logan_rent, alheli_rent = rent1(total, logan_max, alheli_max)\n",
    "    total_rent_prices.append({'Total': total, 'Logan Rent': logan_rent, 'Alheli Rent': alheli_rent})\n",
    "\n",
    "df_rent_prices = pd.DataFrame(total_rent_prices)\n",
    "print(df_rent_prices)"
   ]
  },
  {
   "cell_type": "code",
   "execution_count": 11,
   "metadata": {},
   "outputs": [
    {
     "data": {
      "text/plain": [
       "('Logan: $956.25', 'Alheli: $743.75')"
      ]
     },
     "execution_count": 11,
     "metadata": {},
     "output_type": "execute_result"
    }
   ],
   "source": [
    "# Rent Model 2\n",
    "total = 1700\n",
    "logan_max = 900\n",
    "alheli_max = 700\n",
    "\n",
    "def rent2(total,logan_max,alheli_max):\n",
    "    logan_rent = 0\n",
    "    alheli_rent = 0\n",
    "    lp = logan_max/(logan_max+alheli_max)\n",
    "    ap = alheli_max/(logan_max+alheli_max)\n",
    "    if total <= logan_max +alheli_max:\n",
    "        logan_rent = total/2\n",
    "        alheli_rent = total/2\n",
    "    else:\n",
    "        logan_rent = lp*total\n",
    "        alheli_rent = ap*total\n",
    "\n",
    "    return \"Logan: $\" + str(logan_rent) , \"Alheli: $\" + str(alheli_rent)\n",
    "\n",
    "rent2(total,logan_max,alheli_max)"
   ]
  },
  {
   "cell_type": "code",
   "execution_count": 13,
   "metadata": {},
   "outputs": [
    {
     "data": {
      "text/plain": [
       "('Logan: $562.5', 'Alheli: $437.5')"
      ]
     },
     "execution_count": 13,
     "metadata": {},
     "output_type": "execute_result"
    }
   ],
   "source": [
    "# Rent Model 3\n",
    "total = 1000\n",
    "logan_max = 900\n",
    "alheli_max = 700\n",
    "\n",
    "def rent3(total,logan_max,alheli_max):\n",
    "    logan_rent = 0\n",
    "    alheli_rent = 0\n",
    "    lp = logan_max/(logan_max+alheli_max)\n",
    "    ap = alheli_max/(logan_max+alheli_max)\n",
    "    logan_rent = lp*total\n",
    "    alheli_rent = ap*total\n",
    "\n",
    "    return \"Logan: $\" + str(logan_rent) , \"Alheli: $\" + str(alheli_rent)\n",
    "\n",
    "rent3(total,logan_max,alheli_max)"
   ]
  },
  {
   "cell_type": "code",
   "execution_count": 14,
   "metadata": {},
   "outputs": [
    {
     "data": {
      "text/plain": [
       "('Logan: $850.0', 'Alheli: $850.0')"
      ]
     },
     "execution_count": 14,
     "metadata": {},
     "output_type": "execute_result"
    }
   ],
   "source": [
    "# Rent Model 4\n",
    "total = 1700\n",
    "logan_max = 900\n",
    "alheli_max = 700\n",
    "\n",
    "def rent4(total,logan_max,alheli_max):\n",
    "    logan_rent = total/2\n",
    "    alheli_rent = total/2\n",
    "\n",
    "    return \"Logan: $\" + str(logan_rent) , \"Alheli: $\" + str(alheli_rent)\n",
    "\n",
    "rent4(total,logan_max,alheli_max)"
   ]
  },
  {
   "cell_type": "code",
   "execution_count": null,
   "metadata": {},
   "outputs": [],
   "source": []
  }
 ],
 "metadata": {
  "kernelspec": {
   "display_name": "Python 3",
   "language": "python",
   "name": "python3"
  },
  "language_info": {
   "codemirror_mode": {
    "name": "ipython",
    "version": 3
   },
   "file_extension": ".py",
   "mimetype": "text/x-python",
   "name": "python",
   "nbconvert_exporter": "python",
   "pygments_lexer": "ipython3",
   "version": "3.9.6"
  }
 },
 "nbformat": 4,
 "nbformat_minor": 2
}
