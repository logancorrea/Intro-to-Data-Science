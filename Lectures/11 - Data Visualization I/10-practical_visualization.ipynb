{
 "cells": [
  {
   "cell_type": "markdown",
   "metadata": {},
   "source": [
    "### Introduction to Data Science – Lecture 12 – Practical Data Visualization\n",
    "*COMP 5360 / MATH 4100, University of Utah, http://datasciencecourse.net/*\n",
    "\n",
    "In this lecture, we'll cover some of the nitty-gritty details of how to create visualizations in Python. We will take a step back and talk about visualization design and methods in the next lecture. \n",
    "\n",
    "To be frank: the Python data visualization environment is a MESS. It reminds me of this: \n",
    "\n",
    "\n",
    "![](standards.png)\n",
    "\n",
    "### Matplotlib & Extensions\n",
    "\n",
    " * [Matplotlib](https://matplotlib.org/) - the elephant in the room\n",
    " * [Pandas Visualization](https://pandas.pydata.org/pandas-docs/stable/visualization.html) - based on Matplotlib\n",
    " * [Seaborn](https://seaborn.pydata.org/) - based on Matplotlib, higher-level\n",
    " * [ggplot](http://ggplot.yhathq.com/) - based on the popular R plotting library, some similarites, uses Matplotlib.\n",
    " \n",
    "These tools generally can be used to create figures independent of Jupyter. \n",
    " \n",
    "### Web-based Vis tools\n",
    "\n",
    " * [Plotly](https://plot.ly/python/)\n",
    " * [Altair](https://github.com/altair-viz/altair), based on [Vega](https://vega.github.io/vega/) \n",
    " * [PdVega](https://jakevdp.github.io/pdvega/), based on Vega, integrated with pandas dataframes.\n",
    " * [Bokeh](https://bokeh.pydata.org/en/latest/)\n",
    " \n",
    " \n",
    "These tools mostly rely on Jupyter running in your browser and use a JavaScript based language in the back-end. \n",
    "\n",
    "As of February 2023, it seems like Plotly and Altair are serious contenders for more advanced, interactive visualization.\n",
    "\n",
    "There are also some domain specific libraries, e.g., for maps and for networks, that we will cover at a later point. \n",
    " \n",
    " \n",
    "There are also [many](https://www.dataquest.io/blog/python-data-visualization-libraries/) [blog](https://codeburst.io/overview-of-python-data-visualization-tools-e32e1f716d10) [posts](https://lisacharlotterost.github.io/2016/05/17/one-chart-code/) [comparing](https://blog.modeanalytics.com/python-data-visualization-libraries/) various data visualization libraries.\n",
    "\n",
    "Generally speaking, there are \n",
    " * **plotting libraries** that have pre-made charts, and \n",
    " * **drawing libraries** that allow you to freely express anything you can imagine. \n",
    " \n",
    "We will mainly cover the former, but as visualization researchers we typically rely on tools that enable as much expressivity as possible, such as [D3](https://d3js.org/) or [WebGL](https://developer.mozilla.org/en-US/docs/Web/API/WebGL_API).\n",
    "\n",
    "We will start of with basic Matplotlib, explore the build-in pandas library, and then look at some more advanced tools."
   ]
  },
  {
   "cell_type": "markdown",
   "metadata": {},
   "source": [
    "## Matplotlib\n",
    "\n",
    "Matplotlib is a project started in 2002 and is inspired by MATLAB plotting. "
   ]
  },
  {
   "cell_type": "code",
   "execution_count": null,
   "metadata": {
    "scrolled": false
   },
   "outputs": [],
   "source": [
    "import pandas as pd\n",
    "import numpy as np\n",
    "import matplotlib.pyplot as plt\n",
    "\n",
    "# code after a % are ipython specific instructions\n",
    "# this command tells Jupyter/ipython that we want to create the visualizations\n",
    "# inline in this notebook instead of as files to save.\n",
    "%matplotlib inline\n",
    "\n",
    "# an example data vector\n",
    "fib_series = [1,1,2,3,5,8,13,21,34]\n",
    "\n",
    "# here we run a simple plot command to create a line chart\n",
    "plt.plot(fib_series)"
   ]
  },
  {
   "cell_type": "markdown",
   "metadata": {},
   "source": [
    "The `.plot` command uses a [`figure`](https://matplotlib.org/api/_as_gen/matplotlib.figure.Figure.html#matplotlib.figure.Figure) to plot in. If no figure has been defined, it will automatically create one. If there is already a figure, it will plot to the latest figure. \n",
    "\n",
    "Here we create a figure manually: "
   ]
  },
  {
   "cell_type": "code",
   "execution_count": null,
   "metadata": {
    "scrolled": false
   },
   "outputs": [],
   "source": [
    "# we create a figure with size 10 by 10 inches\n",
    "fig = plt.figure(figsize=(10, 10))"
   ]
  },
  {
   "cell_type": "markdown",
   "metadata": {},
   "source": [
    "The figure by itself doesn't plot anyhing. We have to add a [`subplot`](https://matplotlib.org/api/_as_gen/matplotlib.figure.Figure.html#matplotlib.figure.Figure.add_subplot) to it. "
   ]
  },
  {
   "cell_type": "code",
   "execution_count": null,
   "metadata": {
    "scrolled": false
   },
   "outputs": [],
   "source": [
    "# figsize defines the size of the plot in inches - 10 wide by 6 high here. \n",
    "fig = plt.figure(figsize=(10, 6))\n",
    "# add a suplot to a grid of 1x1, return the 1st figure\n",
    "my_plot = fig.add_subplot(1,1,1)\n",
    "# plotting a data array\n",
    "my_plot.plot(fib_series)"
   ]
  },
  {
   "cell_type": "markdown",
   "metadata": {},
   "source": [
    "Here we add a title and axis labels: "
   ]
  },
  {
   "cell_type": "code",
   "execution_count": null,
   "metadata": {
    "scrolled": false
   },
   "outputs": [],
   "source": [
    "fig = plt.figure(figsize=(10, 8))\n",
    "my_plot = fig.add_subplot(1,1,1)\n",
    "fig.suptitle('My Line Chart', fontsize=12, fontweight='bold')\n",
    "my_plot.set_xlabel(\"My sequence\")\n",
    "my_plot.set_ylabel(\"My values\")\n",
    "my_plot.plot(fib_series)"
   ]
  },
  {
   "cell_type": "markdown",
   "metadata": {},
   "source": [
    "We can plot multiple line charts by calling plot multiple times on the same axis:"
   ]
  },
  {
   "cell_type": "code",
   "execution_count": null,
   "metadata": {},
   "outputs": [],
   "source": [
    "fig = plt.figure(figsize=(10, 8))\n",
    "my_plot = fig.add_subplot(1,1,1)\n",
    "fib_rising, = my_plot.plot(fib_series)\n",
    "fib_falling, = my_plot.plot(fib_series[::-1])\n",
    "constant, = my_plot.plot([10]*9)\n",
    "\n",
    "# Here's how we create a legend\n",
    "my_plot.legend((fib_rising, fib_falling, constant), (\"Fibonnaci Rising\", \"Fibonnaci Falling\", \"Constant\") )"
   ]
  },
  {
   "cell_type": "markdown",
   "metadata": {},
   "source": [
    "Alternatively, we can also call the plot function with multiple data series. \n",
    "\n",
    "Note that here we have to specify both x and y values, the y values were implicit earlier."
   ]
  },
  {
   "cell_type": "code",
   "execution_count": null,
   "metadata": {},
   "outputs": [],
   "source": [
    "fig = plt.figure(figsize=(10, 8))\n",
    "my_plot = fig.add_subplot(1,1,1)\n",
    "fig.suptitle('My Line Chart', fontsize=12, fontweight='bold')\n",
    "my_plot.set_xlabel(\"My sequence\")\n",
    "my_plot.set_ylabel(\"My values\")\n",
    "fib_rising, fib_falling, constant = my_plot.plot(range(9), fib_series, range(9), fib_series[::-1], range(9), [10]*9)\n",
    "my_plot.legend((fib_rising, fib_falling, constant), (\"Fibonnaci Rising\", \"Fibonnaci Falling\", \"Constant\") )"
   ]
  },
  {
   "cell_type": "markdown",
   "metadata": {},
   "source": [
    "Now let's create a figure with multiple subplots:"
   ]
  },
  {
   "cell_type": "code",
   "execution_count": null,
   "metadata": {
    "scrolled": false
   },
   "outputs": [],
   "source": [
    "fig = plt.figure(figsize=(10, 8))\n",
    "\n",
    "# create a subplot in a 2 by 2 grid, \n",
    "# return the subplot at position specified in third parameter\n",
    "# these subplots are often called \"axes\"\n",
    "sub_fig_1 = fig.add_subplot(2,2,1)\n",
    "sub_fig_2 = fig.add_subplot(2,2,2)\n",
    "sub_fig_3 = fig.add_subplot(2,2,3)\n",
    "\n",
    "# this will plot to the last figure used\n",
    "# you shouldn't do that but rather use explicit subplot references if you have them\n",
    "# k-- is a style option for a black dashed line\n",
    "plt.plot([3, 4, 6, 2], \"k--\")\n",
    "\n",
    "# here is how we can plot explicitly to subfigures\n",
    "sub_fig_1.plot(range(0,10))\n",
    "\n",
    "sub_fig_2.plot(fib_series)"
   ]
  },
  {
   "cell_type": "markdown",
   "metadata": {},
   "source": [
    "We can use the [`subplots`](https://matplotlib.org/api/_as_gen/matplotlib.figure.Figure.html?highlight=subplots#matplotlib.figure.Figure.subplots) shorthand to create multiple subplots that we can access form an array. "
   ]
  },
  {
   "cell_type": "code",
   "execution_count": null,
   "metadata": {},
   "outputs": [],
   "source": [
    "# using the variable axs for multiple Axes\n",
    "fig, axs = plt.subplots(2, 2)\n",
    "\n",
    "axs[0][0].plot([3, 4, 6, 2], \"k--\")\n",
    "axs[0][1].plot(range(0,10))\n",
    "axs[1][0].plot(fib_series)"
   ]
  },
  {
   "cell_type": "markdown",
   "metadata": {},
   "source": [
    "Or we can use tuples to unpack the array: "
   ]
  },
  {
   "cell_type": "code",
   "execution_count": null,
   "metadata": {},
   "outputs": [],
   "source": [
    "fig, ((ax1, ax2), (ax3, ax4)) = plt.subplots(2, 2)\n",
    "ax1.plot([3, 4, 6, 2], \"k--\")\n",
    "ax2.plot(range(0,10))\n",
    "ax3.plot(fib_series)"
   ]
  },
  {
   "cell_type": "markdown",
   "metadata": {},
   "source": [
    "Next, we will create a couple of different visualization techniques: "
   ]
  },
  {
   "cell_type": "markdown",
   "metadata": {},
   "source": [
    "Visualizations for Correlations\n",
    " \n",
    " * [Scatterplot](https://matplotlib.org/api/_as_gen/matplotlib.pyplot.scatter.html#matplotlib.pyplot.scatter)  \n",
    " \n",
    "Visualizations for raw data, one dimension \n",
    " * [Vertical Bar Chart](https://matplotlib.org/api/_as_gen/matplotlib.pyplot.bar.html#matplotlib.pyplot.bar)\n",
    " * [Horizontal Bar Chart](https://matplotlib.org/api/_as_gen/matplotlib.pyplot.barh.html#matplotlib.pyplot.barh)\n",
    " * [Pie Chart](https://matplotlib.org/api/_as_gen/matplotlib.pyplot.pie.html#matplotlib.pyplot.pie)\n",
    " \n",
    "Visualizations for distributions \n",
    " * [Boxplot](https://matplotlib.org/api/_as_gen/matplotlib.pyplot.boxplot.html#matplotlib.pyplot.boxplot)\n",
    " * [Histogram](https://matplotlib.org/api/_as_gen/matplotlib.pyplot.hist.html?highlight=hist#matplotlib.pyplot.hist)\n",
    " * [Violin Plot](https://matplotlib.org/api/_as_gen/matplotlib.axes.Axes.violinplot.html)"
   ]
  },
  {
   "cell_type": "code",
   "execution_count": null,
   "metadata": {
    "scrolled": false
   },
   "outputs": [],
   "source": [
    "large_dist = np.random.randn(400)\n",
    "small_dist = np.random.randn(400)*0.5\n",
    "\n",
    "\n",
    "# a function because we'll reuse these later\n",
    "def sample_figures():\n",
    "    # define a figure with subfigures in 2 rows and 3 columns\n",
    "    fig, subfigs = plt.subplots(2, 4, figsize=(14, 6))\n",
    "\n",
    "    # Scatterplot. Pass two arrays for your x and y values.\n",
    "    subfigs[0,0].scatter(range(0,10),range(10,0,-1))\n",
    "    \n",
    "    # Bar Chart. First array is x position, second is value (height) of data\n",
    "    subfigs[0,1].bar([1, 2, 3], [4, 2, 3])\n",
    "    \n",
    "    # Horizontal bar chart. \n",
    "    # First array contains y positions (expressed as range), second contains data values (lengths of bars), \n",
    "    # tick_label is an array of labels\n",
    "    subfigs[0,2].barh(range(0,4), [9, 7, 2, 3], tick_label=[\"a\", \"b\", \"c\", \"d\"])\n",
    "    \n",
    "    # You can also (but maybe you shouldn't) do pie charts. First array is shares of total. \n",
    "    # labels in the same order of data. autopct defines how to format the numerical labels \n",
    "    # (here, one digit after comma)\n",
    "    subfigs[0,3].pie([1, 5, 10], labels=[\"blackberry\", \"ios\", \"android\"], autopct='%1.1f%%')\n",
    "    \n",
    "    # Box plots visualizing two distributions with 100 items each. \n",
    "    subfigs[1,0].boxplot([large_dist, small_dist])\n",
    "    \n",
    "    # A histogram visualizes a distribution. It takes one array, we can specify bins as second parameter 'bins'\n",
    "    subfigs[1,1].hist(large_dist)\n",
    "    \n",
    "    # A violing plot also visualizes a distribution, using kernel density estimation.  \n",
    "    subfigs[1,2].violinplot([large_dist, small_dist])\n",
    "    \n",
    "    # a cleaner, horizontal version of a violin plot\n",
    "    subfigs[1,3].violinplot([large_dist, small_dist], showmeans=True,\n",
    "        showextrema=False, vert=False)\n",
    "\n",
    "sample_figures()"
   ]
  },
  {
   "cell_type": "markdown",
   "metadata": {},
   "source": [
    "### Heat Maps\n",
    "\n",
    "Heat maps encoded matrix/tabular data using color. There are two ways to implement heatmaps in Matplotlib:\n",
    "\n",
    " * [pcolor](https://matplotlib.org/devdocs/api/_as_gen/matplotlib.pyplot.pcolor.html)\n",
    " * [imshow](https://matplotlib.org/api/_as_gen/matplotlib.pyplot.imshow.html)\n",
    "\n",
    "imshow is used to display images (which are just matrices, where the pixels have a colorvalue). In practice, imshow and pcolor differ mainly in their coordinate system: the origin of imshow is at the top left (as is common for images), the origin of pcolor is at the bottom left.\n",
    "\n",
    "For heatmaps, we need a [color map](https://matplotlib.org/tutorials/colors/colormaps.html). Matplotlib has many color maps baked in, including those from http://colorbrewer.org."
   ]
  },
  {
   "cell_type": "code",
   "execution_count": null,
   "metadata": {
    "scrolled": false
   },
   "outputs": [],
   "source": [
    "# just a helper function to create some 2D data based on a gaussian kernel.\n",
    "def gkern(l=5, sig=1.):\n",
    "    \"\"\"\n",
    "    creates gaussian kernel with side length l and a sigma of sig\n",
    "    \"\"\"\n",
    "    ax = np.arange(-l // 2 + 1., l // 2 + 1.)\n",
    "    xx, yy = np.meshgrid(ax, ax)\n",
    "    kernel = np.exp(-(xx**2 + yy**2) / (2. * sig**2))\n",
    "    return kernel / np.sum(kernel)\n",
    "\n",
    "kernel = gkern(20, 5)"
   ]
  },
  {
   "cell_type": "code",
   "execution_count": null,
   "metadata": {
    "scrolled": false
   },
   "outputs": [],
   "source": [
    "plt.style.use('default')\n",
    "# select a blue color map\n",
    "heatmap = plt.pcolor(kernel, cmap=plt.cm.Blues)\n",
    "# plot the legend on the side\n",
    "plt.colorbar(heatmap)"
   ]
  },
  {
   "cell_type": "code",
   "execution_count": null,
   "metadata": {
    "scrolled": false
   },
   "outputs": [],
   "source": [
    "hm = plt.imshow(kernel, cmap='hot')\n",
    "plt.colorbar(hm)"
   ]
  },
  {
   "cell_type": "code",
   "execution_count": null,
   "metadata": {
    "scrolled": false
   },
   "outputs": [],
   "source": [
    "# a diverging color map from Color Brewer\n",
    "heatmap = plt.pcolor(kernel, cmap=plt.cm.YlGn)\n",
    "plt.colorbar(heatmap)"
   ]
  },
  {
   "cell_type": "markdown",
   "metadata": {},
   "source": [
    "### Styling\n",
    "\n",
    "Matplotlib has [different styles](https://matplotlib.org/devdocs/gallery/style_sheets/style_sheets_reference.html) that we can apply globally.\n",
    "\n",
    "Here are a couple of examples:"
   ]
  },
  {
   "cell_type": "code",
   "execution_count": null,
   "metadata": {
    "scrolled": false
   },
   "outputs": [],
   "source": [
    "# ggplot style based on the popular R plotting library \n",
    "plt.style.use('ggplot')\n",
    "sample_figures()"
   ]
  },
  {
   "cell_type": "code",
   "execution_count": null,
   "metadata": {
    "scrolled": false
   },
   "outputs": [],
   "source": [
    "# style based on the seaborn library\n",
    "plt.style.use('seaborn')\n",
    "sample_figures()"
   ]
  },
  {
   "cell_type": "code",
   "execution_count": null,
   "metadata": {
    "scrolled": false
   },
   "outputs": [],
   "source": [
    "plt.style.use('grayscale')\n",
    "sample_figures()"
   ]
  },
  {
   "cell_type": "markdown",
   "metadata": {},
   "source": [
    "## Plotting with Pandas\n",
    "\n",
    "Pandas has good [built-in plotting capabilities](http://pandas.pydata.org/pandas-docs/version/0.15.0/visualization.html). We've seen some already in previous lectures and in the homeworks."
   ]
  },
  {
   "cell_type": "markdown",
   "metadata": {},
   "source": [
    "We're going to use the movies dataset to demonstrate plots and start of by reproducing some of the work you did for your homework: "
   ]
  },
  {
   "cell_type": "code",
   "execution_count": null,
   "metadata": {
    "scrolled": false
   },
   "outputs": [],
   "source": [
    "plt.style.use('ggplot')\n",
    "pd_movies = pd.read_csv('movies.csv')\n",
    "pd_movies.head()"
   ]
  },
  {
   "cell_type": "markdown",
   "metadata": {},
   "source": [
    "### Line Chart"
   ]
  },
  {
   "cell_type": "code",
   "execution_count": null,
   "metadata": {
    "scrolled": false
   },
   "outputs": [],
   "source": [
    "# subset to major movies\n",
    "major_movies = pd_movies[pd_movies['votes'] >= 500]\n",
    "# show yearly number of moves\n",
    "yearly_movies = major_movies[\"year\"].value_counts().sort_index()"
   ]
  },
  {
   "cell_type": "code",
   "execution_count": null,
   "metadata": {
    "scrolled": false
   },
   "outputs": [],
   "source": [
    "# you can also do this, but it will be deprecated: \n",
    "# yearly_movies.plot()\n",
    "yearly_movies.plot.line()"
   ]
  },
  {
   "cell_type": "markdown",
   "metadata": {},
   "source": [
    "### Histogram"
   ]
  },
  {
   "cell_type": "markdown",
   "metadata": {},
   "source": [
    "This is the right way to do this: "
   ]
  },
  {
   "cell_type": "code",
   "execution_count": null,
   "metadata": {
    "scrolled": false
   },
   "outputs": [],
   "source": [
    "major_movies[\"rating\"].plot.hist()"
   ]
  },
  {
   "cell_type": "markdown",
   "metadata": {},
   "source": [
    "But there are some legacy methods: "
   ]
  },
  {
   "cell_type": "code",
   "execution_count": null,
   "metadata": {
    "scrolled": false
   },
   "outputs": [],
   "source": [
    "major_movies.hist(column=\"rating\")"
   ]
  },
  {
   "cell_type": "markdown",
   "metadata": {},
   "source": [
    "Let's load a dataset with multiple dimensions on the same scale, and plot it as histograms. "
   ]
  },
  {
   "cell_type": "code",
   "execution_count": null,
   "metadata": {
    "scrolled": false
   },
   "outputs": [],
   "source": [
    "penguins = pd.read_csv('https://raw.githubusercontent.com/mwaskom/seaborn-data/master/penguins.csv')\n",
    "\n",
    "# Clean dataset and put it in more similar size units for the following plots only\n",
    "penguins = penguins.dropna()\n",
    "penguins['body_mass_100g'] = penguins['body_mass_g'] * 0.01\n",
    "if 'body_mass_g' in penguins.columns:\n",
    "      penguins = penguins.drop(['body_mass_g'], axis=1)\n",
    "penguins\n"
   ]
  },
  {
   "cell_type": "code",
   "execution_count": null,
   "metadata": {},
   "outputs": [],
   "source": [
    "penguins.plot.hist(alpha=0.7)"
   ]
  },
  {
   "cell_type": "markdown",
   "metadata": {},
   "source": [
    "We can also plot KDEs: "
   ]
  },
  {
   "cell_type": "code",
   "execution_count": null,
   "metadata": {
    "scrolled": false
   },
   "outputs": [],
   "source": [
    "major_movies[\"rating\"].plot.kde()"
   ]
  },
  {
   "cell_type": "code",
   "execution_count": null,
   "metadata": {
    "scrolled": false
   },
   "outputs": [],
   "source": [
    "penguins.plot.kde()"
   ]
  },
  {
   "cell_type": "markdown",
   "metadata": {},
   "source": [
    "### Bar Chart\n",
    "\n",
    "We'll show a bar chart for the first 10 movies"
   ]
  },
  {
   "cell_type": "code",
   "execution_count": null,
   "metadata": {
    "scrolled": false
   },
   "outputs": [],
   "source": [
    "subset = major_movies.set_index(\"title\")\n",
    "subset = subset.iloc[0:10]\n",
    "subset"
   ]
  },
  {
   "cell_type": "code",
   "execution_count": null,
   "metadata": {
    "scrolled": false
   },
   "outputs": [],
   "source": [
    "subset[\"rating\"].plot(kind=\"bar\", title=\"Select Movies\")"
   ]
  },
  {
   "cell_type": "markdown",
   "metadata": {},
   "source": [
    "We can create grouped bar charts. The values should be on the same scale."
   ]
  },
  {
   "cell_type": "code",
   "execution_count": null,
   "metadata": {
    "scrolled": false
   },
   "outputs": [],
   "source": [
    "pulse = pd.DataFrame({\n",
    "        \"BP1\":[140, 120, 110],\n",
    "        \"BP2\":[150, 130, 110]\n",
    "    })\n",
    "pulse.index = [\"Robin\", \"Katie\", \"Chuck\"]\n",
    "\n",
    "pulse.plot(kind=\"barh\")"
   ]
  },
  {
   "cell_type": "markdown",
   "metadata": {},
   "source": [
    "Equally, we can create stacked bar charts: "
   ]
  },
  {
   "cell_type": "code",
   "execution_count": null,
   "metadata": {
    "scrolled": false
   },
   "outputs": [],
   "source": [
    "pulse.plot(kind=\"barh\", stacked=\"True\")"
   ]
  },
  {
   "cell_type": "markdown",
   "metadata": {},
   "source": [
    "### Scatterplot\n",
    "\n",
    "We can plot a scatterplot, comparing ratings of movies over time:"
   ]
  },
  {
   "cell_type": "code",
   "execution_count": null,
   "metadata": {
    "scrolled": false
   },
   "outputs": [],
   "source": [
    "plt.figure(figsize=(10, 10))\n",
    "major_movies.plot.scatter(\"year\", \"rating\", figsize=(15, 10))"
   ]
  },
  {
   "cell_type": "markdown",
   "metadata": {},
   "source": [
    "However, here we might overplot some points in more recent years. We can fix that with an alpha value:"
   ]
  },
  {
   "cell_type": "code",
   "execution_count": null,
   "metadata": {
    "scrolled": false
   },
   "outputs": [],
   "source": [
    "major_movies.plot.scatter(\"year\", \"rating\", figsize=(15, 10), alpha=0.4)"
   ]
  },
  {
   "cell_type": "markdown",
   "metadata": {},
   "source": [
    "### Box Plot\n",
    "\n",
    "Let's plot a box plot of the ratings"
   ]
  },
  {
   "cell_type": "code",
   "execution_count": null,
   "metadata": {
    "scrolled": false
   },
   "outputs": [],
   "source": [
    "major_movies[\"rating\"].plot.box()"
   ]
  },
  {
   "cell_type": "markdown",
   "metadata": {},
   "source": [
    "We can also create boxplots for the data grouped by another column. Here, we create a rating box plot for each year: "
   ]
  },
  {
   "cell_type": "code",
   "execution_count": null,
   "metadata": {
    "scrolled": false
   },
   "outputs": [],
   "source": [
    "#this is styling information\n",
    "flierprops = dict(marker='o', markerfacecolor='steelblue', markersize=2,\n",
    "                  linestyle='none')\n",
    "major_movies.boxplot(column=[\"rating\"], by=[\"year\"], rot=90, figsize=(15,10), flierprops=flierprops)"
   ]
  },
  {
   "cell_type": "markdown",
   "metadata": {},
   "source": [
    "## Scatterplot Matrix \n",
    "\n",
    "We frequently will look at high-dimensional datasets. We can do that conveniently with a scatterplot matrix:"
   ]
  },
  {
   "cell_type": "code",
   "execution_count": null,
   "metadata": {
    "scrolled": false
   },
   "outputs": [],
   "source": [
    "# import the scatter_matrix functionality\n",
    "from pandas.plotting import scatter_matrix"
   ]
  },
  {
   "cell_type": "code",
   "execution_count": null,
   "metadata": {
    "scrolled": false
   },
   "outputs": [],
   "source": [
    "scatter_matrix(major_movies[[\"year\", \"length\", \"rating\"]], alpha = 0.2, figsize=(10, 10))\n",
    "# this supresses the output of the scatter matrix\n",
    "print()"
   ]
  },
  {
   "cell_type": "markdown",
   "metadata": {},
   "source": [
    "Here the cells with the same variables in columns and rows are shown as histograms. We can also use KDEs instead: "
   ]
  },
  {
   "cell_type": "code",
   "execution_count": null,
   "metadata": {
    "scrolled": false
   },
   "outputs": [],
   "source": [
    "scatter_matrix(major_movies[[\"year\", \"length\", \"rating\"]], diagonal=\"kde\", alpha = 0.2, figsize=(10, 10))\n",
    "print()"
   ]
  },
  {
   "cell_type": "markdown",
   "metadata": {},
   "source": [
    "We can also use a categorical label to color code a value. To do that, we have to create a series of the length of the dataset that defines the color for each row: "
   ]
  },
  {
   "cell_type": "code",
   "execution_count": null,
   "metadata": {
    "scrolled": false
   },
   "outputs": [],
   "source": [
    "color_list=penguins[\"species\"].map({\"Chinstrap\":\"#ca0020\", \"Gentoo\":\"#0571b0\", \"Adelie\":\"#5e3c99\"})\n",
    "color_list.head()"
   ]
  },
  {
   "cell_type": "code",
   "execution_count": null,
   "metadata": {
    "scrolled": false
   },
   "outputs": [],
   "source": [
    "scatter_matrix(penguins, color=color_list, figsize=(10,10))\n",
    "print()"
   ]
  },
  {
   "cell_type": "markdown",
   "metadata": {},
   "source": [
    "# Seaborn\n",
    "\n",
    "We often have a chart in mind, and we don't have to be picky about how to achieve it in Python. [Seaborn](https://seaborn.pydata.org/introduction.html) is a good library that has a lot of very useful advanced plots built in that are tricky to re-create with Matplotlib. \n",
    "\n",
    "\n",
    "We won't cover all the plots here, just give you a flavor of what's possible. "
   ]
  },
  {
   "cell_type": "code",
   "execution_count": null,
   "metadata": {},
   "outputs": [],
   "source": [
    "# Import seaborn\n",
    "import seaborn as sns\n",
    "\n",
    "# Apply the default theme\n",
    "sns.set_theme()\n",
    "\n",
    "# Load an example dataset into a pandas dataframe. \n",
    "tips = sns.load_dataset(\"tips\")\n",
    "tips"
   ]
  },
  {
   "cell_type": "markdown",
   "metadata": {},
   "source": [
    "We start off with a scatterplot, which Seaborn calls (oddly?) [\"Relationship Plot\"](https://seaborn.pydata.org/generated/seaborn.relplot.html#seaborn.relplot)."
   ]
  },
  {
   "cell_type": "code",
   "execution_count": null,
   "metadata": {},
   "outputs": [],
   "source": [
    "# Create a visualization\n",
    "sns.relplot(\n",
    "    data=tips,\n",
    "    x=\"total_bill\", y=\"tip\",\n",
    "    hue=\"smoker\", size=\"size\",\n",
    ")"
   ]
  },
  {
   "cell_type": "markdown",
   "metadata": {},
   "source": [
    "We can facet the plots by a categorical column in the dataset:"
   ]
  },
  {
   "cell_type": "code",
   "execution_count": null,
   "metadata": {},
   "outputs": [],
   "source": [
    "# Also try faceting by \"time\"\n",
    "sns.relplot(\n",
    "    data=tips,\n",
    "    x=\"total_bill\", y=\"tip\", col=\"day\",\n",
    "    style=\"smoker\", hue=\"smoker\")"
   ]
  },
  {
   "cell_type": "markdown",
   "metadata": {},
   "source": [
    "Very useful are [categorical plots](https://seaborn.pydata.org/generated/seaborn.catplot.html#seaborn.catplot). Here's a strip plot:"
   ]
  },
  {
   "cell_type": "code",
   "execution_count": null,
   "metadata": {},
   "outputs": [],
   "source": [
    "sns.catplot(data=tips, kind=\"strip\", x=\"day\", y=\"total_bill\", hue=\"smoker\", dodge=True)"
   ]
  },
  {
   "cell_type": "markdown",
   "metadata": {},
   "source": [
    "And a \"Beeswarm\" plot, that avoids overlaps:"
   ]
  },
  {
   "cell_type": "code",
   "execution_count": null,
   "metadata": {},
   "outputs": [],
   "source": [
    "sns.catplot(data=tips, kind=\"swarm\", x=\"day\", y=\"total_bill\", hue=\"smoker\", dodge=True)"
   ]
  },
  {
   "cell_type": "markdown",
   "metadata": {},
   "source": [
    "And a Violin Plot that is faceted: "
   ]
  },
  {
   "cell_type": "code",
   "execution_count": null,
   "metadata": {},
   "outputs": [],
   "source": [
    "sns.catplot(data=tips, kind=\"violin\", x=\"day\", y=\"total_bill\", hue=\"smoker\", split=True)"
   ]
  },
  {
   "cell_type": "markdown",
   "metadata": {},
   "source": [
    "For datasets with categories, we can use \"joint plots\" to get an overview of the distributions and their relationships: "
   ]
  },
  {
   "cell_type": "code",
   "execution_count": null,
   "metadata": {},
   "outputs": [],
   "source": [
    "penguins = sns.load_dataset(\"penguins\")\n",
    "sns.jointplot(data=penguins, x=\"flipper_length_mm\", y=\"bill_length_mm\", hue=\"species\")"
   ]
  },
  {
   "cell_type": "markdown",
   "metadata": {},
   "source": [
    "And we can create [scatterplot matrices (pairplots in Seaborn)](https://seaborn.pydata.org/generated/seaborn.pairplot.html#seaborn.pairplot) to show relationships:"
   ]
  },
  {
   "cell_type": "code",
   "execution_count": null,
   "metadata": {},
   "outputs": [],
   "source": [
    "sns.pairplot(data=penguins, hue=\"species\")"
   ]
  },
  {
   "cell_type": "markdown",
   "metadata": {
    "colab_type": "text",
    "id": "Wx9Z15uPxb1R"
   },
   "source": [
    "# Altair\n",
    "\n",
    "[Altair](https://altair-viz.github.io/) is a modern plotting library based on Vega. We're not going to go into details, but we've compiled a couple of examples below. \n",
    "\n",
    "In contrast to Seaborn, it's not based on Matplotlib but renders directly to the web browser. \n",
    "\n",
    "You will likely have to install Altair: \n",
    "\n",
    "`\n",
    "$ pip install altair vega_datasets\n",
    "`"
   ]
  },
  {
   "cell_type": "code",
   "execution_count": null,
   "metadata": {
    "colab": {},
    "colab_type": "code",
    "id": "9Cx_U8f5NZM2",
    "scrolled": false
   },
   "outputs": [],
   "source": [
    "import altair as alt"
   ]
  },
  {
   "cell_type": "code",
   "execution_count": null,
   "metadata": {
    "colab": {
     "base_uri": "https://localhost:8080/",
     "height": 206
    },
    "colab_type": "code",
    "id": "70RIYTlDxeSE",
    "outputId": "0652b692-ae32-4c72-fa73-2f8908df14a0",
    "scrolled": false
   },
   "outputs": [],
   "source": [
    "movies = pd.read_csv('http://vcg.github.io/upset/data/movies/movies.csv', sep=';')\n",
    "movies.head()\n",
    "\n",
    "movies_genre = movies.copy(deep=True)\n",
    "movies_genre['Genre'] = movies.loc[:,'Action':'Western'].idxmax(1)\n",
    "movies_genre = movies_genre[['Name', 'Genre', 'ReleaseDate', 'AvgRating', 'Watches']]\n",
    "\n",
    "movies_genre.head()"
   ]
  },
  {
   "cell_type": "markdown",
   "metadata": {
    "colab_type": "text",
    "id": "bGeaiM2ayoWH"
   },
   "source": [
    "## Basic Charts"
   ]
  },
  {
   "cell_type": "code",
   "execution_count": null,
   "metadata": {
    "colab": {
     "base_uri": "https://localhost:8080/",
     "height": 52
    },
    "colab_type": "code",
    "id": "d6ZtZaEHxzOy",
    "outputId": "85ef7574-b105-423a-d3e0-683f20f2e835",
    "scrolled": false
   },
   "outputs": [],
   "source": [
    "alt.Chart(movies_genre).mark_point()"
   ]
  },
  {
   "cell_type": "markdown",
   "metadata": {
    "colab_type": "text",
    "id": "yfS9GXnnzPRt"
   },
   "source": [
    "The above chart is not really useful, since it just shows all the movies on top of each other. Each row in the dataset is a `mark`.\n",
    "\n",
    "To make this into an useful chart,  we have to encode the columns.\n",
    "\n",
    "We will encode AvgRating along `x-axis`."
   ]
  },
  {
   "cell_type": "code",
   "execution_count": null,
   "metadata": {
    "colab": {
     "base_uri": "https://localhost:8080/",
     "height": 84
    },
    "colab_type": "code",
    "id": "WxUbsLJ2zMc0",
    "outputId": "e4334cad-7c3e-4cc0-c15a-e2ad13cb81ab",
    "scrolled": false
   },
   "outputs": [],
   "source": [
    "alt.Chart(movies_genre).mark_point().encode(\n",
    "  x='AvgRating'\n",
    ")"
   ]
  },
  {
   "cell_type": "markdown",
   "metadata": {
    "colab_type": "text",
    "id": "t2sVkHkg0QlY"
   },
   "source": [
    "We can use other marks like 'point'.\n",
    "\n",
    "There are a number of available marks that you can use; some of the more common are the following:\n",
    "\n",
    "* ``mark_point()`` \n",
    "* ``mark_circle()``\n",
    "* ``mark_square()``\n",
    "* ``mark_line()``\n",
    "* ``mark_area()``\n",
    "* ``mark_bar()``\n",
    "* ``mark_tick()``\n",
    "\n",
    "You can get a complete list of ``mark_*`` methods using Jupyter's tab-completion feature: in any cell just type:\n",
    "\n",
    "    alt.Chart.mark_\n",
    "    \n",
    "Maybe a tick instead of a point is more appropriate here:"
   ]
  },
  {
   "cell_type": "code",
   "execution_count": null,
   "metadata": {},
   "outputs": [],
   "source": [
    "alt.Chart(movies_genre).mark_tick().encode(\n",
    "  x='AvgRating'\n",
    ")"
   ]
  },
  {
   "cell_type": "markdown",
   "metadata": {
    "colab_type": "text",
    "id": "t2sVkHkg0QlY"
   },
   "source": [
    "### Encodings\n",
    "\n",
    "The next step is to add *visual encoding channels* (or *encodings* for short) to the chart. An encoding channel specifies how a given data column should be mapped onto the visual properties of the visualization.\n",
    "Some of the more frequently used visual encodings are listed here:\n",
    "\n",
    "* ``x``: x-axis value\n",
    "* ``y``: y-axis value\n",
    "* ``color``: color of the mark\n",
    "* ``opacity``: transparency/opacity of the mark\n",
    "* ``shape``: shape of the mark\n",
    "* ``size``: size of the mark\n",
    "* ``row``: row within a grid of facet plots\n",
    "* ``column``: column within a grid of facet plots\n",
    "\n",
    "For a complete list of these encodings, see the [Encodings](https://altair-viz.github.io/user_guide/encoding.html) section of the documentation.\n",
    "\n",
    "Visual encodings can be created with the `encode()` method of the `Chart` object. "
   ]
  },
  {
   "cell_type": "code",
   "execution_count": null,
   "metadata": {
    "colab": {
     "base_uri": "https://localhost:8080/",
     "height": 84
    },
    "colab_type": "code",
    "id": "j7KkkEdK0OAa",
    "outputId": "c5101721-7d66-4b7c-b26a-cd97dad7e544",
    "scrolled": false
   },
   "outputs": [],
   "source": [
    "alt.Chart(movies_genre).mark_point().encode(\n",
    "  y='AvgRating', size=\"Watches\"\n",
    ")"
   ]
  },
  {
   "cell_type": "markdown",
   "metadata": {
    "colab_type": "text",
    "id": "akABKvogS37e"
   },
   "source": [
    "One of the central ideas of Altair is that the library will **choose good defaults for your data type**.\n",
    "\n",
    "The basic data types supported by Altair are as follows:\n",
    "\n",
    "<table>\n",
    "  <tr>\n",
    "    <th>Data Type</th>\n",
    "    <th>Code</th>\n",
    "    <th>Description</th>\n",
    "  </tr>\n",
    "  <tr>\n",
    "    <td>quantitative</td>\n",
    "    <td>Q</td>\n",
    "    <td>Numerical quantity (real-valued)</td>\n",
    "  </tr>\n",
    "  <tr>\n",
    "    <td>nominal</td>\n",
    "    <td>N</td>\n",
    "    <td>Name / Unordered categorical</td>\n",
    "  </tr>\n",
    "  <tr>\n",
    "    <td>ordinal</td>\n",
    "    <td>O</td>\n",
    "    <td>Ordered categorial</td>\n",
    "  </tr>\n",
    "  <tr>\n",
    "    <td>temporal</td>\n",
    "    <td>T</td>\n",
    "    <td>Date/time</td>\n",
    "  </tr>\n",
    "</table>\n",
    "\n",
    "When you specify data as a pandas dataframe, these types are **automatically determined** by Altair."
   ]
  },
  {
   "cell_type": "markdown",
   "metadata": {
    "colab_type": "text",
    "id": "8NCavTED0fA6"
   },
   "source": [
    "We can encode another variable along Y-axis to turn it into a scatter plot.\n",
    "\n",
    "Let us plot `ReleaseDate` on X-axis and `AvgRating` on Y-axis."
   ]
  },
  {
   "cell_type": "code",
   "execution_count": null,
   "metadata": {
    "colab": {
     "base_uri": "https://localhost:8080/",
     "height": 369
    },
    "colab_type": "code",
    "id": "UUgVZKc-0W6p",
    "outputId": "b2b9a8c8-1c34-4a95-da88-5e95061de18a",
    "scrolled": false
   },
   "outputs": [],
   "source": [
    "alt.Chart(movies_genre).mark_point().encode(\n",
    "  x = 'ReleaseDate',\n",
    "  y = 'AvgRating'\n",
    ")"
   ]
  },
  {
   "cell_type": "markdown",
   "metadata": {
    "colab_type": "text",
    "id": "Z3HUC0Ro1Alw"
   },
   "source": [
    "Having axis start from 0 does not always makes sense, we can turn off this behaviour.\n",
    "\n",
    "We will use [`altair.Scale`](https://altair-viz.github.io/user_guide/generated/core/altair.Scale.html), [altair.X](https://altair-viz.github.io/user_guide/generated/channels/altair.X.html), and [altair.Y](https://altair-viz.github.io/user_guide/generated/channels/altair.Y.html)"
   ]
  },
  {
   "cell_type": "code",
   "execution_count": null,
   "metadata": {
    "colab": {
     "base_uri": "https://localhost:8080/",
     "height": 369
    },
    "colab_type": "code",
    "id": "6uN-f7Sm2EOf",
    "outputId": "06c3d7c5-a205-4ab6-881e-4aa63c9950d0",
    "scrolled": false
   },
   "outputs": [],
   "source": [
    "alt.Chart(movies_genre).mark_point().encode(\n",
    "  alt.X('ReleaseDate', scale = alt.Scale(zero = False)),\n",
    "  alt.Y('AvgRating', scale = alt.Scale(zero = False))\n",
    ")"
   ]
  },
  {
   "cell_type": "markdown",
   "metadata": {
    "colab_type": "text",
    "id": "9w1ZCuOT24eh"
   },
   "source": [
    "We can replace this `point` mark with `circle`"
   ]
  },
  {
   "cell_type": "code",
   "execution_count": null,
   "metadata": {
    "colab": {
     "base_uri": "https://localhost:8080/",
     "height": 369
    },
    "colab_type": "code",
    "id": "rL1zzSLA29KO",
    "outputId": "2601d116-0a3d-43f6-8099-763f4919c99f",
    "scrolled": false
   },
   "outputs": [],
   "source": [
    "alt.Chart(movies_genre).mark_circle().encode(\n",
    "  alt.X('ReleaseDate', scale = alt.Scale(zero = False)),\n",
    "  alt.Y('AvgRating', scale = alt.Scale(zero = False))\n",
    ")"
   ]
  },
  {
   "cell_type": "markdown",
   "metadata": {
    "colab_type": "text",
    "id": "FKiDoVRO7beE"
   },
   "source": [
    "We can encode another variable as color of the marks. We will use `Children`, `Horror`,  and `Documentary` genres only."
   ]
  },
  {
   "cell_type": "code",
   "execution_count": null,
   "metadata": {
    "colab": {
     "base_uri": "https://localhost:8080/",
     "height": 369
    },
    "colab_type": "code",
    "id": "MWxC7bzd7ocy",
    "outputId": "6e196766-885c-43ad-8b66-cdca6316159f",
    "scrolled": false
   },
   "outputs": [],
   "source": [
    "select_genres = movies_genre[movies_genre['Genre'].isin(['Children', 'Horror', 'Documentary'])]\n",
    "\n",
    "alt.Chart(select_genres).mark_circle().encode(\n",
    "  alt.X('ReleaseDate', scale = alt.Scale(zero = False)),\n",
    "  alt.Y('AvgRating', scale = alt.Scale(zero = False)),\n",
    "  color='Genre'\n",
    ")"
   ]
  },
  {
   "cell_type": "markdown",
   "metadata": {
    "colab_type": "text",
    "id": "sRWLi4aF8IsC"
   },
   "source": [
    "We can also color using a continous variable, let us try `Watches`."
   ]
  },
  {
   "cell_type": "code",
   "execution_count": null,
   "metadata": {
    "colab": {
     "base_uri": "https://localhost:8080/",
     "height": 369
    },
    "colab_type": "code",
    "id": "Q5pbkTCb8OY7",
    "outputId": "7c7f1250-c425-4cad-8e7d-75de2c729697",
    "scrolled": false
   },
   "outputs": [],
   "source": [
    "alt.Chart(select_genres).mark_circle().encode(\n",
    "  alt.X('ReleaseDate', scale = alt.Scale(zero = False)),\n",
    "  alt.Y('AvgRating', scale = alt.Scale(zero = False)),\n",
    "  color='Watches'\n",
    ")"
   ]
  },
  {
   "cell_type": "markdown",
   "metadata": {
    "colab_type": "text",
    "id": "dLXI9ZaJ8R0T"
   },
   "source": [
    "In both cases, `Altair` automatically selects proper colormaps"
   ]
  },
  {
   "cell_type": "markdown",
   "metadata": {
    "colab_type": "text",
    "id": "bH2-QpAH8ltV"
   },
   "source": [
    "## Binning and Aggregation\n",
    "\n",
    "We can bin our data and create histograms.\n",
    "\n",
    "Altair does not have special functions to create a histogram like matplotlib.\n",
    "\n",
    "We use `alt.X()` for the x encoding and `count()`  for y.\n",
    "\n",
    "We will also change the `mark` type to `bar`."
   ]
  },
  {
   "cell_type": "code",
   "execution_count": null,
   "metadata": {
    "colab": {
     "base_uri": "https://localhost:8080/",
     "height": 364
    },
    "colab_type": "code",
    "id": "AtFy3k-o8qGP",
    "outputId": "b8a9e46d-cd30-4826-fca1-42fdc14e0d95",
    "scrolled": false
   },
   "outputs": [],
   "source": [
    "alt.Chart(movies_genre).mark_bar().encode(\n",
    "  x = alt.X('AvgRating', bin=True),\n",
    "  y = 'count()'\n",
    ")"
   ]
  },
  {
   "cell_type": "markdown",
   "metadata": {
    "colab_type": "text",
    "id": "Hiza3MFU9yrY"
   },
   "source": [
    "We can control the bins using `altair.Bin`"
   ]
  },
  {
   "cell_type": "code",
   "execution_count": null,
   "metadata": {
    "colab": {
     "base_uri": "https://localhost:8080/",
     "height": 369
    },
    "colab_type": "code",
    "id": "Oxae-AIU93H4",
    "outputId": "0bb6f7e9-9ccf-4adf-abe7-f762ae31c242",
    "scrolled": false
   },
   "outputs": [],
   "source": [
    "alt.Chart(movies_genre).mark_bar().encode(\n",
    "  x = alt.X('AvgRating', bin=alt.Bin(maxbins = 5)),\n",
    "  y = 'count()',\n",
    ")"
   ]
  },
  {
   "cell_type": "markdown",
   "metadata": {
    "colab_type": "text",
    "id": "voR-mUJg-Xon"
   },
   "source": [
    "The data will be automatically grouped within each bin, if we apply another encoding e.g. `color`."
   ]
  },
  {
   "cell_type": "code",
   "execution_count": null,
   "metadata": {
    "colab": {
     "base_uri": "https://localhost:8080/",
     "height": 364
    },
    "colab_type": "code",
    "id": "0uGGd7aD-gy2",
    "outputId": "560a8615-c830-4b47-ea87-19484a169753",
    "scrolled": false
   },
   "outputs": [],
   "source": [
    "alt.Chart(select_genres).mark_bar().encode(\n",
    "  x = alt.X('AvgRating', bin=alt.Bin(maxbins = 5)),\n",
    "  y = 'count()',\n",
    "  color = 'Genre'\n",
    ")"
   ]
  },
  {
   "cell_type": "markdown",
   "metadata": {
    "colab_type": "text",
    "id": "i-xuQVip-uGg"
   },
   "source": [
    "We can make a seperate plot for each category if we use `column` encoding."
   ]
  },
  {
   "cell_type": "code",
   "execution_count": null,
   "metadata": {
    "colab": {
     "base_uri": "https://localhost:8080/",
     "height": 417
    },
    "colab_type": "code",
    "id": "vjI8YktS-06L",
    "outputId": "2285713f-a9b5-4738-e363-b517dcb96540",
    "scrolled": false
   },
   "outputs": [],
   "source": [
    "alt.Chart(select_genres).mark_bar().encode(\n",
    "  x = alt.X('AvgRating', bin=alt.Bin(maxbins = 5)),\n",
    "  y = 'count()',\n",
    "  color = 'Genre',\n",
    "  column = 'Genre'\n",
    ")"
   ]
  },
  {
   "cell_type": "markdown",
   "metadata": {
    "colab_type": "text",
    "id": "-gDODT0o_oMk"
   },
   "source": [
    "## Line Chart\n",
    "\n",
    "We will plot mean average rating for each year.\n",
    "\n"
   ]
  },
  {
   "cell_type": "code",
   "execution_count": null,
   "metadata": {
    "colab": {
     "base_uri": "https://localhost:8080/",
     "height": 369
    },
    "colab_type": "code",
    "id": "9DJsULoq_qSt",
    "outputId": "29fe1fe5-3ea1-4459-eab2-2caf46e462cc",
    "scrolled": false
   },
   "outputs": [],
   "source": [
    "alt.Chart(movies_genre).mark_line().encode(\n",
    "  x = 'ReleaseDate',\n",
    "  y = alt.X('mean(AvgRating)', scale=alt.Scale(zero=False))\n",
    ")"
   ]
  },
  {
   "cell_type": "markdown",
   "metadata": {},
   "source": [
    "## Compound Charts\n",
    "\n",
    "When we want to use [compound charts], Altair has a special syntax for that. First we define two charts, hist and scatter:"
   ]
  },
  {
   "cell_type": "code",
   "execution_count": null,
   "metadata": {},
   "outputs": [],
   "source": [
    "hist = alt.Chart(select_genres).mark_bar().encode(\n",
    "  x = 'count()',\n",
    "  y = 'Genre',\n",
    "  color = 'Genre'\n",
    ").properties(\n",
    "  width = 400,\n",
    "  height = 100\n",
    ")\n",
    "\n",
    "scatter = alt.Chart(select_genres).mark_circle().encode(\n",
    "  alt.X('ReleaseDate', scale = alt.Scale(zero = False)),\n",
    "  alt.Y('AvgRating', scale = alt.Scale(zero = False)),\n",
    "  color='Genre'\n",
    ")"
   ]
  },
  {
   "cell_type": "markdown",
   "metadata": {},
   "source": [
    "Then we can call the `vconcat` (vertical concatenation) function:"
   ]
  },
  {
   "cell_type": "code",
   "execution_count": null,
   "metadata": {},
   "outputs": [],
   "source": [
    "alt.vconcat(hist, scatter)"
   ]
  },
  {
   "cell_type": "markdown",
   "metadata": {},
   "source": [
    "Alternatively, we can use the `&` operator, which is overloaded to do `vconcat`: "
   ]
  },
  {
   "cell_type": "code",
   "execution_count": null,
   "metadata": {},
   "outputs": [],
   "source": [
    "hist & scatter"
   ]
  },
  {
   "cell_type": "markdown",
   "metadata": {},
   "source": [
    "If we want horizontal concatenation, we can do this with `hconcat` or the `|` operator."
   ]
  },
  {
   "cell_type": "code",
   "execution_count": null,
   "metadata": {},
   "outputs": [],
   "source": [
    "scatter | hist "
   ]
  },
  {
   "cell_type": "markdown",
   "metadata": {},
   "source": [
    "Finally, we can layer two charts on top of each other, using the `layer()` function or the `+` operator. "
   ]
  },
  {
   "cell_type": "code",
   "execution_count": null,
   "metadata": {},
   "outputs": [],
   "source": [
    "year_hist = alt.Chart(select_genres).mark_bar().encode(\n",
    "  x = 'ReleaseDate',\n",
    "  y = 'count()'\n",
    ").properties(\n",
    "  width = 400,\n",
    "  height = 300\n",
    ")\n",
    "\n",
    "(year_hist + scatter).resolve_scale(\n",
    "    y = 'independent'\n",
    ")"
   ]
  },
  {
   "cell_type": "markdown",
   "metadata": {
    "colab_type": "text",
    "id": "CU4B387N3DQM"
   },
   "source": [
    "## Interactions\n",
    "\n",
    "We can add simple interactions using the `interactive` function.\n",
    "\n",
    "This enables simple interactions like zooming and panning."
   ]
  },
  {
   "cell_type": "code",
   "execution_count": null,
   "metadata": {
    "colab": {
     "base_uri": "https://localhost:8080/",
     "height": 369
    },
    "colab_type": "code",
    "id": "vrKnwAYv3EmK",
    "outputId": "fcf95127-c542-4449-f603-99602b20e49b",
    "scrolled": false
   },
   "outputs": [],
   "source": [
    "alt.Chart(movies_genre).mark_circle().encode(\n",
    "  alt.X('ReleaseDate', scale = alt.Scale(zero = False)),\n",
    "  alt.Y('AvgRating', scale = alt.Scale(zero = False))\n",
    ").interactive()"
   ]
  },
  {
   "cell_type": "markdown",
   "metadata": {
    "colab_type": "text",
    "id": "QkWxB_MYNwZt"
   },
   "source": [
    "### Selections\n",
    "\n",
    "To really look at multi-dimensional data, interactive selections based on brushes are useful. This is where Altair really shines. \n",
    "\n",
    "We first have to specify how we want to select something: "
   ]
  },
  {
   "cell_type": "code",
   "execution_count": null,
   "metadata": {
    "colab": {
     "base_uri": "https://localhost:8080/",
     "height": 369
    },
    "colab_type": "code",
    "id": "IKA6mBy83eUy",
    "outputId": "da2f8b2b-63e2-48e9-e785-c8a5d5df59f4",
    "scrolled": false
   },
   "outputs": [],
   "source": [
    "interval = alt.selection_interval()\n",
    "\n",
    "alt.Chart(select_genres).mark_circle().encode(\n",
    "  alt.X('ReleaseDate', scale = alt.Scale(zero = False)),\n",
    "  alt.Y('AvgRating', scale = alt.Scale(zero = False)),\n",
    "  color='Genre'\n",
    ").add_params(interval)"
   ]
  },
  {
   "cell_type": "markdown",
   "metadata": {
    "colab_type": "text",
    "id": "8y9mIsgxOJLC"
   },
   "source": [
    "Currently this selection does nothing.\n",
    "\n",
    "We can use conditional highlighting when selection made. We use `altair.condition` and specify that elements outside the \"interval\" are shown in light gray."
   ]
  },
  {
   "cell_type": "code",
   "execution_count": null,
   "metadata": {
    "colab": {
     "base_uri": "https://localhost:8080/",
     "height": 369
    },
    "colab_type": "code",
    "id": "aUUyrBhXN3li",
    "outputId": "c72479b3-db15-4d98-957f-bbf28fb35735",
    "scrolled": false
   },
   "outputs": [],
   "source": [
    "interval = alt.selection_interval()\n",
    "\n",
    "alt.Chart(select_genres).mark_circle().encode(\n",
    "  alt.X('ReleaseDate', scale = alt.Scale(zero = False)),\n",
    "  alt.Y('AvgRating', scale = alt.Scale(zero = False)),\n",
    "  color = alt.condition(interval, 'Genre', alt.value('lightgray'))\n",
    ").add_params(interval)"
   ]
  },
  {
   "cell_type": "markdown",
   "metadata": {
    "colab_type": "text",
    "id": "ROz5Zgc5O-7n"
   },
   "source": [
    "The selection API automatically applies to all the compound charts, as long as they have same selection applied.\n",
    "\n",
    "Let us see an example with two horizontally concatenated charts."
   ]
  },
  {
   "cell_type": "code",
   "execution_count": null,
   "metadata": {
    "colab": {
     "base_uri": "https://localhost:8080/",
     "height": 371
    },
    "colab_type": "code",
    "id": "mpIHN6RfOzM4",
    "outputId": "8a0f7ed3-286b-4237-8fa4-533267c9d71e",
    "scrolled": false
   },
   "outputs": [],
   "source": [
    "interval = alt.selection_interval()\n",
    "\n",
    "base = alt.Chart(select_genres).mark_circle().encode(\n",
    "  alt.X('ReleaseDate', scale = alt.Scale(zero = False)),\n",
    "  color = alt.condition(interval, 'Genre', alt.value('lightgray'))\n",
    ").add_params(interval)\n",
    "\n",
    "avg_rating = base.encode(y = alt.Y('AvgRating', scale=alt.Scale(zero=False))) \n",
    "watches =  base.encode(y = alt.Y('Watches', scale=alt.Scale(zero=False)))\n",
    "\n",
    "avg_rating | watches "
   ]
  },
  {
   "cell_type": "markdown",
   "metadata": {
    "colab_type": "text",
    "id": "RPvtblo_Q75h"
   },
   "source": [
    "We can combine Layering and Selection API to do complicated interactions. Let us combine the above chart with histogram which shows counts for selections using a filter with the [`transform_filter()`](https://altair-viz.github.io/user_guide/generated/toplevel/altair.Chart.html?highlight=transform_filter#altair.Chart.transform_filter) function."
   ]
  },
  {
   "cell_type": "code",
   "execution_count": null,
   "metadata": {
    "colab": {
     "base_uri": "https://localhost:8080/",
     "height": 525
    },
    "colab_type": "code",
    "id": "PHkFDXjXRL9Z",
    "outputId": "7caa7b2d-61ce-4244-cadf-4272db729933",
    "scrolled": false
   },
   "outputs": [],
   "source": [
    "hist = alt.Chart(select_genres).mark_bar().encode(\n",
    "  x = 'count()',\n",
    "  y = 'Genre',\n",
    "  color = 'Genre'\n",
    ").properties(\n",
    "  width = 800,\n",
    "  height = 100\n",
    ").transform_filter(\n",
    "  interval\n",
    ")\n",
    "\n",
    "scatter = avg_rating | watches\n",
    "\n",
    "scatter & hist"
   ]
  },
  {
   "cell_type": "markdown",
   "metadata": {},
   "source": [
    "Or here a similar example with a filtered scatterplot: "
   ]
  },
  {
   "cell_type": "code",
   "execution_count": null,
   "metadata": {
    "colab": {
     "base_uri": "https://localhost:8080/",
     "height": 371
    },
    "colab_type": "code",
    "id": "OXKxgU-tROQC",
    "outputId": "654eef2f-2349-472f-b234-d10e9248f64c",
    "scrolled": false
   },
   "outputs": [],
   "source": [
    "watches_filtered = alt.Chart(select_genres).mark_circle().encode(\n",
    "  alt.X('ReleaseDate', scale = alt.Scale(zero = False)),\n",
    "    y = alt.Y('Watches', scale=alt.Scale(zero=False)),\n",
    "  color = alt.condition(interval, 'Genre', alt.value('lightgray'))\n",
    ").transform_filter(\n",
    "  interval\n",
    ")\n",
    "\n",
    "avg_rating | watches_filtered"
   ]
  },
  {
   "cell_type": "markdown",
   "metadata": {},
   "source": [
    "## Maps\n",
    "\n",
    "Altair can also do maps, based on it's `mark_geoshape` mark. See the [source for this example](https://altair-viz.github.io/gallery/choropleth.html#gallery-choropleth)."
   ]
  },
  {
   "cell_type": "code",
   "execution_count": null,
   "metadata": {},
   "outputs": [],
   "source": [
    "from vega_datasets import data\n",
    "\n",
    "counties = alt.topo_feature(data.us_10m.url, 'counties')\n",
    "source = data.unemployment.url\n",
    "\n",
    "alt.Chart(counties).mark_geoshape().encode(\n",
    "    color='rate:Q'\n",
    ").transform_lookup(\n",
    "    lookup='id',\n",
    "    from_=alt.LookupData(source, 'id', ['rate'])\n",
    ").project(\n",
    "    type='albersUsa'\n",
    ").properties(\n",
    "    width=500,\n",
    "    height=300\n",
    ")"
   ]
  }
 ],
 "metadata": {
  "anaconda-cloud": {},
  "kernelspec": {
   "display_name": "Python 3 (ipykernel)",
   "language": "python",
   "name": "python3"
  },
  "language_info": {
   "codemirror_mode": {
    "name": "ipython",
    "version": 3
   },
   "file_extension": ".py",
   "mimetype": "text/x-python",
   "name": "python",
   "nbconvert_exporter": "python",
   "pygments_lexer": "ipython3",
   "version": "3.11.5"
  }
 },
 "nbformat": 4,
 "nbformat_minor": 1
}
