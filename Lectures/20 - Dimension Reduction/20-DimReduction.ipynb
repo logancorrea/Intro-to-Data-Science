{
 "cells": [
  {
   "cell_type": "markdown",
   "metadata": {
    "nbpresent": {
     "id": "263513d4-7846-4852-a36c-8b73c5dd2d42"
    },
    "slideshow": {
     "slide_type": "slide"
    }
   },
   "source": [
    "# Introduction to Data Science \n",
    "# Lecture 20: Dimensionality Reduction\n",
    "*COMP 5360 / MATH 4100, University of Utah, http://datasciencecourse.net/*\n",
    "\n",
    "In this lecture, we'll discuss\n",
    "* dimensionality reduction \n",
    "* Principal Component Analysis (PCA)\n",
    "* using PCA for visualization \n",
    "\n",
    "Recommended Reading:\n",
    "* G. James, D. Witten, T. Hastie, and R. Tibshirani, An Introduction to Statistical Learning, Ch. 12.2 [digitial version available here](https://www.statlearning.com/)\n",
    "* V. Powell, [Principal Component Analysis: Explained Visually](http://setosa.io/ev/principal-component-analysis/)\n",
    "* B. Everitt and T. Hothorn, [An Introduction to Applied Multivariate Analysis with R](https://www.springer.com/us/book/9781441996497), Ch. 3"
   ]
  },
  {
   "cell_type": "code",
   "execution_count": null,
   "metadata": {
    "nbpresent": {
     "id": "a993cd6a-14c4-4df6-97da-149af3391ae1"
    },
    "slideshow": {
     "slide_type": "slide"
    },
    "tags": []
   },
   "outputs": [],
   "source": [
    "# imports and setup \n",
    "\n",
    "import numpy as np\n",
    "\n",
    "import pandas as pd\n",
    "pd.set_option('display.notebook_repr_html', False)\n",
    "\n",
    "from sklearn.datasets import load_iris, load_digits\n",
    "from sklearn.preprocessing import scale\n",
    "from sklearn.decomposition import PCA \n",
    "from sklearn.cluster import KMeans, AgglomerativeClustering\n",
    "from sklearn import metrics\n",
    "from sklearn.metrics import homogeneity_score, v_measure_score\n",
    "\n",
    "import matplotlib.pyplot as plt\n",
    "from matplotlib.colors import ListedColormap\n",
    "from mpl_toolkits.mplot3d import Axes3D\n",
    "%matplotlib inline\n",
    "plt.rcParams['figure.figsize'] = (10, 6)\n",
    "plt.style.use('ggplot')\n",
    "\n",
    "import seaborn as sns"
   ]
  },
  {
   "cell_type": "markdown",
   "metadata": {
    "nbpresent": {
     "id": "add0a894-8d27-4164-b449-26a63a4af899"
    },
    "slideshow": {
     "slide_type": "slide"
    }
   },
   "source": [
    "## Recap: Supervised vs. Unsupervised Learning\n",
    "\n",
    "### Supervised Learning\n",
    "**Data:** both the features, $x$, and a response, $y$, for each item in the dataset.\n",
    "\n",
    "**Goal:** 'learn' how to predict the response from the features.\n",
    "\n",
    "**Examples:**\n",
    "* Regression\n",
    "* Classification\n",
    "\n",
    "### Unsupervised Learning \n",
    "**Data:** only the features, $x$, for each item in the dataset.\n",
    "\n",
    "**Goal:** discover 'interesting' things about the dataset.\n",
    "\n",
    "**Examples:**\n",
    "* Clustering\n",
    "* Dimensionality reduction, Principal Component Analysis (PCA)"
   ]
  },
  {
   "cell_type": "markdown",
   "metadata": {
    "nbpresent": {
     "id": "9455c537-9655-401c-9a2b-d78d973bf524"
    },
    "slideshow": {
     "slide_type": "slide"
    }
   },
   "source": [
    "## Dimensionality Reduction\n",
    "\n",
    "\n",
    "In data science, [**dimensionality reduction**](https://en.wikipedia.org/wiki/Dimensionality_reduction) is the process of reducing the number of features in a dataset. \n",
    "\n",
    "There are two approaches to dimensionality reduction: **feature selection** and **feature extraction**.\n",
    "\n",
    "In **feature selection**, one just picks a subset of the available features.\n",
    "\n",
    "In **feature extraction**, the data is transformed from a high-dimensional space to a lower dimensional space. The most common method is called **principal component analysis (PCA)**, where the transformation is taken to be linear, but many other methods exist. In this class, we'll focus on PCA. \n",
    "\n",
    "**Why dimensionality reduction?**\n",
    "- Remove redundancies and simplifies the dataset making it easier to understand.\n",
    "- It's easier to visualize low dimensional data.\n",
    "- It reduces storage space for large datasets (because of less features).\n",
    "- It reduces time for computationally intensive tasks (again, becasue of less features).\n",
    "- Reducing dimensionality can help avoid overfitting in supervised learning tasks."
   ]
  },
  {
   "cell_type": "markdown",
   "metadata": {
    "nbpresent": {
     "id": "83bb3f29-8308-4f49-a7eb-26065efef2f0"
    },
    "slideshow": {
     "slide_type": "slide"
    }
   },
   "source": [
    "## Principal Component Analysis (PCA)\n",
    "\n",
    "**Problem:** Many datasets have too many features to be able to explore or understand in a reasonable way. Its difficult to even make a reasonable plot for a high-dimensional dataset.\n",
    "\n",
    "**Idea**: In [Principal Component Analysis (PCA)](https://en.wikipedia.org/wiki/Principal_component_analysis), we find a small number of new features, which are linear combinations of the old features, that 'explain' most of the variance in the data. The *principal component directions* are the directions in feature space in which the data is the most variable. \n",
    "\n",
    "Before we get into the mathematical description of Principal Component Analysis (PCA), we can gain a lot of intuition by taking a look at [this visual overview](http://setosa.io/ev/principal-component-analysis/) by Victor Powell.\n",
    "\n",
    "**Mathematical description:** Let the $p$ features in our dataset be $x = (x_1, x_2, \\ldots x_p)$. We define a new feature, the *first principal component score*, by \n",
    "$$\n",
    "z_1 = \\phi_{1,1} x_1 + \\phi_{2,1} x_2 + \\cdots + \\phi_{p,1} x_p = \\phi_1^t x \n",
    "$$\n",
    "Here, the coefficients $\\phi_{j,1}$ are the *loadings* of the $j$-th feature on the first principal component. The vector $\\phi_1 = (\\phi_{1,1}, \\phi_{2,1},\\cdots, \\phi_{p,1})$ is called the *loadings vector* for the first principal component. \n",
    "\n",
    "We want to find the loadings so that $z_1$ has maximal sample variance. \n",
    "\n",
    "Let $X$ be the $n\\times p$ matrix where $X_{i,j}$ is the $j$-th feature for item $i$ in the dataset. $X$ is just the collection of the data in a matrix. \n",
    "\n",
    "**Important:** Assume each of the variables has been normalized to have mean zero, *i.e.*, the columns of $X$ should have zero mean. \n",
    "\n",
    "A short calculation shows that the sample variance of $z_1$ is then given by \n",
    "$$\n",
    "Var(z_1) = \\frac{1}{n} \\sum_{i=1}^n \\left( \\sum_{j=1}^p \\phi_{j,1} X_{i,j} \\right)^2. \n",
    "$$\n",
    "The variance can be arbitrarily large if the $\\phi_{j,1}$ are allowed to be arbitrarily large. We constrain the $\\phi_{j,1}$ to satisfy $\\sum_{j=1}^p \\phi_{j,1}^2 = 1$. In vector notation, this can be written $\\| \\phi_1 \\| = 1$.\n",
    "\n",
    "Putting this together, the first principal component is defined by $z_1 = \\phi_1^t x$ where $\\phi_1$ is the solution to the optimization problem \n",
    "\\begin{align*}\n",
    "\\max_{\\phi_1} \\quad & \\textrm{Var}(z_1) \\\\\n",
    "\\text{subject to} \\quad & \\| \\phi_1\\|^2 = 1. \n",
    "\\end{align*}\n",
    "Using linear algebra, it can be shown that $\\phi_1$ is exactly the eigenvector corresponding to the largest eigenvalue of the *covariance matrix*, $X^tX$. \n",
    "\n",
    "We similarly define the second principal direction to be the linear combination of the features, \n",
    "$z_2 = \\phi_2^t x$ with the largest variance, subject to the additional constraint that $z_2$ be uncorrelated with $z_1$. This is equivalent to $\\phi_1^t \\phi_2 = 0$. This corresponds to taking $\\phi_2$ to be the eigenvector corresponding to the second largest eigenvalue of $X^tX$. Higher principal directions are defined analogously. "
   ]
  },
  {
   "cell_type": "markdown",
   "metadata": {
    "nbpresent": {
     "id": "cf05a576-1206-4860-b4c5-c5635caf29c4"
    },
    "slideshow": {
     "slide_type": "slide"
    }
   },
   "source": [
    "## PCA in practice\n",
    "We can use the [```PCA``` function](http://scikit-learn.org/stable/modules/generated/sklearn.decomposition.PCA.html) from the ```sklearn.decomposition``` library. \n",
    "\n",
    "### Example: the Iris dataset\n",
    "\n",
    "The dataset contains 4 features (attributes) of 50 samples containing 3 different types of iris plants. \n",
    "\n",
    "**Features (attributes):**\n",
    "+ sepal length (cm) \n",
    "+ sepal width (cm) \n",
    "+ petal length (cm) \n",
    "+ petal width (cm) \n",
    "\n",
    "**Classes:**\n",
    "+ Iris Setosa \n",
    "+ Iris Versicolour \n",
    "+ Iris Virginica"
   ]
  },
  {
   "cell_type": "code",
   "execution_count": null,
   "metadata": {
    "nbpresent": {
     "id": "9ad82db0-fe6d-4641-9f3e-5c50f6895823"
    },
    "slideshow": {
     "slide_type": "-"
    },
    "tags": []
   },
   "outputs": [],
   "source": [
    "# import dataset\n",
    "iris = load_iris()\n",
    "X = iris.data\n",
    "y = iris.target\n",
    "\n",
    "# Create color maps\n",
    "cmap_light = ListedColormap(['#FFAAAA', '#AAFFAA', '#AAAAFF'])\n",
    "cmap_bold = ListedColormap(['#FF0000', '#00FF00', '#0000FF'])"
   ]
  },
  {
   "cell_type": "markdown",
   "metadata": {
    "nbpresent": {
     "id": "93d75ae9-84e0-421d-a83f-802ee6d8a7ea"
    },
    "slideshow": {
     "slide_type": "-"
    }
   },
   "source": [
    "### Previous ideas for plotting the data:\n",
    "+ just plot along first two dimensions and ignore other dimensions\n",
    "+ plot in three dimensions (3d scatter plot) and ignore other dimensions\n",
    "+ make a scatterplot matrix with all pairs of dimensions"
   ]
  },
  {
   "cell_type": "code",
   "execution_count": null,
   "metadata": {
    "nbpresent": {
     "id": "51afb9ab-40be-4c08-8867-43201b0a8f0c"
    },
    "scrolled": true,
    "slideshow": {
     "slide_type": "-"
    },
    "tags": []
   },
   "outputs": [],
   "source": [
    "# plot along first two dimensions and ignore other diemtnsions\n",
    "\n",
    "plt.scatter(X[:, 0], X[:, 1], c=y, cmap=cmap_bold,s=30)\n",
    "plt.xlabel('Dimension 1')\n",
    "plt.ylabel('Dimension 2')\n",
    "plt.show()"
   ]
  },
  {
   "cell_type": "code",
   "execution_count": null,
   "metadata": {
    "nbpresent": {
     "id": "044812ee-ff20-49fa-8b6f-d70f1b855e79"
    },
    "slideshow": {
     "slide_type": "-"
    },
    "tags": []
   },
   "outputs": [],
   "source": [
    "# 3D scatter plot\n",
    "fig = plt.figure()\n",
    "ax = fig.add_subplot(111, projection='3d')\n",
    "ax.scatter(X[:, 0], X[:, 1],zs= X[:, 2], c=y, cmap=cmap_bold,s=30)\n",
    "ax.set_xlabel('Dimension 1')\n",
    "ax.set_ylabel('Dimension 2')\n",
    "ax.set_zlabel('Dimension 3')\n",
    "plt.show()"
   ]
  },
  {
   "cell_type": "code",
   "execution_count": null,
   "metadata": {
    "nbpresent": {
     "id": "fcbf8519-13af-4f7a-8a2e-2c9d2d398dda"
    },
    "slideshow": {
     "slide_type": "-"
    },
    "tags": []
   },
   "outputs": [],
   "source": [
    "# scatterplot matrix\n",
    "sns.set()\n",
    "sns.pairplot(sns.load_dataset(\"iris\"), hue=\"species\");"
   ]
  },
  {
   "cell_type": "markdown",
   "metadata": {
    "nbpresent": {
     "id": "c541620b-53c2-44dc-b39c-21cf18667d0b"
    },
    "slideshow": {
     "slide_type": "-"
    }
   },
   "source": [
    "### New idea: use PCA to plot the 2 most 'important' directions"
   ]
  },
  {
   "cell_type": "code",
   "execution_count": null,
   "metadata": {
    "nbpresent": {
     "id": "7df622c0-2840-4e18-9087-72b543c0b200"
    },
    "slideshow": {
     "slide_type": "-"
    },
    "tags": []
   },
   "outputs": [],
   "source": [
    "# PCA analysis \n",
    "pca_model = PCA()\n",
    "X_PCA = pca_model.fit_transform(X)\n",
    "\n",
    "plt.scatter(X_PCA[:, 0], X_PCA[:, 1], c=y, cmap=cmap_bold,s=30)\n",
    "plt.xlabel('Principal Component 1')\n",
    "plt.ylabel('Principal Component 2')\n",
    "plt.show()"
   ]
  },
  {
   "cell_type": "markdown",
   "metadata": {
    "nbpresent": {
     "id": "acdf5829-6cd5-4112-804a-43a658db822e"
    },
    "slideshow": {
     "slide_type": "-"
    }
   },
   "source": [
    "### Example: use PCA to visualize cluster analysis of iris data\n",
    "Principal components are very helpful for visualizing clusters."
   ]
  },
  {
   "cell_type": "code",
   "execution_count": null,
   "metadata": {
    "nbpresent": {
     "id": "907db97b-ae6b-4d7a-bc41-ea4648fb06f7"
    },
    "slideshow": {
     "slide_type": "-"
    },
    "tags": []
   },
   "outputs": [],
   "source": [
    "cluster_model = AgglomerativeClustering(linkage=\"average\", affinity='euclidean', n_clusters=3)\n",
    "y_pred = cluster_model.fit_predict(X)\n",
    "h = v_measure_score(labels_true = y, labels_pred = y_pred)\n",
    "print('v-measure score for clustering is ' + str(h))\n",
    "\n",
    "# plot using PCA\n",
    "plt.scatter(X_PCA[:, 0], X_PCA[:, 1], c=y_pred, cmap=cmap_bold,s=30)\n",
    "plt.xlabel('Principal Component 1')\n",
    "plt.ylabel('Principal Component 2')\n",
    "plt.show()"
   ]
  },
  {
   "cell_type": "markdown",
   "metadata": {},
   "source": [
    "Compare this to the previous way we plotted using just the first two features"
   ]
  },
  {
   "cell_type": "code",
   "execution_count": null,
   "metadata": {
    "tags": []
   },
   "outputs": [],
   "source": [
    "# plot using first two features\n",
    "plt.scatter(X[:, 0], X[:, 1], c=y_pred, cmap=cmap_bold,s=30)\n",
    "plt.xlabel('sepal length (cm) ')\n",
    "plt.ylabel('sepal width (cm) ')\n",
    "plt.show()"
   ]
  },
  {
   "cell_type": "markdown",
   "metadata": {
    "nbpresent": {
     "id": "e019094b-91c5-47ab-81bc-4e4835226853"
    },
    "slideshow": {
     "slide_type": "-"
    }
   },
   "source": [
    "## Number of principal components\n",
    "\n",
    "For plotting the data, we generally just use the first 2 principal components. In other applications requiring dimensionality reduction, you might want to identify the number of principal components that can be used to explain the data. This can be done by considering the percentage of variance explained by each component or a *scree plot*. "
   ]
  },
  {
   "cell_type": "code",
   "execution_count": null,
   "metadata": {
    "nbpresent": {
     "id": "aae10a82-e83a-4596-b6fe-7f48f5785345"
    },
    "slideshow": {
     "slide_type": "-"
    },
    "tags": []
   },
   "outputs": [],
   "source": [
    "# Variance ratio of the four principal components\n",
    "var_ratio = pca_model.explained_variance_ratio_\n",
    "print(var_ratio)\n",
    "\n",
    "plt.plot([1,2,3,4], var_ratio, '-o')\n",
    "\n",
    "plt.ylabel('Proportion of Variance Explained')\n",
    "plt.xlabel('Principal Component')\n",
    "plt.xlim(0.75,4.25)\n",
    "plt.ylim(0,1.05)\n",
    "plt.xticks([1,2,3,4])\n",
    "plt.show()"
   ]
  },
  {
   "cell_type": "markdown",
   "metadata": {
    "nbpresent": {
     "id": "02fb29b4-f0ce-4885-9fea-f789e27d6ec8"
    },
    "slideshow": {
     "slide_type": "slide"
    }
   },
   "source": [
    "## Example: visualizing clusters in the MNIST handwritten digit dataset\n",
    "\n",
    "The MNIST handwritten digit dataset consists of images of handwritten digits, together with labels indicating which digit is in each image. \n",
    "\n",
    "Because both the features and the labels are present in this dataset (and labels for large datasets are generally difficult/expensive to obtain), this dataset is frequently used as a benchmark to compare various methods. \n",
    "For example, [this webpage](http://yann.lecun.com/exdb/mnist/) describes a variety of different classification results on MNIST (Note, the tests on this website are for a larger and higher resolution dataset than we'll use.) To see a comparison of classification methods implemented in scikit-learn on the MNIST dataset, see \n",
    "[this page](http://scikit-learn.org/stable/auto_examples/classification/plot_digits_classification.html).\n",
    "The MNIST dataset is also a frequently used for benchmarking clustering algorithms and because it has labels, we can evaluate the homogeneity or purity of the clusters. \n",
    "\n",
    "There are several versions of the dataset. We'll use the one that is built-in to scikit-learn, described [here](http://scikit-learn.org/stable/modules/generated/sklearn.datasets.load_digits.html). \n",
    "\n",
    "* Classes: 10  \n",
    "* Samples per class: $\\approx$180\n",
    "* Samples total: 1797\n",
    "* Feature Dimension: 64 (8 pixels by 8 pixels)\n",
    "* Features: integers 0-9\n",
    "\n",
    "Here are some examples of the images. Note that the digits have been size-normalized and centered in a fixed-size ($8\\times8$ pixels) image.\n",
    "\n",
    "<img src=\"http://scikit-learn.org/stable/_images/sphx_glr_plot_digits_classification_001.png\" width=\"500\">\n"
   ]
  },
  {
   "cell_type": "code",
   "execution_count": null,
   "metadata": {
    "nbpresent": {
     "id": "5520b1c6-3264-4960-85a7-9945ead4045f"
    },
    "slideshow": {
     "slide_type": "-"
    },
    "tags": []
   },
   "outputs": [],
   "source": [
    "digits = load_digits()\n",
    "X = scale(digits.data)\n",
    "y = digits.target\n",
    "print(type(X))\n",
    "\n",
    "n_samples, n_features = X.shape\n",
    "n_digits = len(np.unique(digits.target))\n",
    "print(\"n_digits: %d, n_samples %d, n_features %d\" % (n_digits, n_samples, n_features))\n",
    "\n",
    "plt.figure(figsize= (10, 10))\n",
    "for ii in np.arange(25):\n",
    "    plt.subplot(5, 5, ii+1)\n",
    "    plt.imshow(np.reshape(X[ii,:],(8,8)), cmap='Greys',interpolation='none')\n",
    "plt.show()"
   ]
  },
  {
   "cell_type": "markdown",
   "metadata": {
    "nbpresent": {
     "id": "0290f46c-6651-4423-9f36-8c7185ae93fb"
    },
    "slideshow": {
     "slide_type": "-"
    }
   },
   "source": [
    "Here we'll use PCA to visualize the results of a clustering of the MNIST dataset.\n",
    "\n",
    "This example was taken from the [scikit-learn examples](http://scikit-learn.org/stable/auto_examples/cluster/plot_kmeans_digits.html)."
   ]
  },
  {
   "cell_type": "code",
   "execution_count": null,
   "metadata": {
    "tags": []
   },
   "outputs": [],
   "source": [
    "X_PCA = PCA(n_components=2).fit_transform(X)\n",
    "\n",
    "kmeans_model = KMeans(init='k-means++', n_clusters=n_digits, n_init=10)\n",
    "kmeans_model.fit(X_PCA)\n",
    "\n",
    "print(metrics.v_measure_score(labels_true=y, labels_pred=kmeans_model.labels_))\n",
    "\n",
    "# Plot the decision boundaries. For that, we will assign a color to each point in a mesh\n",
    "x_min, x_max = X_PCA[:, 0].min() - 1, X_PCA[:, 0].max() + 1\n",
    "y_min, y_max = X_PCA[:, 1].min() - 1, X_PCA[:, 1].max() + 1\n",
    "h = .1     # step size of the mesh .02\n",
    "xx, yy = np.meshgrid(np.arange(x_min, x_max, h), np.arange(y_min, y_max, h))\n",
    "\n",
    "# Obtain labels for each point in mesh.\n",
    "Z = kmeans_model.predict(np.c_[xx.ravel(), yy.ravel()])\n",
    "\n",
    "# Put the result into a color plot\n",
    "Z = Z.reshape(xx.shape)\n",
    "plt.figure(figsize= (10, 10))\n",
    "plt.imshow(Z, interpolation='nearest', \n",
    "           extent=(xx.min(), xx.max(), yy.min(), yy.max()),\n",
    "           cmap=plt.cm.Paired,\n",
    "           aspect='auto', origin='lower')\n",
    "\n",
    "plt.plot(X_PCA[:, 0], X_PCA[:, 1], 'k.', markersize=2)\n",
    "\n",
    "# Plot the centroids as a white X\n",
    "centroids = kmeans_model.cluster_centers_\n",
    "plt.scatter(centroids[:, 0], centroids[:, 1], marker='x', s=169, linewidths=3, color='w', zorder=10)\n",
    "plt.title('K-means clustering on the digits dataset (PCA-reduced data)\\n Centroids are marked with white cross')\n",
    "plt.xlim(x_min, x_max)\n",
    "plt.ylim(y_min, y_max)\n",
    "plt.xticks(())\n",
    "plt.yticks(())\n",
    "plt.show()\n"
   ]
  },
  {
   "cell_type": "markdown",
   "metadata": {},
   "source": [
    "**Question:** What is the best number of dimensions to use for this clustering problem?"
   ]
  },
  {
   "cell_type": "code",
   "execution_count": null,
   "metadata": {
    "tags": []
   },
   "outputs": [],
   "source": [
    "numPCs = np.arange(2,64,2)\n",
    "vmeasure = []\n",
    "\n",
    "for i, numPC in enumerate(numPCs):\n",
    "    X_PCA = PCA(n_components=numPC).fit_transform(X)\n",
    "    kmeans_model = KMeans(init='k-means++', n_clusters=n_digits, n_init=10,random_state=1)\n",
    "    kmeans_model.fit(X_PCA)\n",
    "    metric = metrics.v_measure_score(labels_true=y, labels_pred=kmeans_model.labels_)\n",
    "    vmeasure.append(metric)\n",
    "    \n",
    "plt.plot(numPCs, vmeasure, '-o')\n",
    "plt.xlabel('Number of Principal Components')\n",
    "plt.ylabel('v-measure of Clustering')\n",
    "plt.show()"
   ]
  },
  {
   "cell_type": "markdown",
   "metadata": {},
   "source": [
    "It looks like the clustering performance improves until about 12 PC's. Increasing the dimension beyond this point is either detrimental or does not offer a big improvement with the kmeans algorithm."
   ]
  },
  {
   "cell_type": "markdown",
   "metadata": {},
   "source": [
    "## Example: 1988 Olympic heptathlon results\n",
    "\n",
    "The [heptathlon](https://en.wikipedia.org/wiki/Heptathlon) is an Olympic event consisting of seven events: \n",
    "+ 100m hurdles\n",
    "+ shot\n",
    "+ high jump\n",
    "+ 200m run\n",
    "+ long jump\n",
    "+ javelin\n",
    "+ 800m run\n",
    "\n",
    "The values for each of these events are then combined according to [official Olympic rules](https://en.wikipedia.org/wiki/Heptathlon#Points_system) to generate a *score* for each athlete. The athlete with the largest score wins. \n",
    "\n",
    "We'll use PCA to analyze the results for the women's heptathlon from the 1988 Olympics held in Seoul, Korea. \n",
    "The results for all 25 athletes are contained in the file `heptathlon.csv`. \n",
    "\n",
    "This example was taken from 'An Introduction to Applied Multivariate Analysis with R' by Brian Everitt and Torsten Hothorn, Ch. 3.10.2. \n"
   ]
  },
  {
   "cell_type": "code",
   "execution_count": null,
   "metadata": {
    "tags": []
   },
   "outputs": [],
   "source": [
    "hept = pd.read_csv(\"heptathlon.csv\")\n",
    "print(hept)"
   ]
  },
  {
   "cell_type": "code",
   "execution_count": null,
   "metadata": {
    "tags": []
   },
   "outputs": [],
   "source": [
    "hept.describe()"
   ]
  },
  {
   "cell_type": "code",
   "execution_count": null,
   "metadata": {
    "tags": []
   },
   "outputs": [],
   "source": [
    "sns.set()\n",
    "sns.pairplot(hept);"
   ]
  },
  {
   "cell_type": "markdown",
   "metadata": {},
   "source": [
    "**Question:** Why in the matrix scatterplot are some of the results negatively correlated? \n",
    "\n",
    "These plots reveal that there is an outlier, namely, Launa (PNG). We'll remove this athlete before continuing. "
   ]
  },
  {
   "cell_type": "code",
   "execution_count": null,
   "metadata": {
    "tags": []
   },
   "outputs": [],
   "source": [
    "# remove outlier\n",
    "hept = hept.drop(24)"
   ]
  },
  {
   "cell_type": "markdown",
   "metadata": {},
   "source": [
    "Now, we'll do a principal component analysis on this data"
   ]
  },
  {
   "cell_type": "code",
   "execution_count": null,
   "metadata": {
    "tags": []
   },
   "outputs": [],
   "source": [
    "# scale the dataset (important preprocessing step if features have different units!)\n",
    "X = scale(hept.drop(['name ',' score '],axis=1).values)\n",
    "#X = hept.drop(['name ',' score '],axis=1).values\n",
    "\n",
    "# find PCA and transform to new coordinates\n",
    "pca_model = PCA()\n",
    "X_PCA = pca_model.fit_transform(X)\n",
    "\n",
    "# create a new pandas dataframe \n",
    "df_plot = pd.DataFrame(X_PCA, columns=['PC1', 'PC2', 'PC3', 'PC4', 'PC5', 'PC6', 'PC7'])\n",
    "df_plot.head()"
   ]
  },
  {
   "cell_type": "code",
   "execution_count": null,
   "metadata": {
    "tags": []
   },
   "outputs": [],
   "source": [
    "fig,ax1 = plt.subplots()\n",
    "\n",
    "ax1.set_xlim(X_PCA[:,0].min()-1,X_PCA[:,0].max()+1)\n",
    "ax1.set_ylim(X_PCA[:,1].min()-1,X_PCA[:,1].max()+1)\n",
    "\n",
    "# Plot Principal Components 1 and 2\n",
    "for i,name in enumerate(hept['name '].values):\n",
    "    ax1.annotate(name, (X_PCA[i,0], X_PCA[i,1]), ha='center',fontsize=10)\n",
    "\n",
    "ax1.set_xlabel('First Principal Component')\n",
    "ax1.set_ylabel('Second Principal Component')\n",
    "plt.show()"
   ]
  },
  {
   "cell_type": "code",
   "execution_count": null,
   "metadata": {
    "tags": []
   },
   "outputs": [],
   "source": [
    "# Variance ratio of the four principal components\n",
    "var_ratio = pca_model.explained_variance_ratio_\n",
    "print(var_ratio)\n",
    "\n",
    "plt.plot([1,2,3,4,5,6,7], var_ratio, '-o')\n",
    "\n",
    "plt.ylabel('Proportion of Variance Explained')\n",
    "plt.xlabel('Principal Component')\n",
    "plt.xlim(0.75,7.25)\n",
    "plt.ylim(0,1.05)\n",
    "plt.xticks([1,2,3,4,5,6,7])\n",
    "plt.show()"
   ]
  },
  {
   "cell_type": "markdown",
   "metadata": {},
   "source": [
    "Most of the variance in the athletes is contained in the first principle component. \n",
    "\n",
    "Let's make a plot of the first principle component vs. the score. "
   ]
  },
  {
   "cell_type": "code",
   "execution_count": null,
   "metadata": {
    "tags": []
   },
   "outputs": [],
   "source": [
    "fig,ax1 = plt.subplots()\n",
    "\n",
    "ax1.set_xlim(X_PCA[:,0].min()-1,X_PCA[:,0].max()+1)\n",
    "ax1.set_ylim(hept[' score '].min()-10,hept[' score '].max()+10)\n",
    "\n",
    "          \n",
    "# Plot Principal Components 1 and score\n",
    "for i,name in enumerate(hept['name '].values):\n",
    "    ax1.annotate(name, (X_PCA[i,0], hept[' score '][i]), ha='center',fontsize=10)   \n",
    "\n",
    "ax1.set_xlabel('First Principal Component')\n",
    "ax1.set_ylabel('Score')\n",
    "plt.show()\n",
    "\n",
    "# Compute correlation coefficient (PC1 and score)\n",
    "print(np.corrcoef(X_PCA[:,0], hept[' score '].values))"
   ]
  },
  {
   "cell_type": "markdown",
   "metadata": {},
   "source": [
    "The first principal component is highly correlated with the score determined by Olympic rules. Note that the winner of the heptathlon, [Jackie Joyner-Kersee](https://en.wikipedia.org/wiki/Jackie_Joyner-Kersee) really stands out. \n",
    "\n",
    "Read more about the 1988 Summer Olympics Women's heptathlon [here](https://en.wikipedia.org/wiki/Athletics_at_the_1988_Summer_Olympics_%E2%80%93_Women%27s_heptathlon). \n",
    "\n",
    "**Question:** How would the results have changed if we hadn't scaled the data before PCA?\n",
    "\n",
    "**Question:** What are some of the shortcomings of PCA?\n"
   ]
  },
  {
   "cell_type": "code",
   "execution_count": null,
   "metadata": {
    "tags": []
   },
   "outputs": [],
   "source": [
    "fig,ax1 = plt.subplots()\n",
    "\n",
    "ax1.set_xlim(X_PCA[:,0].min()-1,X_PCA[:,0].max()+1)\n",
    "ax1.set_ylim(hept[' run800m'].min()-5,hept[' run800m'].max()+5)\n",
    "ax1.set_ylim(hept[' run800m'].min()-5,hept[' run800m'].max()+5)\n",
    "\n",
    "          \n",
    "# Plot Principal Components 1 and score\n",
    "for i,name in enumerate(hept['name '].values):\n",
    "    ax1.annotate(name, (X_PCA[i,0], hept[' run800m'][i]), ha='center',fontsize=10)   \n",
    "\n",
    "ax1.set_xlabel('First Principal Component')\n",
    "ax1.set_ylabel('run800m')\n",
    "plt.show()\n",
    "\n",
    "# Compute correlation coefficient (PC1 and score)\n",
    "print(np.corrcoef(X_PCA[:,0], hept[' run800m'].values))"
   ]
  },
  {
   "cell_type": "markdown",
   "metadata": {},
   "source": [
    "## Nonlinear dimension reduction on MNIST\n",
    "\n",
    "Let's see how the MNIST data would do with a nonlinear dimension reduction method; two popular options are **umap** and **t-sne**. First we need to install the following: \n",
    "\n",
    "`pip install umap-learn`\n",
    "\n",
    "`pip install plotly-express`"
   ]
  },
  {
   "cell_type": "code",
   "execution_count": null,
   "metadata": {
    "tags": []
   },
   "outputs": [],
   "source": [
    "# Load and scale data:\n",
    "digits = load_digits()\n",
    "X = scale(digits.data)\n",
    "y = digits.target"
   ]
  },
  {
   "cell_type": "code",
   "execution_count": null,
   "metadata": {
    "tags": []
   },
   "outputs": [],
   "source": [
    "# Additional imports:\n",
    "import plotly.express as px\n",
    "from umap import UMAP\n",
    "from sklearn.manifold import TSNE\n",
    "\n",
    "# PCA:\n",
    "pca_model = PCA()\n",
    "X_PCA = pca_model.fit_transform(X)\n",
    "\n",
    "# T-SNE:\n",
    "tsne = TSNE(n_components=2, random_state=0)\n",
    "X_TSNE = tsne.fit_transform(X)\n",
    "\n",
    "# Umap:\n",
    "umap_2d = UMAP(random_state=0)\n",
    "umap_2d.fit(X)\n",
    "X_UMAP = umap_2d.transform(X)"
   ]
  },
  {
   "cell_type": "code",
   "execution_count": null,
   "metadata": {
    "tags": []
   },
   "outputs": [],
   "source": [
    "# Plot and compare PCA, T-SNE, UMAP:\n",
    "\n",
    "fig = px.scatter(\n",
    "    X_PCA, x=0, y=1,\n",
    "    color=digits.target.astype(str), labels={'color': 'digit'}, title='PCA'\n",
    ")\n",
    "fig.show()\n",
    "\n",
    "fig = px.scatter(\n",
    "    X_TSNE, x=0, y=1,\n",
    "    color=digits.target.astype(str), labels={'color': 'digit'}, title='T-SNE'\n",
    ")\n",
    "fig.show()\n",
    "\n",
    "fig = px.scatter(\n",
    "    X_UMAP, x=0, y=1,\n",
    "    color=digits.target.astype(str), labels={'color': 'digit'}, title='UMAP'\n",
    ")\n",
    "fig.show()"
   ]
  },
  {
   "cell_type": "code",
   "execution_count": null,
   "metadata": {},
   "outputs": [],
   "source": []
  }
 ],
 "metadata": {
  "anaconda-cloud": {},
  "kernelspec": {
   "display_name": "Python 3 (ipykernel)",
   "language": "python",
   "name": "python3"
  },
  "language_info": {
   "codemirror_mode": {
    "name": "ipython",
    "version": 3
   },
   "file_extension": ".py",
   "mimetype": "text/x-python",
   "name": "python",
   "nbconvert_exporter": "python",
   "pygments_lexer": "ipython3",
   "version": "3.11.5"
  },
  "nbpresent": {
   "slides": {
    "0042875f-7e07-4aa6-a191-a66fe96b6501": {
     "id": "0042875f-7e07-4aa6-a191-a66fe96b6501",
     "prev": "59e92437-ff04-4802-8d2a-5dc28f3f1b5e",
     "regions": {
      "0ba85598-ed1c-4d83-9a19-a3cd37512cdc": {
       "attrs": {
        "height": 0.8,
        "width": 0.8,
        "x": 0.1,
        "y": 0.1
       },
       "content": {
        "cell": "9186eaab-0483-4b10-8ce8-3303914d1054",
        "part": "whole"
       },
       "id": "0ba85598-ed1c-4d83-9a19-a3cd37512cdc"
      }
     }
    },
    "00c06215-b841-452b-babe-d2add0036541": {
     "id": "00c06215-b841-452b-babe-d2add0036541",
     "prev": "879c95a4-54df-48a1-9193-34425526c75b",
     "regions": {
      "7d360515-f7c4-4656-a368-c88d9ce36369": {
       "attrs": {
        "height": 0.8,
        "width": 0.8,
        "x": 0.1,
        "y": 0.1
       },
       "content": {
        "cell": "81f64ba0-27c4-4afb-8b1d-997d0b04c528",
        "part": "whole"
       },
       "id": "7d360515-f7c4-4656-a368-c88d9ce36369"
      }
     }
    },
    "05acee79-b2a0-4a20-908b-2c742c4d670f": {
     "id": "05acee79-b2a0-4a20-908b-2c742c4d670f",
     "prev": "e3fc0657-05aa-492b-8317-428da11975da",
     "regions": {
      "9160e5b4-3ad8-4a3c-b29a-8c89e0f65b6f": {
       "attrs": {
        "height": 0.8,
        "width": 0.8,
        "x": 0.1,
        "y": 0.1
       },
       "content": {
        "cell": "044812ee-ff20-49fa-8b6f-d70f1b855e79",
        "part": "whole"
       },
       "id": "9160e5b4-3ad8-4a3c-b29a-8c89e0f65b6f"
      }
     }
    },
    "10411b18-d5ae-4de4-9a7d-1630245ebaae": {
     "id": "10411b18-d5ae-4de4-9a7d-1630245ebaae",
     "prev": "9e384c40-b826-4930-a9a9-81627d0bba95",
     "regions": {
      "e905e36c-7481-46e2-ac00-54fcae593977": {
       "attrs": {
        "height": 0.8,
        "width": 0.8,
        "x": 0.1,
        "y": 0.1
       },
       "content": {
        "cell": "1b03b6ab-d900-41e7-86e9-d6f4d8303514",
        "part": "whole"
       },
       "id": "e905e36c-7481-46e2-ac00-54fcae593977"
      }
     }
    },
    "2f7a3ed7-d3a2-4f14-92cc-34db1dfdfa6a": {
     "id": "2f7a3ed7-d3a2-4f14-92cc-34db1dfdfa6a",
     "prev": "48215e1f-5c23-42c6-b2cb-d33dbdb0f519",
     "regions": {
      "ccd6b8e7-4341-4fa0-836d-f89027d8b175": {
       "attrs": {
        "height": 0.8,
        "width": 0.8,
        "x": 0.1,
        "y": 0.1
       },
       "content": {
        "cell": "fcee6d26-d206-4cec-978c-66b8774d95f4",
        "part": "whole"
       },
       "id": "ccd6b8e7-4341-4fa0-836d-f89027d8b175"
      }
     }
    },
    "3216f516-dfd9-41d0-94d2-74a122c47403": {
     "id": "3216f516-dfd9-41d0-94d2-74a122c47403",
     "prev": "54c96818-b88a-4bf7-b206-fcf3d95bfcb6",
     "regions": {
      "ab6e14eb-30d6-4f68-9426-7a04519ec257": {
       "attrs": {
        "height": 0.8,
        "width": 0.8,
        "x": 0.1,
        "y": 0.1
       },
       "content": {
        "cell": "e019094b-91c5-47ab-81bc-4e4835226853",
        "part": "whole"
       },
       "id": "ab6e14eb-30d6-4f68-9426-7a04519ec257"
      }
     }
    },
    "34a19201-3808-492a-a5b1-f0fde8a42b45": {
     "id": "34a19201-3808-492a-a5b1-f0fde8a42b45",
     "prev": "2f7a3ed7-d3a2-4f14-92cc-34db1dfdfa6a",
     "regions": {
      "bef95345-e604-447b-ad5c-6c2b0606c960": {
       "attrs": {
        "height": 0.8,
        "width": 0.8,
        "x": 0.1,
        "y": 0.1
       },
       "content": {
        "cell": "dd7e84c6-b6f6-4d81-8b8f-6d7c2fa61dd6",
        "part": "whole"
       },
       "id": "bef95345-e604-447b-ad5c-6c2b0606c960"
      }
     }
    },
    "35ae4f8b-970e-4991-9f03-7dab3e075db2": {
     "id": "35ae4f8b-970e-4991-9f03-7dab3e075db2",
     "prev": "82a4ca03-dddd-4148-8ddd-90c71e65751a",
     "regions": {
      "77674d01-c817-47a0-bf71-7aa40089d5a1": {
       "attrs": {
        "height": 0.8,
        "width": 0.8,
        "x": 0.1,
        "y": 0.1
       },
       "content": {
        "cell": "cf05a576-1206-4860-b4c5-c5635caf29c4",
        "part": "whole"
       },
       "id": "77674d01-c817-47a0-bf71-7aa40089d5a1"
      }
     }
    },
    "3889011c-8d59-4803-ba68-d51b09411fab": {
     "id": "3889011c-8d59-4803-ba68-d51b09411fab",
     "prev": "784350ce-7394-4845-a8fa-37ecb9e19cfa",
     "regions": {
      "fd693633-544c-4884-bafe-7684358493b2": {
       "attrs": {
        "height": 0.8,
        "width": 0.8,
        "x": 0.1,
        "y": 0.1
       },
       "content": {
        "cell": "02fb29b4-f0ce-4885-9fea-f789e27d6ec8",
        "part": "whole"
       },
       "id": "fd693633-544c-4884-bafe-7684358493b2"
      }
     }
    },
    "48215e1f-5c23-42c6-b2cb-d33dbdb0f519": {
     "id": "48215e1f-5c23-42c6-b2cb-d33dbdb0f519",
     "prev": "b36bb931-2de0-4327-9d0e-e18308b1b78d",
     "regions": {
      "4fe43c90-baa9-4ddd-a7d7-7d8ca453dc4e": {
       "attrs": {
        "height": 0.8,
        "width": 0.8,
        "x": 0.1,
        "y": 0.1
       },
       "content": {
        "cell": "a172f7bc-07c0-46ac-94f4-ee1c7b3f7ba5",
        "part": "whole"
       },
       "id": "4fe43c90-baa9-4ddd-a7d7-7d8ca453dc4e"
      }
     }
    },
    "4fc9d586-eb50-4437-b8b5-abcd6f0e62ac": {
     "id": "4fc9d586-eb50-4437-b8b5-abcd6f0e62ac",
     "prev": "35ae4f8b-970e-4991-9f03-7dab3e075db2",
     "regions": {
      "12164a5d-92c6-4d58-a969-0208eb6f4a6e": {
       "attrs": {
        "height": 0.8,
        "width": 0.8,
        "x": 0.1,
        "y": 0.1
       },
       "content": {
        "cell": "9ad82db0-fe6d-4641-9f3e-5c50f6895823",
        "part": "whole"
       },
       "id": "12164a5d-92c6-4d58-a969-0208eb6f4a6e"
      }
     }
    },
    "54c96818-b88a-4bf7-b206-fcf3d95bfcb6": {
     "id": "54c96818-b88a-4bf7-b206-fcf3d95bfcb6",
     "prev": "78c0146e-5da8-422b-a0c3-6257c32bfb49",
     "regions": {
      "11b289dc-2809-431d-8d01-26d13b3208a5": {
       "attrs": {
        "height": 0.8,
        "width": 0.8,
        "x": 0.1,
        "y": 0.1
       },
       "content": {
        "cell": "907db97b-ae6b-4d7a-bc41-ea4648fb06f7",
        "part": "whole"
       },
       "id": "11b289dc-2809-431d-8d01-26d13b3208a5"
      }
     }
    },
    "59e92437-ff04-4802-8d2a-5dc28f3f1b5e": {
     "id": "59e92437-ff04-4802-8d2a-5dc28f3f1b5e",
     "prev": "00c06215-b841-452b-babe-d2add0036541",
     "regions": {
      "1b43ead7-456c-48a5-b773-30942f0c9464": {
       "attrs": {
        "height": 0.8,
        "width": 0.8,
        "x": 0.1,
        "y": 0.1
       },
       "content": {
        "cell": "70f66cad-216c-499f-9078-13ae7b56acce",
        "part": "whole"
       },
       "id": "1b43ead7-456c-48a5-b773-30942f0c9464"
      }
     }
    },
    "5d2c9355-c72c-4e24-a2c3-a50e44731183": {
     "id": "5d2c9355-c72c-4e24-a2c3-a50e44731183",
     "prev": "34a19201-3808-492a-a5b1-f0fde8a42b45",
     "regions": {
      "237cee06-d2f6-4f9c-a444-5bca5497634d": {
       "attrs": {
        "height": 0.8,
        "width": 0.8,
        "x": 0.1,
        "y": 0.1
       },
       "content": {
        "cell": "322df1b0-c401-431e-9597-3974ba7e6ab2",
        "part": "whole"
       },
       "id": "237cee06-d2f6-4f9c-a444-5bca5497634d"
      }
     }
    },
    "5d63ddbc-ba7e-43a9-905a-b61b66ac3fc3": {
     "id": "5d63ddbc-ba7e-43a9-905a-b61b66ac3fc3",
     "prev": "05acee79-b2a0-4a20-908b-2c742c4d670f",
     "regions": {
      "ef9d87ef-fad4-431b-9cb3-6153f37ae1b2": {
       "attrs": {
        "height": 0.8,
        "width": 0.8,
        "x": 0.1,
        "y": 0.1
       },
       "content": {
        "cell": "c541620b-53c2-44dc-b39c-21cf18667d0b",
        "part": "whole"
       },
       "id": "ef9d87ef-fad4-431b-9cb3-6153f37ae1b2"
      }
     }
    },
    "5e5a56ac-1ee4-46a7-838c-321d1eff2991": {
     "id": "5e5a56ac-1ee4-46a7-838c-321d1eff2991",
     "prev": "c17b456b-1393-41a5-99c8-0a8daf97801f",
     "regions": {
      "dd7dda9b-19aa-4a63-8ac3-7c8c18e28666": {
       "attrs": {
        "height": 0.8,
        "width": 0.8,
        "x": 0.1,
        "y": 0.1
       },
       "content": {
        "cell": "af685489-c043-4102-972e-61ad7c04c24a",
        "part": "whole"
       },
       "id": "dd7dda9b-19aa-4a63-8ac3-7c8c18e28666"
      }
     }
    },
    "7042a539-3356-486e-9f05-168a59afeddc": {
     "id": "7042a539-3356-486e-9f05-168a59afeddc",
     "prev": "5d2c9355-c72c-4e24-a2c3-a50e44731183",
     "regions": {
      "47d25997-875e-46ea-8816-78fedebc933e": {
       "attrs": {
        "height": 0.8,
        "width": 0.8,
        "x": 0.1,
        "y": 0.1
       },
       "content": {
        "cell": "ef644152-0b72-4e71-9eeb-b696d8942141",
        "part": "whole"
       },
       "id": "47d25997-875e-46ea-8816-78fedebc933e"
      }
     }
    },
    "784350ce-7394-4845-a8fa-37ecb9e19cfa": {
     "id": "784350ce-7394-4845-a8fa-37ecb9e19cfa",
     "prev": "3216f516-dfd9-41d0-94d2-74a122c47403",
     "regions": {
      "7111c1ea-e2ea-4bdc-ae11-8b8fa39b158c": {
       "attrs": {
        "height": 0.8,
        "width": 0.8,
        "x": 0.1,
        "y": 0.1
       },
       "content": {
        "cell": "aae10a82-e83a-4596-b6fe-7f48f5785345",
        "part": "whole"
       },
       "id": "7111c1ea-e2ea-4bdc-ae11-8b8fa39b158c"
      }
     }
    },
    "78c0146e-5da8-422b-a0c3-6257c32bfb49": {
     "id": "78c0146e-5da8-422b-a0c3-6257c32bfb49",
     "prev": "8b439412-522a-4c7d-905e-d588ba90cfeb",
     "regions": {
      "002476b6-d2bd-44d4-ad5c-ee5da6241caa": {
       "attrs": {
        "height": 0.8,
        "width": 0.8,
        "x": 0.1,
        "y": 0.1
       },
       "content": {
        "cell": "acdf5829-6cd5-4112-804a-43a658db822e",
        "part": "whole"
       },
       "id": "002476b6-d2bd-44d4-ad5c-ee5da6241caa"
      }
     }
    },
    "811bc67c-117d-4e2d-bad0-9096e1b29151": {
     "id": "811bc67c-117d-4e2d-bad0-9096e1b29151",
     "prev": "f360b164-edea-45ae-9377-da3fcd4d1055",
     "regions": {
      "25c27a16-be08-40f0-a5a8-ef45b7d0957f": {
       "attrs": {
        "height": 0.8,
        "width": 0.8,
        "x": 0.1,
        "y": 0.1
       },
       "content": {
        "cell": "a993cd6a-14c4-4df6-97da-149af3391ae1",
        "part": "whole"
       },
       "id": "25c27a16-be08-40f0-a5a8-ef45b7d0957f"
      }
     }
    },
    "82a4ca03-dddd-4148-8ddd-90c71e65751a": {
     "id": "82a4ca03-dddd-4148-8ddd-90c71e65751a",
     "prev": "b90dca2b-66cb-445b-af47-8829b7733c10",
     "regions": {
      "9c2cde01-ddc1-45d6-ab78-bc66ead6ea87": {
       "attrs": {
        "height": 0.8,
        "width": 0.8,
        "x": 0.1,
        "y": 0.1
       },
       "content": {
        "cell": "83bb3f29-8308-4f49-a7eb-26065efef2f0",
        "part": "whole"
       },
       "id": "9c2cde01-ddc1-45d6-ab78-bc66ead6ea87"
      }
     }
    },
    "879c95a4-54df-48a1-9193-34425526c75b": {
     "id": "879c95a4-54df-48a1-9193-34425526c75b",
     "prev": "5e5a56ac-1ee4-46a7-838c-321d1eff2991",
     "regions": {
      "2075a7b7-4ac5-4d79-8e05-a9c901bb7ea8": {
       "attrs": {
        "height": 0.8,
        "width": 0.8,
        "x": 0.1,
        "y": 0.1
       },
       "content": {
        "cell": "97bb54fa-aaaf-441d-92d1-103a0bd0e679",
        "part": "whole"
       },
       "id": "2075a7b7-4ac5-4d79-8e05-a9c901bb7ea8"
      }
     }
    },
    "8b439412-522a-4c7d-905e-d588ba90cfeb": {
     "id": "8b439412-522a-4c7d-905e-d588ba90cfeb",
     "prev": "5d63ddbc-ba7e-43a9-905a-b61b66ac3fc3",
     "regions": {
      "0775d30e-fed7-4198-837f-7b6bc49b583e": {
       "attrs": {
        "height": 0.8,
        "width": 0.8,
        "x": 0.1,
        "y": 0.1
       },
       "content": {
        "cell": "7df622c0-2840-4e18-9087-72b543c0b200",
        "part": "whole"
       },
       "id": "0775d30e-fed7-4198-837f-7b6bc49b583e"
      }
     }
    },
    "9e384c40-b826-4930-a9a9-81627d0bba95": {
     "id": "9e384c40-b826-4930-a9a9-81627d0bba95",
     "prev": "aa645b3f-f97f-444a-9c98-9d9944851f4e",
     "regions": {
      "37352e4d-12df-4ffa-9ea5-ff7dce472474": {
       "attrs": {
        "height": 0.8,
        "width": 0.8,
        "x": 0.1,
        "y": 0.1
       },
       "content": {
        "cell": "0290f46c-6651-4423-9f36-8c7185ae93fb",
        "part": "whole"
       },
       "id": "37352e4d-12df-4ffa-9ea5-ff7dce472474"
      }
     }
    },
    "aa645b3f-f97f-444a-9c98-9d9944851f4e": {
     "id": "aa645b3f-f97f-444a-9c98-9d9944851f4e",
     "prev": "3889011c-8d59-4803-ba68-d51b09411fab",
     "regions": {
      "dea124ab-9945-465e-90cf-fa9d5d28cbab": {
       "attrs": {
        "height": 0.8,
        "width": 0.8,
        "x": 0.1,
        "y": 0.1
       },
       "content": {
        "cell": "5520b1c6-3264-4960-85a7-9945ead4045f",
        "part": "whole"
       },
       "id": "dea124ab-9945-465e-90cf-fa9d5d28cbab"
      }
     }
    },
    "b36bb931-2de0-4327-9d0e-e18308b1b78d": {
     "id": "b36bb931-2de0-4327-9d0e-e18308b1b78d",
     "prev": "0042875f-7e07-4aa6-a191-a66fe96b6501",
     "regions": {
      "3101320e-1c08-44c3-bffe-85d1f3a46daf": {
       "attrs": {
        "height": 0.8,
        "width": 0.8,
        "x": 0.1,
        "y": 0.1
       },
       "content": {
        "cell": "b829d6d7-6ae9-4381-a80a-24b73d8e88dc",
        "part": "whole"
       },
       "id": "3101320e-1c08-44c3-bffe-85d1f3a46daf"
      }
     }
    },
    "b90dca2b-66cb-445b-af47-8829b7733c10": {
     "id": "b90dca2b-66cb-445b-af47-8829b7733c10",
     "prev": "ed5da433-0116-4d7f-86e7-2d3ecb57f17f",
     "regions": {
      "90c2a043-bd8f-4699-b155-610a8d78c496": {
       "attrs": {
        "height": 0.8,
        "width": 0.8,
        "x": 0.1,
        "y": 0.1
       },
       "content": {
        "cell": "9455c537-9655-401c-9a2b-d78d973bf524",
        "part": "whole"
       },
       "id": "90c2a043-bd8f-4699-b155-610a8d78c496"
      }
     }
    },
    "bcd4b214-020c-4141-a8aa-29892e8f170c": {
     "id": "bcd4b214-020c-4141-a8aa-29892e8f170c",
     "prev": "c7c63045-9f9c-4928-b77b-53a9eb501b5b",
     "regions": {
      "cf52348d-3491-4d27-aeee-670132306cc0": {
       "attrs": {
        "height": 0.8,
        "width": 0.8,
        "x": 0.1,
        "y": 0.1
       },
       "content": {
        "cell": "51afb9ab-40be-4c08-8867-43201b0a8f0c",
        "part": "whole"
       },
       "id": "cf52348d-3491-4d27-aeee-670132306cc0"
      }
     }
    },
    "c17b456b-1393-41a5-99c8-0a8daf97801f": {
     "id": "c17b456b-1393-41a5-99c8-0a8daf97801f",
     "prev": "10411b18-d5ae-4de4-9a7d-1630245ebaae",
     "regions": {
      "3e4c0de2-f424-4d78-af01-8037527c690c": {
       "attrs": {
        "height": 0.8,
        "width": 0.8,
        "x": 0.1,
        "y": 0.1
       },
       "content": {
        "cell": "772ddbd5-3979-40e4-8503-71270b69e2c3",
        "part": "whole"
       },
       "id": "3e4c0de2-f424-4d78-af01-8037527c690c"
      }
     }
    },
    "c7c63045-9f9c-4928-b77b-53a9eb501b5b": {
     "id": "c7c63045-9f9c-4928-b77b-53a9eb501b5b",
     "prev": "4fc9d586-eb50-4437-b8b5-abcd6f0e62ac",
     "regions": {
      "f2646499-192a-4f70-87db-0b0ab4701530": {
       "attrs": {
        "height": 0.8,
        "width": 0.8,
        "x": 0.1,
        "y": 0.1
       },
       "content": {
        "cell": "93d75ae9-84e0-421d-a83f-802ee6d8a7ea",
        "part": "whole"
       },
       "id": "f2646499-192a-4f70-87db-0b0ab4701530"
      }
     }
    },
    "e3fc0657-05aa-492b-8317-428da11975da": {
     "id": "e3fc0657-05aa-492b-8317-428da11975da",
     "prev": "bcd4b214-020c-4141-a8aa-29892e8f170c",
     "regions": {
      "28b7e020-24f2-4ab0-b7c5-18a53b9f3b4f": {
       "attrs": {
        "height": 0.8,
        "width": 0.8,
        "x": 0.1,
        "y": 0.1
       },
       "content": {
        "cell": "fcbf8519-13af-4f7a-8a2e-2c9d2d398dda",
        "part": "whole"
       },
       "id": "28b7e020-24f2-4ab0-b7c5-18a53b9f3b4f"
      }
     }
    },
    "ed5da433-0116-4d7f-86e7-2d3ecb57f17f": {
     "id": "ed5da433-0116-4d7f-86e7-2d3ecb57f17f",
     "prev": "811bc67c-117d-4e2d-bad0-9096e1b29151",
     "regions": {
      "bceca811-d387-486c-affe-6dc774c9ac91": {
       "attrs": {
        "height": 0.8,
        "width": 0.8,
        "x": 0.1,
        "y": 0.1
       },
       "content": {
        "cell": "add0a894-8d27-4164-b449-26a63a4af899",
        "part": "whole"
       },
       "id": "bceca811-d387-486c-affe-6dc774c9ac91"
      }
     }
    },
    "f360b164-edea-45ae-9377-da3fcd4d1055": {
     "id": "f360b164-edea-45ae-9377-da3fcd4d1055",
     "prev": "f8c10fdd-87bc-4187-97fb-13a9cdd1a08d",
     "regions": {
      "3dfad1c4-b171-4e8f-9e73-4cdbac1f8498": {
       "attrs": {
        "height": 0.8,
        "width": 0.8,
        "x": 0.1,
        "y": 0.1
       },
       "content": null,
       "id": "3dfad1c4-b171-4e8f-9e73-4cdbac1f8498"
      }
     }
    },
    "f8c10fdd-87bc-4187-97fb-13a9cdd1a08d": {
     "id": "f8c10fdd-87bc-4187-97fb-13a9cdd1a08d",
     "prev": null,
     "regions": {
      "d0c782dc-b143-4ce4-a704-a9642d7abf1d": {
       "attrs": {
        "height": 0.8,
        "width": 0.8,
        "x": 0.1,
        "y": 0.1
       },
       "content": {
        "cell": "263513d4-7846-4852-a36c-8b73c5dd2d42",
        "part": "whole"
       },
       "id": "d0c782dc-b143-4ce4-a704-a9642d7abf1d"
      }
     }
    }
   },
   "themes": {}
  }
 },
 "nbformat": 4,
 "nbformat_minor": 4
}
