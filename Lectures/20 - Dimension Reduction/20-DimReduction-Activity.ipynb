{
 "cells": [
  {
   "cell_type": "markdown",
   "metadata": {
    "slideshow": {
     "slide_type": "slide"
    }
   },
   "source": [
    "# Introduction to Data Science \n",
    "# Lecture 20: Dimension Reduction - Activity\n",
    "*COMP 5360 / MATH 4100, University of Utah, http://datasciencecourse.net/*"
   ]
  },
  {
   "cell_type": "code",
   "execution_count": 1,
   "metadata": {
    "slideshow": {
     "slide_type": "slide"
    }
   },
   "outputs": [],
   "source": [
    "# imports and setup \n",
    "\n",
    "import numpy as np\n",
    "\n",
    "import pandas as pd\n",
    "pd.set_option('display.notebook_repr_html', False)\n",
    "\n",
    "from sklearn.datasets import load_iris, load_digits\n",
    "from sklearn.preprocessing import scale\n",
    "from sklearn.decomposition import PCA \n",
    "from sklearn.cluster import KMeans, AgglomerativeClustering\n",
    "from sklearn import metrics\n",
    "from sklearn.metrics import homogeneity_score, v_measure_score\n",
    "\n",
    "import matplotlib.pyplot as plt\n",
    "from matplotlib.colors import ListedColormap\n",
    "from mpl_toolkits.mplot3d import Axes3D\n",
    "%matplotlib inline\n",
    "plt.rcParams['figure.figsize'] = (10, 6)\n",
    "plt.style.use('ggplot')\n",
    "\n",
    "import seaborn as sns"
   ]
  },
  {
   "cell_type": "markdown",
   "metadata": {},
   "source": [
    "In this activity we will consider an RNA data set taken from [here](https://www.nature.com/articles/s41592-019-0425-8). This data set contains genetic information on 296 different cells, recording 3000 distinct gene counts/features for each cell. The cells were synthetically generated in various mixtures (7 different cell types) so that ground truth cell type information is in fact available. Note this data has already been imputed and scaled, so you don't need to rescale."
   ]
  },
  {
   "cell_type": "code",
   "execution_count": 68,
   "metadata": {},
   "outputs": [
    {
     "name": "stdout",
     "output_type": "stream",
     "text": [
      "<class 'pandas.core.frame.DataFrame'>\n",
      "RangeIndex: 296 entries, 0 to 295\n",
      "Columns: 3000 entries, ENSG00000019582 to ENSG00000116560\n",
      "dtypes: float64(3000)\n",
      "memory usage: 6.8 MB\n",
      "None\n",
      "   ENSG00000019582  ENSG00000132432  ENSG00000234745  ENSG00000146648  \\\n",
      "0         4.317488         3.135494         4.382027         2.397895   \n",
      "1         3.258097         4.382027         3.135494         3.688879   \n",
      "2         3.465736         4.844187         3.496508         4.007333   \n",
      "3         3.332205         5.017280         3.465736         4.025352   \n",
      "4         3.332205         5.111988         3.526361         4.060443   \n",
      "\n",
      "   ENSG00000108602  ERCC-00130  ERCC-00096  ERCC-00002  ERCC-00046  \\\n",
      "0         3.806662    3.713572    3.496508    3.610918    2.995732   \n",
      "1         2.564949    5.043425    4.836282    4.875197    4.077537   \n",
      "2         2.890372    4.442651    4.110874    4.262680    3.433987   \n",
      "3         2.890372    4.369448    4.094345    4.262680    3.465736   \n",
      "4         2.833213    4.406719    4.143135    4.234107    3.496508   \n",
      "\n",
      "   ERCC-00074  ...  ENSG00000197619  ENSG00000114450  ENSG00000147592  \\\n",
      "0    3.663562  ...              0.0         1.386294         1.386294   \n",
      "1    4.844187  ...              0.0         0.693147         1.386294   \n",
      "2    4.219508  ...              0.0         0.693147         1.609438   \n",
      "3    4.204693  ...              0.0         1.098612         1.945910   \n",
      "4    4.234107  ...              0.0         1.098612         1.098612   \n",
      "\n",
      "   ENSG00000184897  ENSG00000157765  ENSG00000116273  ENSG00000000003  \\\n",
      "0         2.302585         0.693147         0.000000         1.098612   \n",
      "1         2.079442         0.000000         0.000000         1.098612   \n",
      "2         2.197225         0.000000         0.000000         1.386294   \n",
      "3         2.302585         0.000000         0.000000         1.098612   \n",
      "4         2.484907         0.000000         0.693147         1.098612   \n",
      "\n",
      "   ENSG00000250120  ENSG00000069122  ENSG00000116560  \n",
      "0         0.000000         0.693147         2.890372  \n",
      "1         0.000000         0.693147         2.772589  \n",
      "2         0.000000         0.000000         2.639057  \n",
      "3         0.000000         0.000000         2.772589  \n",
      "4         0.693147         0.693147         2.833213  \n",
      "\n",
      "[5 rows x 3000 columns]\n"
     ]
    },
    {
     "data": {
      "text/plain": [
       "            CellType\n",
       "CellNumber          \n",
       "1                  1\n",
       "2                  2\n",
       "3                  2\n",
       "4                  2\n",
       "5                  2\n",
       "...              ...\n",
       "292                7\n",
       "293                7\n",
       "294                7\n",
       "295                7\n",
       "296                7\n",
       "\n",
       "[296 rows x 1 columns]"
      ]
     },
     "execution_count": 68,
     "metadata": {},
     "output_type": "execute_result"
    }
   ],
   "source": [
    "# Read in the data\n",
    "\n",
    "rna_data = pd.read_csv(\"rnamix1_SCT.csv\")\n",
    "rna_labels = pd.read_csv(\"rnamix1_labels.csv\",index_col=0)\n",
    "print(rna_data.info())\n",
    "print(rna_data.head())\n",
    "rna_labels"
   ]
  },
  {
   "cell_type": "markdown",
   "metadata": {},
   "source": [
    "(1) Make a 2-dimensional PCA plot of the data, and color it by the cell types. "
   ]
  },
  {
   "cell_type": "code",
   "execution_count": 69,
   "metadata": {},
   "outputs": [],
   "source": [
    "# Your code goes here"
   ]
  },
  {
   "cell_type": "markdown",
   "metadata": {},
   "source": [
    "(2) What percentage of the variance is captured by the first 2 PC's? Make a plot showing the decay of the variance explained by the first 100 PC's. How many PC's would you need to capture 90% of the variance?"
   ]
  },
  {
   "cell_type": "code",
   "execution_count": 70,
   "metadata": {},
   "outputs": [],
   "source": [
    "# Your code goes here"
   ]
  },
  {
   "cell_type": "markdown",
   "metadata": {},
   "source": [
    "(3) Calculate the v_measure_score obtained by running kmeans with k = 7 on the 2-dimensional PCA plot. Can you achieve a higher score by using more PCs?"
   ]
  },
  {
   "cell_type": "code",
   "execution_count": 71,
   "metadata": {},
   "outputs": [],
   "source": [
    "# Your code goes here"
   ]
  }
 ],
 "metadata": {
  "anaconda-cloud": {},
  "kernelspec": {
   "display_name": "Python 3 (ipykernel)",
   "language": "python",
   "name": "python3"
  },
  "language_info": {
   "codemirror_mode": {
    "name": "ipython",
    "version": 3
   },
   "file_extension": ".py",
   "mimetype": "text/x-python",
   "name": "python",
   "nbconvert_exporter": "python",
   "pygments_lexer": "ipython3",
   "version": "3.11.5"
  }
 },
 "nbformat": 4,
 "nbformat_minor": 4
}
