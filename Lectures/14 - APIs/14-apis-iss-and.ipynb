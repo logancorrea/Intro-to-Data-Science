{
 "cells": [
  {
   "cell_type": "markdown",
   "metadata": {},
   "source": [
    "# Introduction to Data Science – Lecture 14 – APIs\n",
    "*COMP 5360 / MATH 4100, University of Utah, http://datasciencecourse.net/*\n",
    "\n",
    "In this lecture we will explore how we can extract data from web-APIs. The first part of this tutorial is based on [this blog](https://www.dataquest.io/blog/python-api-tutorial/).\n",
    "\n",
    "API stands for Application Programming Interface. It is supposed to be a **well defined interface** for interacting with another program or library. \n",
    "\n",
    "For our case of extracting data via web-APIs, it is a well-defined interface for consuming data (in contrast to web-scraping), or, more generally, for the **interaction with a remote program** on a server. APIs aren't only generated so that you can read data; they're often designed so that you could write custom software to interact with the API. You could, for example, write your own reddit client.\n",
    "\n",
    "APIs are usually well documented, as the organization that provides APIs wants you to use them. \n",
    "\n",
    "Here are a couple of examples of sites that have documented APIs:\n",
    "\n",
    " * [StackExchange](https://api.stackexchange.com/docs)  \n",
    " * ~~[Twitter](https://dev.twitter.com/rest/public)~~ (still documented, but now expensive)\n",
    " * [Facebook](https://developers.facebook.com/docs/graph-api)\n",
    " * [KEGG](http://www.genome.jp/kegg/rest/keggapi.html) \n",
    " * [Reddit](https://www.reddit.com/dev/api/)\n",
    " * [Google Maps](https://developers.google.com/maps/) \n",
    " * and many many more. \n",
    " \n",
    "Some folks compile lists of [available free APIs](https://github.com/public-apis/public-apis).\n",
    " \n",
    "Most APIs require some form of authentication and have rules on what you're allowed to do and what not. Follow those rules, or you will be blocked faster than you can say `GET`. \n",
    " \n",
    "Working with an API is a lot like working with a website, but instead of a human in front of the screen, it's computers talking to each other. \n",
    "\n",
    "We'll be using the dominant form of APIs on the web: REST (REpresentational State Transfer). REST APIs use an [URI](https://en.wikipedia.org/wiki/Uniform_Resource_Identifier) (a Uniform Resource Identifier; URLs are one specific form of URIs) to specify what you want to do with and API.\n",
    "\n",
    "All API methods in REST are relative to a base URL. E.g., for [cat facts](https://alexwohlbruck.github.io/cat-facts/) this would be\n",
    "```\n",
    "https://cat-fact.herokuapp.com/facts/random\n",
    "```\n",
    "\n",
    "A query would look like this: \n",
    "\n",
    "```\n",
    "https://cat-fact.herokuapp.com/facts/random?amount=3\n",
    "```\n",
    "\n",
    "\n",
    "REST APIs can return data in different forms. The most common ones are JSON and XML, and of those two, JSON is now dominant. \n",
    "\n",
    "JSON stands for JavaScript Object Notation, and is a pretty convenient format, as we'll see. \n",
    " \n",
    "\n",
    "Let's start with a very simple example, retrieving the current position of the International Space Station (ISS). We will be using the [requests library](https://requests.readthedocs.io/en/latest/), which will handle our communication with the server."
   ]
  },
  {
   "cell_type": "code",
   "execution_count": null,
   "metadata": {},
   "outputs": [],
   "source": [
    "import requests \n",
    "# Make a get request to get the latest position of the international space station from the opennotify api.\n",
    "response = requests.get(\"http://api.open-notify.org/iss-now.json\")\n",
    "\n",
    "response"
   ]
  },
  {
   "cell_type": "markdown",
   "metadata": {},
   "source": [
    "That looks good, we've received a response with the message \"200\". What does the 200 mean? It's a status code - you've probably seen the \"Error 404\" on the internet. \n",
    "\n",
    "Here are a couple of codes:\n",
    "\n",
    " * **200** – everything went okay, and the result has been returned (if any)\n",
    " * **301** – the server is redirecting you to a different endpoint. This can happen when a company switches domain names, or an endpoint name is changed.\n",
    " * **401** – the server thinks you’re not authenticated. This happens when you don’t send the right credentials to access an API (we’ll talk about authentication later).\n",
    " * **400** – the server thinks you made a bad request. This can happen when you don’t send along the right data, among other things.\n",
    " * **403** – the resource you’re trying to access is forbidden – you don’t have the right permissions to see it.\n",
    " * **404** – the resource you tried to access wasn’t found on the server.\n",
    "\n",
    "Let's try to get a response with a wrong URL:"
   ]
  },
  {
   "cell_type": "code",
   "execution_count": null,
   "metadata": {},
   "outputs": [],
   "source": [
    "response_failed = requests.get(\"http://api.open-notify.org/iss\")\n",
    "\n",
    "response_failed"
   ]
  },
  {
   "cell_type": "markdown",
   "metadata": {},
   "source": [
    "We used the get methods to put in a GET request. There are four different types of requests: \n",
    "\n",
    "![Request types](requests.png)\n",
    "[Source](https://en.wikipedia.org/wiki/Representational_state_transfer)"
   ]
  },
  {
   "cell_type": "markdown",
   "metadata": {
    "collapsed": true
   },
   "source": [
    "Let's look at the payload of our previous, successful response:"
   ]
  },
  {
   "cell_type": "code",
   "execution_count": null,
   "metadata": {},
   "outputs": [],
   "source": [
    "response.content"
   ]
  },
  {
   "cell_type": "markdown",
   "metadata": {},
   "source": [
    "We can already see that this is JSON (though it is stored a `bytes` object), but we can check formally:"
   ]
  },
  {
   "cell_type": "code",
   "execution_count": null,
   "metadata": {},
   "outputs": [],
   "source": [
    "response.headers['content-type']"
   ]
  },
  {
   "cell_type": "markdown",
   "metadata": {},
   "source": [
    "We can decode this byte object, then the JSON will be readable. "
   ]
  },
  {
   "cell_type": "code",
   "execution_count": null,
   "metadata": {},
   "outputs": [],
   "source": [
    "response_j = response.content.decode(\"utf-8\")\n",
    "print(response_j)"
   ]
  },
  {
   "cell_type": "markdown",
   "metadata": {},
   "source": [
    "Let's take a look at the JSON format with nice formatting here:\n",
    "\n",
    "```JSON\n",
    "{\n",
    "  \"timestamp\": 1475240215,\n",
    "  \"message\": \"success\", \n",
    "  \"iss_position\": {\n",
    "    \"latitude\": -30.005751854107206, \n",
    "    \"longitude\": -104.20085371352678\n",
    "  } \n",
    "}\n",
    "```\n",
    "The numbers should be different however because ISS keeps moving while this is a static markdown cell.\n",
    "\n",
    "This looks a lot like a dictionary (or objects, for that matter)! We have key-value pairs. \n",
    "\n",
    "We can use the [json library](https://docs.python.org/3/library/json.html) to convert JSON into objects:"
   ]
  },
  {
   "cell_type": "code",
   "execution_count": null,
   "metadata": {},
   "outputs": [],
   "source": [
    "import json\n",
    "response_d = json.loads(response_j)\n",
    "\n",
    "# Now we can see it is indeed a dict!\n",
    "print(type(response_d))\n",
    "\n",
    "# It still prints like a dict\n",
    "print(response_d)\n",
    "\n",
    "# And we can access it like one\n",
    "response_d[\"iss_position\"]"
   ]
  },
  {
   "cell_type": "markdown",
   "metadata": {},
   "source": [
    "Or, not surprisingly, pandas can also load a json object:"
   ]
  },
  {
   "cell_type": "code",
   "execution_count": null,
   "metadata": {},
   "outputs": [],
   "source": [
    "import pandas as pd \n",
    "\n",
    "df = pd.read_json(response_j)\n",
    "df"
   ]
  },
  {
   "cell_type": "markdown",
   "metadata": {},
   "source": [
    "This isn't quite what we want - we probably want one row per timestamp and longitude and latitude as columns:"
   ]
  },
  {
   "cell_type": "code",
   "execution_count": null,
   "metadata": {},
   "outputs": [],
   "source": [
    "def flatten(response_d):\n",
    "    response_flat = {}\n",
    "    response_flat[\"latitude\"] = response_d[\"iss_position\"][\"latitude\"]\n",
    "    response_flat[\"longitude\"] = response_d[\"iss_position\"][\"longitude\"]\n",
    "    response_flat[\"timestamp\"] = response_d[\"timestamp\"]\n",
    "    return response_flat\n",
    "flatten(response_d)"
   ]
  },
  {
   "cell_type": "markdown",
   "metadata": {},
   "source": [
    "That looks better. Let's get a couple of positions of the ISS over time and save it as an array:"
   ]
  },
  {
   "cell_type": "code",
   "execution_count": null,
   "metadata": {},
   "outputs": [],
   "source": [
    "import time\n",
    "\n",
    "def pull_position():\n",
    "    \"\"\"Retreives the position of the ISS and returns it as a flat dictionary\"\"\"\n",
    "    response = requests.get(\"http://api.open-notify.org/iss-now.json\")\n",
    "    response_j = response.content.decode(\"utf-8\")\n",
    "    response_d = json.loads(response_j)\n",
    "    flat_response = flatten(response_d)\n",
    "    return flat_response    \n",
    "\n",
    "iss_position = []\n",
    "    \n",
    "# calls pull_position 10 times with 3 seconds break\n",
    "for i in range(10):\n",
    "    flat_response = pull_position()\n",
    "    iss_position.append(flat_response)\n",
    "    print(flat_response)\n",
    "    time.sleep(3)\n",
    "    \n",
    "len(iss_position)"
   ]
  },
  {
   "cell_type": "markdown",
   "metadata": {},
   "source": [
    "Now we can convert this into a nice dataframe:"
   ]
  },
  {
   "cell_type": "code",
   "execution_count": null,
   "metadata": {},
   "outputs": [],
   "source": [
    "iss_position_df = pd.DataFrame(iss_position)\n",
    "iss_position_df['timestamp']  = pd.to_datetime(iss_position_df['timestamp'], unit=\"s\")\n",
    "\n",
    "iss_position_df = iss_position_df.set_index(pd.DatetimeIndex(iss_position_df['timestamp']))\n",
    "iss_position_df[\"latitude\"] = iss_position_df[\"latitude\"].map(float)\n",
    "iss_position_df[\"longitude\"] = iss_position_df[\"longitude\"].map(float)\n",
    "iss_position_df"
   ]
  },
  {
   "cell_type": "markdown",
   "metadata": {},
   "source": [
    "Let's see how the ISS moves"
   ]
  },
  {
   "cell_type": "code",
   "execution_count": null,
   "metadata": {},
   "outputs": [],
   "source": [
    "import matplotlib.pyplot as plt\n",
    "# This next line tells jupyter to render the images inline\n",
    "%matplotlib inline\n",
    "plt.style.use('ggplot')\n",
    "iss_position_df.plot(kind=\"scatter\", x=\"latitude\", y=\"longitude\")"
   ]
  },
  {
   "cell_type": "markdown",
   "metadata": {},
   "source": [
    "Since the tutorial we borrowed from was last updated, it seems Open Notify has removed some of their API features. So let's use another public API to demonstrate queries: [PokeAPI](https://pokeapi.co/):\n",
    "\n",
    "![PokeAPI Screenshot](pokeapiscreenshot.png)\n",
    "\n",
    "Notice how this one boasts several endpoints (`pokemon`, `ability`, `type`, etc) for different kinds of queries.\n",
    "\n",
    "Let's start with with the `pokemon` endpoint to get data for specific pokemon. We can look at the documentation and see that it returns a pretty large JSON object. Scanning through, I see there's a keyword `game_indices` which has members beneath it for the `game_index` and `version`>`name`. I'll print out all of those.\n",
    "\n",
    "![PokeAPI Screenshot](pokemonendpoint.png)"
   ]
  },
  {
   "cell_type": "code",
   "execution_count": null,
   "metadata": {},
   "outputs": [],
   "source": [
    "bulbresponse = requests.get(\"http://pokeapi.co/api/v2/pokemon/bulbasaur\")\n",
    "\n",
    "# Check to make sure it worked\n",
    "if bulbresponse.status_code == 200:\n",
    "    \n",
    "    # Convert to JSON and loop through to see the index and versions\n",
    "    bulbj = json.loads(bulbresponse.content)\n",
    "    for game in bulbj[\"game_indices\"]:\n",
    "        print(f'Index: {game[\"game_index\"]} in {game[\"version\"][\"name\"]}')\n",
    "        \n",
    "# If the status code is something else, check it\n",
    "else:\n",
    "    print(bulbresponse)"
   ]
  },
  {
   "cell_type": "markdown",
   "metadata": {},
   "source": [
    "What if we want several Pokemon? This API provides us a way to index the results with the keywords `limit` and `offest`. We use the `?` to indicate we are passing parameters and the ampersand `&` to glue the parameters together."
   ]
  },
  {
   "cell_type": "code",
   "execution_count": null,
   "metadata": {},
   "outputs": [],
   "source": [
    "response5 = requests.get(\"http://pokeapi.co/api/v2/location?limit=10&offset=5\")\n",
    "\n",
    "# Check to make sure it worked\n",
    "if response5.status_code == 200:\n",
    "    \n",
    "    # Convert to JSON and loop through to see the name and URL\n",
    "    j5 = json.loads(response5.content)\n",
    "    for place in j5[\"results\"]:\n",
    "        print(place[\"name\"], '\\t', place[\"url\"])\n",
    "        \n",
    "# If the status code is something else, check it\n",
    "else:\n",
    "    print(response5)"
   ]
  },
  {
   "cell_type": "markdown",
   "metadata": {},
   "source": [
    "For this API, there are end points for most indices and names, so `limit` and `offset` are really there to provide a mechanism to do pagination of the results. In other APIs, this method may be the most expedient way to provide parameters for queries.\n",
    "\n",
    "Another thing to note is that the PokeAPI policies **require caching** so they don't have to serve up large quantities of data repeatedly to the same client. There are several libraries, [such as this one](https://github.com/PokeAPI/pokebase) that can handle this for you for this particular API. If you use an API in your project, please make sure you are following the API's policies."
   ]
  },
  {
   "cell_type": "markdown",
   "metadata": {},
   "source": [
    "Let's see one more example of using parameters from [nationalize.io](https://nationalize.io/) which purportedly predicts nationality based on last name. *We don't vouch for it--we're just using it as a free API with a parameter.* Note that it is limited to 100 requests/day without an API key."
   ]
  },
  {
   "cell_type": "code",
   "execution_count": null,
   "metadata": {},
   "outputs": [],
   "source": [
    "response = requests.get(\"https://api.nationalize.io/?name=wang\")\n",
    "\n",
    "# Check to make sure it worked\n",
    "if response.status_code == 200:\n",
    "    \n",
    "    # Print the summary of the taco\n",
    "    responsej = json.loads(response.content)\n",
    "    for country in responsej['country']:\n",
    "        print(f'{country[\"country_id\"]}, probability:{country[\"probability\"]}')\n",
    "        \n",
    "# If the status code is something else, check it\n",
    "else:\n",
    "    print(response)"
   ]
  }
 ],
 "metadata": {
  "anaconda-cloud": {},
  "kernelspec": {
   "display_name": "Python 3 (ipykernel)",
   "language": "python",
   "name": "python3"
  },
  "language_info": {
   "codemirror_mode": {
    "name": "ipython",
    "version": 3
   },
   "file_extension": ".py",
   "mimetype": "text/x-python",
   "name": "python",
   "nbconvert_exporter": "python",
   "pygments_lexer": "ipython3",
   "version": "3.9.6"
  }
 },
 "nbformat": 4,
 "nbformat_minor": 1
}
