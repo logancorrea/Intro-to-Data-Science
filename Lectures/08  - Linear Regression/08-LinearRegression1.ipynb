{
 "cells": [
  {
   "cell_type": "markdown",
   "metadata": {
    "slideshow": {
     "slide_type": "slide"
    }
   },
   "source": [
    "# Introduction to Data Science \n",
    "# Lecture 8: Linear Regression 1\n",
    "*COMP 5360 / MATH 4100, University of Utah, http://datasciencecourse.net/*\n",
    "\n",
    "In this lecture, we'll discuss:\n",
    "* Simple linear regression (SLR)\n",
    "* Example: advertisement effects\n",
    "* Descriptive vs. inferential viewpoints \n",
    "* Multiple linear regression \n",
    "* Nonlinear relationships \n",
    "\n",
    "Recommended reading:\n",
    "* G. James, D. Witten, T. Hastie, and R. Tibshirani, An Introduction to Statistical Learning, Ch. 3 [digital version available here](https://d1wqtxts1xzle7.cloudfront.net/60707896/An_Introduction_to_Statistical_Learning_with_Applications_in_R-Springer_201320190925-63943-2cqzhk-libre.pdf?1569480857=&response-content-disposition=inline%3B+filename%3DAn_Introduction_to_Statistical_Learning.pdf&Expires=1675807025&Signature=EpiMSZAPOQ6yVW2yAZzLWCYz0MUeqp04yzupocLwB5CLHj5ugPf90tXrC6unkVv96az1rCxOeNnNb0bJl5KTCRUJHt7vXtu8pSC7H5vUO7NFOKf7QAmq4Z8vvvpkhN29uWD~fidv3lTH~Glg4-qdaGKf~qNg0J1cqnJ-ibwZCWjTuReWC4DMsi~00dA76CL4woM1a3uMUYsiCQF9~qchsI~t9hUFmvBByql3eFhGgxU2IJBCMJ~sUk~fnhmK-aGITL1ATOTVIa4rT1ucm7lh64ROdsu5RhEv5VpxotU~JjYbwdAvqiNB~QjAiIRELzqYvMOKiccn8uL0POR5DAdPqQ__&Key-Pair-Id=APKAJLOHF5GGSLRBV4ZA)\n"
   ]
  },
  {
   "cell_type": "markdown",
   "metadata": {
    "slideshow": {
     "slide_type": "slide"
    }
   },
   "source": [
    "## Linear Regression \n",
    "\n",
    "*Linear regression* models the relationship between an **independent (explanatory)** variable $X$ and a quantitative **dependent (response)** value $Y$.\n",
    "\n",
    "#### Examples:\n",
    "<table style=\"width:60%\">\n",
    "  <tr>\n",
    "    <th>explanatory variable, X</th>\n",
    "    <th>dependent variable, Y</th> \n",
    "  </tr>\n",
    "  <tr>\n",
    "    <td>square footage</td>\n",
    "    <td>house price</td> \n",
    "  </tr>\n",
    "  <tr>\n",
    "    <td>advertising dollars spent</td>\n",
    "    <td>profit</td> \n",
    "  </tr>\n",
    "  <tr>\n",
    "    <td>stress</td>\n",
    "    <td>lifespan</td> \n",
    "  </tr>\n",
    "  <tr>\n",
    "    <td>?</td>\n",
    "    <td>?</td> \n",
    "  </tr>  \n",
    "</table>\n",
    "\n",
    "<br> \n",
    "\n",
    "#### What is wrong with this? \n",
    "\n",
    "<table style=\"width:60%\">\n",
    "  <tr>\n",
    "    <th>explanatory variable, X</th>\n",
    "    <th>dependent variable, Y</th> \n",
    "  </tr>\n",
    "  <tr>\n",
    "    <td> time spent studying </td>\n",
    "    <td> pass/fail </td> \n",
    "  </tr>\n",
    "</table>\n",
    "\n",
    "* Quantitative vs. categorical variables"
   ]
  },
  {
   "cell_type": "markdown",
   "metadata": {
    "slideshow": {
     "slide_type": "slide"
    }
   },
   "source": [
    "## Simple Linear Regression (SLR)\n",
    "\n",
    "**Data**: We have $n$ samples $(x_1, y_1), \\ (x_2, y_2),\\ldots,(x_n, y_n)$.\n",
    "\n",
    "**Model**: $y \\sim \\beta_0 + \\beta_1 x$ \n",
    "\n",
    "**Goal**: Find the best values of $\\beta_0$ and $\\beta_1$, denoted $\\hat{\\beta}_0$ and $\\hat{\\beta}_1$, so that the prediction $\\hat{y} = \\hat{\\beta}_0 + \\hat{\\beta}_1 x$ \"best fits\" the data.\n",
    "\n",
    "<img src=\"438px-Linear_regression.png\" width=\"40%\" alt=\"https://en.wikipedia.org/wiki/Linear_regression\">\n",
    "\n",
    "**Theorem.** \n",
    "The best parameters in the *least squares sense* are:\n",
    "$$\n",
    "\\hat{\\beta}_1 = \\frac{\\sum_{i=1}^n (x_i - \\overline{x})(y_i - \\overline{y}) }{\\sum_{i=1}^n (x_i - \\overline{x})^2}\n",
    "\\qquad \\textrm{and} \\qquad\n",
    "\\hat{\\beta}_0 = \\overline{y} -  \\hat{\\beta}_1 \\overline{x}. \n",
    "$$\n",
    "where $\\overline{x} = \\frac{1}{n} \\sum_{i=1}^n x_i$ and $\\overline{y} = \\frac{1}{n} \\sum_{i=1}^n y_i$. \n",
    "\n",
    "**Proof.** See proof in SLR.pdf note.\n"
   ]
  },
  {
   "cell_type": "markdown",
   "metadata": {
    "slideshow": {
     "slide_type": "slide"
    }
   },
   "source": [
    "## Simple linear regression with python\n",
    "\n",
    "### Python packages for regression\n",
    "There are several different python packages that do regression:\n",
    "+ [statsmodels](http://statsmodels.sourceforge.net/)\n",
    "+ [scikit-learn](http://scikit-learn.org/)\n",
    "+ [SciPy](http://www.scipy.org/)\n",
    "+ ... \n",
    "\n",
    "\n",
    "Today, we'll look at both `statsmodels` and `scikit-learn`. One can also use SciPy for linear regression, but its built-in functionality is comparatively limited. \n",
    "\n",
    "\n",
    "### Example dataset\n",
    "To illustrate linear regression, we'll use the 'Advertising' dataset saved in the lecture folder.\n",
    "\n",
    "For 200 different 'markets' (think different cities), this dataset consists of the number of sales of a particular product as well as the advertising budget for different media: TV, radio, and newspaper. \n",
    "\n",
    "We’ll use linear regression to study the effect of advertising on sales. \n",
    "Here, sales is the dependent variable and the budgets are the independent variables. This might help inform or evaluate an advertising strategy for this product.  "
   ]
  },
  {
   "cell_type": "code",
   "execution_count": 4,
   "metadata": {
    "slideshow": {
     "slide_type": "slide"
    },
    "tags": []
   },
   "outputs": [],
   "source": [
    "# imports and setup\n",
    "\n",
    "import scipy as sc\n",
    "from scipy.stats import norm\n",
    "\n",
    "import pandas as pd\n",
    "import numpy as np\n",
    "import statsmodels.formula.api as sm # For regression analysis\n",
    "from sklearn import linear_model # For regression analysis\n",
    "\n",
    "import matplotlib.pyplot as plt\n",
    "%matplotlib inline  \n",
    "plt.rcParams['figure.figsize'] = (10, 6)\n",
    "\n",
    "from mpl_toolkits.mplot3d import Axes3D\n",
    "from matplotlib import cm"
   ]
  },
  {
   "cell_type": "code",
   "execution_count": 5,
   "metadata": {
    "slideshow": {
     "slide_type": "slide"
    },
    "tags": []
   },
   "outputs": [
    {
     "data": {
      "text/html": [
       "<div>\n",
       "<style scoped>\n",
       "    .dataframe tbody tr th:only-of-type {\n",
       "        vertical-align: middle;\n",
       "    }\n",
       "\n",
       "    .dataframe tbody tr th {\n",
       "        vertical-align: top;\n",
       "    }\n",
       "\n",
       "    .dataframe thead th {\n",
       "        text-align: right;\n",
       "    }\n",
       "</style>\n",
       "<table border=\"1\" class=\"dataframe\">\n",
       "  <thead>\n",
       "    <tr style=\"text-align: right;\">\n",
       "      <th></th>\n",
       "      <th>TV</th>\n",
       "      <th>Radio</th>\n",
       "      <th>Newspaper</th>\n",
       "      <th>Sales</th>\n",
       "    </tr>\n",
       "  </thead>\n",
       "  <tbody>\n",
       "    <tr>\n",
       "      <th>1</th>\n",
       "      <td>230.1</td>\n",
       "      <td>37.8</td>\n",
       "      <td>69.2</td>\n",
       "      <td>22.1</td>\n",
       "    </tr>\n",
       "    <tr>\n",
       "      <th>2</th>\n",
       "      <td>44.5</td>\n",
       "      <td>39.3</td>\n",
       "      <td>45.1</td>\n",
       "      <td>10.4</td>\n",
       "    </tr>\n",
       "    <tr>\n",
       "      <th>3</th>\n",
       "      <td>17.2</td>\n",
       "      <td>45.9</td>\n",
       "      <td>69.3</td>\n",
       "      <td>9.3</td>\n",
       "    </tr>\n",
       "    <tr>\n",
       "      <th>4</th>\n",
       "      <td>151.5</td>\n",
       "      <td>41.3</td>\n",
       "      <td>58.5</td>\n",
       "      <td>18.5</td>\n",
       "    </tr>\n",
       "    <tr>\n",
       "      <th>5</th>\n",
       "      <td>180.8</td>\n",
       "      <td>10.8</td>\n",
       "      <td>58.4</td>\n",
       "      <td>12.9</td>\n",
       "    </tr>\n",
       "    <tr>\n",
       "      <th>...</th>\n",
       "      <td>...</td>\n",
       "      <td>...</td>\n",
       "      <td>...</td>\n",
       "      <td>...</td>\n",
       "    </tr>\n",
       "    <tr>\n",
       "      <th>196</th>\n",
       "      <td>38.2</td>\n",
       "      <td>3.7</td>\n",
       "      <td>13.8</td>\n",
       "      <td>7.6</td>\n",
       "    </tr>\n",
       "    <tr>\n",
       "      <th>197</th>\n",
       "      <td>94.2</td>\n",
       "      <td>4.9</td>\n",
       "      <td>8.1</td>\n",
       "      <td>9.7</td>\n",
       "    </tr>\n",
       "    <tr>\n",
       "      <th>198</th>\n",
       "      <td>177.0</td>\n",
       "      <td>9.3</td>\n",
       "      <td>6.4</td>\n",
       "      <td>12.8</td>\n",
       "    </tr>\n",
       "    <tr>\n",
       "      <th>199</th>\n",
       "      <td>283.6</td>\n",
       "      <td>42.0</td>\n",
       "      <td>66.2</td>\n",
       "      <td>25.5</td>\n",
       "    </tr>\n",
       "    <tr>\n",
       "      <th>200</th>\n",
       "      <td>232.1</td>\n",
       "      <td>8.6</td>\n",
       "      <td>8.7</td>\n",
       "      <td>13.4</td>\n",
       "    </tr>\n",
       "  </tbody>\n",
       "</table>\n",
       "<p>200 rows × 4 columns</p>\n",
       "</div>"
      ],
      "text/plain": [
       "        TV  Radio  Newspaper  Sales\n",
       "1    230.1   37.8       69.2   22.1\n",
       "2     44.5   39.3       45.1   10.4\n",
       "3     17.2   45.9       69.3    9.3\n",
       "4    151.5   41.3       58.5   18.5\n",
       "5    180.8   10.8       58.4   12.9\n",
       "..     ...    ...        ...    ...\n",
       "196   38.2    3.7       13.8    7.6\n",
       "197   94.2    4.9        8.1    9.7\n",
       "198  177.0    9.3        6.4   12.8\n",
       "199  283.6   42.0       66.2   25.5\n",
       "200  232.1    8.6        8.7   13.4\n",
       "\n",
       "[200 rows x 4 columns]"
      ]
     },
     "execution_count": 5,
     "metadata": {},
     "output_type": "execute_result"
    }
   ],
   "source": [
    "advert = pd.read_csv('Advertising.csv',index_col=0) #load data; use the values in column 0 as index values\n",
    "advert"
   ]
  },
  {
   "cell_type": "markdown",
   "metadata": {
    "slideshow": {
     "slide_type": "slide"
    }
   },
   "source": [
    "## Plot and describe the data"
   ]
  },
  {
   "cell_type": "code",
   "execution_count": 6,
   "metadata": {
    "slideshow": {
     "slide_type": "-"
    },
    "tags": []
   },
   "outputs": [
    {
     "data": {
      "image/png": "[encoded data removed]",
      "text/plain": [
       "<Figure size 1000x600 with 1 Axes>"
      ]
     },
     "metadata": {},
     "output_type": "display_data"
    }
   ],
   "source": [
    "plt.scatter(x=advert['TV'],y=advert['Sales'],c='r',marker='s',label='TV')\n",
    "plt.scatter(x=advert['Radio'],y=advert['Sales'],c='b',marker='o',label='Radio')\n",
    "plt.scatter(x=advert['Newspaper'],y=advert['Sales'],c='k',marker='*',label='Newspaper')\n",
    "\n",
    "plt.legend(loc=4)\n",
    "plt.xlabel('Ad budget (Thousands of dollars)')\n",
    "plt.ylabel('Sales (units of product)')\n",
    "plt.show()"
   ]
  },
  {
   "cell_type": "code",
   "execution_count": 7,
   "metadata": {
    "slideshow": {
     "slide_type": "-"
    }
   },
   "outputs": [
    {
     "data": {
      "text/html": [
       "<div>\n",
       "<style scoped>\n",
       "    .dataframe tbody tr th:only-of-type {\n",
       "        vertical-align: middle;\n",
       "    }\n",
       "\n",
       "    .dataframe tbody tr th {\n",
       "        vertical-align: top;\n",
       "    }\n",
       "\n",
       "    .dataframe thead th {\n",
       "        text-align: right;\n",
       "    }\n",
       "</style>\n",
       "<table border=\"1\" class=\"dataframe\">\n",
       "  <thead>\n",
       "    <tr style=\"text-align: right;\">\n",
       "      <th></th>\n",
       "      <th>TV</th>\n",
       "      <th>Radio</th>\n",
       "      <th>Newspaper</th>\n",
       "      <th>Sales</th>\n",
       "    </tr>\n",
       "  </thead>\n",
       "  <tbody>\n",
       "    <tr>\n",
       "      <th>count</th>\n",
       "      <td>200.000000</td>\n",
       "      <td>200.000000</td>\n",
       "      <td>200.000000</td>\n",
       "      <td>200.000000</td>\n",
       "    </tr>\n",
       "    <tr>\n",
       "      <th>mean</th>\n",
       "      <td>147.042500</td>\n",
       "      <td>23.264000</td>\n",
       "      <td>30.554000</td>\n",
       "      <td>14.022500</td>\n",
       "    </tr>\n",
       "    <tr>\n",
       "      <th>std</th>\n",
       "      <td>85.854236</td>\n",
       "      <td>14.846809</td>\n",
       "      <td>21.778621</td>\n",
       "      <td>5.217457</td>\n",
       "    </tr>\n",
       "    <tr>\n",
       "      <th>min</th>\n",
       "      <td>0.700000</td>\n",
       "      <td>0.000000</td>\n",
       "      <td>0.300000</td>\n",
       "      <td>1.600000</td>\n",
       "    </tr>\n",
       "    <tr>\n",
       "      <th>25%</th>\n",
       "      <td>74.375000</td>\n",
       "      <td>9.975000</td>\n",
       "      <td>12.750000</td>\n",
       "      <td>10.375000</td>\n",
       "    </tr>\n",
       "    <tr>\n",
       "      <th>50%</th>\n",
       "      <td>149.750000</td>\n",
       "      <td>22.900000</td>\n",
       "      <td>25.750000</td>\n",
       "      <td>12.900000</td>\n",
       "    </tr>\n",
       "    <tr>\n",
       "      <th>75%</th>\n",
       "      <td>218.825000</td>\n",
       "      <td>36.525000</td>\n",
       "      <td>45.100000</td>\n",
       "      <td>17.400000</td>\n",
       "    </tr>\n",
       "    <tr>\n",
       "      <th>max</th>\n",
       "      <td>296.400000</td>\n",
       "      <td>49.600000</td>\n",
       "      <td>114.000000</td>\n",
       "      <td>27.000000</td>\n",
       "    </tr>\n",
       "  </tbody>\n",
       "</table>\n",
       "</div>"
      ],
      "text/plain": [
       "               TV       Radio   Newspaper       Sales\n",
       "count  200.000000  200.000000  200.000000  200.000000\n",
       "mean   147.042500   23.264000   30.554000   14.022500\n",
       "std     85.854236   14.846809   21.778621    5.217457\n",
       "min      0.700000    0.000000    0.300000    1.600000\n",
       "25%     74.375000    9.975000   12.750000   10.375000\n",
       "50%    149.750000   22.900000   25.750000   12.900000\n",
       "75%    218.825000   36.525000   45.100000   17.400000\n",
       "max    296.400000   49.600000  114.000000   27.000000"
      ]
     },
     "execution_count": 7,
     "metadata": {},
     "output_type": "execute_result"
    }
   ],
   "source": [
    "advert.describe()"
   ]
  },
  {
   "cell_type": "markdown",
   "metadata": {
    "slideshow": {
     "slide_type": "-"
    }
   },
   "source": [
    "## Observations \n",
    "+ From the plot, it is clear that there is a relationship between the advertising budgets and sales. Basically, the more money spent, the larger the number of sales. \n",
    "+  The most money was spent on TV advertising. The amount for Radio and Newspaper is about the same in all markets, whereas the standard deviation for TV advertising is larger. \n",
    "\n",
    "## Questions\n",
    "+ How can we quantify the relationship between advertising and sales? Can we predict the effect of each ad media on sales? Is the relationship linear? \n",
    "+  Which of the different ad media (TV, Radio, Newspaper) are the most effective at generating sales? \n",
    "+  Are there interactions between the different ad media?\n",
    "\n",
    "First, let's just look at the **effect of TV advertising on sales**. We use the linear regression model\n",
    "$$\n",
    "Sales = \\beta_0 + \\beta_1 * TV.\n",
    "$$"
   ]
  },
  {
   "cell_type": "code",
   "execution_count": 8,
   "metadata": {
    "slideshow": {
     "slide_type": "-"
    },
    "tags": []
   },
   "outputs": [
    {
     "data": {
      "text/html": [
       "<table class=\"simpletable\">\n",
       "<caption>OLS Regression Results</caption>\n",
       "<tr>\n",
       "  <th>Dep. Variable:</th>          <td>Sales</td>      <th>  R-squared:         </th> <td>   0.612</td>\n",
       "</tr>\n",
       "<tr>\n",
       "  <th>Model:</th>                   <td>OLS</td>       <th>  Adj. R-squared:    </th> <td>   0.610</td>\n",
       "</tr>\n",
       "<tr>\n",
       "  <th>Method:</th>             <td>Least Squares</td>  <th>  F-statistic:       </th> <td>   312.1</td>\n",
       "</tr>\n",
       "<tr>\n",
       "  <th>Date:</th>             <td>Thu, 08 Feb 2024</td> <th>  Prob (F-statistic):</th> <td>1.47e-42</td>\n",
       "</tr>\n",
       "<tr>\n",
       "  <th>Time:</th>                 <td>16:58:12</td>     <th>  Log-Likelihood:    </th> <td> -519.05</td>\n",
       "</tr>\n",
       "<tr>\n",
       "  <th>No. Observations:</th>      <td>   200</td>      <th>  AIC:               </th> <td>   1042.</td>\n",
       "</tr>\n",
       "<tr>\n",
       "  <th>Df Residuals:</th>          <td>   198</td>      <th>  BIC:               </th> <td>   1049.</td>\n",
       "</tr>\n",
       "<tr>\n",
       "  <th>Df Model:</th>              <td>     1</td>      <th>                     </th>     <td> </td>   \n",
       "</tr>\n",
       "<tr>\n",
       "  <th>Covariance Type:</th>      <td>nonrobust</td>    <th>                     </th>     <td> </td>   \n",
       "</tr>\n",
       "</table>\n",
       "<table class=\"simpletable\">\n",
       "<tr>\n",
       "      <td></td>         <th>coef</th>     <th>std err</th>      <th>t</th>      <th>P>|t|</th>  <th>[0.025</th>    <th>0.975]</th>  \n",
       "</tr>\n",
       "<tr>\n",
       "  <th>Intercept</th> <td>    7.0326</td> <td>    0.458</td> <td>   15.360</td> <td> 0.000</td> <td>    6.130</td> <td>    7.935</td>\n",
       "</tr>\n",
       "<tr>\n",
       "  <th>TV</th>        <td>    0.0475</td> <td>    0.003</td> <td>   17.668</td> <td> 0.000</td> <td>    0.042</td> <td>    0.053</td>\n",
       "</tr>\n",
       "</table>\n",
       "<table class=\"simpletable\">\n",
       "<tr>\n",
       "  <th>Omnibus:</th>       <td> 0.531</td> <th>  Durbin-Watson:     </th> <td>   1.935</td>\n",
       "</tr>\n",
       "<tr>\n",
       "  <th>Prob(Omnibus):</th> <td> 0.767</td> <th>  Jarque-Bera (JB):  </th> <td>   0.669</td>\n",
       "</tr>\n",
       "<tr>\n",
       "  <th>Skew:</th>          <td>-0.089</td> <th>  Prob(JB):          </th> <td>   0.716</td>\n",
       "</tr>\n",
       "<tr>\n",
       "  <th>Kurtosis:</th>      <td> 2.779</td> <th>  Cond. No.          </th> <td>    338.</td>\n",
       "</tr>\n",
       "</table><br/><br/>Notes:<br/>[1] Standard Errors assume that the covariance matrix of the errors is correctly specified."
      ],
      "text/latex": [
       "\\begin{center}\n",
       "\\begin{tabular}{lclc}\n",
       "\\toprule\n",
       "\\textbf{Dep. Variable:}    &      Sales       & \\textbf{  R-squared:         } &     0.612   \\\\\n",
       "\\textbf{Model:}            &       OLS        & \\textbf{  Adj. R-squared:    } &     0.610   \\\\\n",
       "\\textbf{Method:}           &  Least Squares   & \\textbf{  F-statistic:       } &     312.1   \\\\\n",
       "\\textbf{Date:}             & Thu, 08 Feb 2024 & \\textbf{  Prob (F-statistic):} &  1.47e-42   \\\\\n",
       "\\textbf{Time:}             &     16:58:12     & \\textbf{  Log-Likelihood:    } &   -519.05   \\\\\n",
       "\\textbf{No. Observations:} &         200      & \\textbf{  AIC:               } &     1042.   \\\\\n",
       "\\textbf{Df Residuals:}     &         198      & \\textbf{  BIC:               } &     1049.   \\\\\n",
       "\\textbf{Df Model:}         &           1      & \\textbf{                     } &             \\\\\n",
       "\\textbf{Covariance Type:}  &    nonrobust     & \\textbf{                     } &             \\\\\n",
       "\\bottomrule\n",
       "\\end{tabular}\n",
       "\\begin{tabular}{lcccccc}\n",
       "                   & \\textbf{coef} & \\textbf{std err} & \\textbf{t} & \\textbf{P$> |$t$|$} & \\textbf{[0.025} & \\textbf{0.975]}  \\\\\n",
       "\\midrule\n",
       "\\textbf{Intercept} &       7.0326  &        0.458     &    15.360  &         0.000        &        6.130    &        7.935     \\\\\n",
       "\\textbf{TV}        &       0.0475  &        0.003     &    17.668  &         0.000        &        0.042    &        0.053     \\\\\n",
       "\\bottomrule\n",
       "\\end{tabular}\n",
       "\\begin{tabular}{lclc}\n",
       "\\textbf{Omnibus:}       &  0.531 & \\textbf{  Durbin-Watson:     } &    1.935  \\\\\n",
       "\\textbf{Prob(Omnibus):} &  0.767 & \\textbf{  Jarque-Bera (JB):  } &    0.669  \\\\\n",
       "\\textbf{Skew:}          & -0.089 & \\textbf{  Prob(JB):          } &    0.716  \\\\\n",
       "\\textbf{Kurtosis:}      &  2.779 & \\textbf{  Cond. No.          } &     338.  \\\\\n",
       "\\bottomrule\n",
       "\\end{tabular}\n",
       "%\\caption{OLS Regression Results}\n",
       "\\end{center}\n",
       "\n",
       "Notes: \\newline\n",
       " [1] Standard Errors assume that the covariance matrix of the errors is correctly specified."
      ],
      "text/plain": [
       "<class 'statsmodels.iolib.summary.Summary'>\n",
       "\"\"\"\n",
       "                            OLS Regression Results                            \n",
       "==============================================================================\n",
       "Dep. Variable:                  Sales   R-squared:                       0.612\n",
       "Model:                            OLS   Adj. R-squared:                  0.610\n",
       "Method:                 Least Squares   F-statistic:                     312.1\n",
       "Date:                Thu, 08 Feb 2024   Prob (F-statistic):           1.47e-42\n",
       "Time:                        16:58:12   Log-Likelihood:                -519.05\n",
       "No. Observations:                 200   AIC:                             1042.\n",
       "Df Residuals:                     198   BIC:                             1049.\n",
       "Df Model:                           1                                         \n",
       "Covariance Type:            nonrobust                                         \n",
       "==============================================================================\n",
       "                 coef    std err          t      P>|t|      [0.025      0.975]\n",
       "------------------------------------------------------------------------------\n",
       "Intercept      7.0326      0.458     15.360      0.000       6.130       7.935\n",
       "TV             0.0475      0.003     17.668      0.000       0.042       0.053\n",
       "==============================================================================\n",
       "Omnibus:                        0.531   Durbin-Watson:                   1.935\n",
       "Prob(Omnibus):                  0.767   Jarque-Bera (JB):                0.669\n",
       "Skew:                          -0.089   Prob(JB):                        0.716\n",
       "Kurtosis:                       2.779   Cond. No.                         338.\n",
       "==============================================================================\n",
       "\n",
       "Notes:\n",
       "[1] Standard Errors assume that the covariance matrix of the errors is correctly specified.\n",
       "\"\"\""
      ]
     },
     "execution_count": 8,
     "metadata": {},
     "output_type": "execute_result"
    }
   ],
   "source": [
    "ad_TV_ols = sm.ols(formula=\"Sales ~ TV\", data=advert).fit()\n",
    "ad_TV_ols.summary()"
   ]
  },
  {
   "cell_type": "code",
   "execution_count": 9,
   "metadata": {
    "slideshow": {
     "slide_type": "-"
    }
   },
   "outputs": [
    {
     "data": {
      "image/png": "[encoded data removed]",
      "text/plain": [
       "<Figure size 1000x600 with 1 Axes>"
      ]
     },
     "metadata": {},
     "output_type": "display_data"
    }
   ],
   "source": [
    "plt.scatter(x=advert['TV'],y=advert['Sales'],c='k',marker='*',label='TV')\n",
    "plt.plot(advert['TV'],ad_TV_ols.predict(),color='blue',linewidth=3)\n",
    "\n",
    "plt.xlabel('TV budget (Thousands of dollars)')\n",
    "plt.ylabel('Sales (Thousand units of product)')\n",
    "plt.show()"
   ]
  },
  {
   "cell_type": "markdown",
   "metadata": {
    "slideshow": {
     "slide_type": "-"
    }
   },
   "source": [
    "## Interpretation and discussion\n",
    "\n",
    "The intercept of the line is $\\hat{\\beta}_0 = 7.032$. This means that without any TV advertising, the model predicts that 7,032 units of product will be sold. \n",
    "\n",
    "The slope of the line is $\\hat{\\beta}_1 = 0.0475$. This means that the model predicts that for every additional $1k spent on TV advertising, an additional 47.5 units of product are sold. \n",
    "\n",
    "**So how good is this fit?** \n",
    "\n",
    "One way to measure the quality of the fit is to look at the sum of the squared residuals,\n",
    "$$\n",
    "SSR = \\sum_{i=1}^n (y_i - \\hat{\\beta}_0 - \\hat{\\beta}_1 x_i)^2. \n",
    "$$\n",
    "Remember that SSR is the quantity that we minimized to find $\\hat{\\beta}_0$ and $\\hat{\\beta}_1$ in the first place (We called it $J(\\beta_0,\\beta_1)$.) If this number is very small, then the model fits the data very well. \n"
   ]
  },
  {
   "cell_type": "code",
   "execution_count": 10,
   "metadata": {
    "slideshow": {
     "slide_type": "-"
    }
   },
   "outputs": [
    {
     "data": {
      "text/plain": [
       "2102.5305831313512"
      ]
     },
     "execution_count": 10,
     "metadata": {},
     "output_type": "execute_result"
    }
   ],
   "source": [
    "ad_TV_ols.ssr"
   ]
  },
  {
   "cell_type": "markdown",
   "metadata": {
    "slideshow": {
     "slide_type": "-"
    }
   },
   "source": [
    "But how small is small?...good question. This number, SSR, is difficult to interpret by itself (how about scale both $x$ and $y$ by a constant?). A more easily interpretable number is the **$R^2$ value**. \n",
    "\n",
    "The $R^2$ value is an alternative way to measure how good of a fit the model is to the data. **The benefit of the $R^2$ value over the SSR is that it is a proportion (takes values between 0 and 1) so it is easier to interpret what a *good* value is**. We first define the sum of squared residuals (SSR) and total sum of squares (TSS) by\n",
    "$$\n",
    "SSR = \\sum_{i=1}^n (y_i - \\hat\\beta_0 - \\hat\\beta_1 x_i)^2\n",
    "\\qquad \\text{and} \\qquad \n",
    "TSS = \\sum_{i=1}^n (y_i - \\bar y)^2. \n",
    "$$\n",
    "SSR measures the amount of variability left unexplained after the linear regression. TSS measures the total variance in the dependent variable. We compute the $R^2$ value as\n",
    "$$\n",
    "R^2 = 1 - \\frac{SSR}{TSS}.\n",
    "$$\n",
    "This is the **proportion of the variance explained by the model**. A model is good if the $R^2$ value is nearly one (the model explains all of the variance in the data). Notice that $SSR\\leq TSS$ (why?).\n",
    "\n",
    "In our model, the value is $R^2 = 0.612$, which isn't bad. The model explains $61\\%$ of the variability in sales. \n",
    "\n",
    "*Note*: for simple linear regression, the $R^2$ value is the same as the linear correlation coefficient $r^2$ between the observed data $y$ and the predicted values $\\hat{y}$. However the $R^2$ value generalizes more easily to more complicated regression models, so the $R^2$ value is typically considered instead of correlation.\n",
    "\n",
    "![image](http://imgs.xkcd.com/comics/linear_regression.png)\n",
    "\n"
   ]
  },
  {
   "cell_type": "markdown",
   "metadata": {
    "slideshow": {
     "slide_type": "slide"
    }
   },
   "source": [
    "## Repeating the simple linear regression with scikit-learn"
   ]
  },
  {
   "cell_type": "code",
   "execution_count": 11,
   "metadata": {
    "slideshow": {
     "slide_type": "-"
    }
   },
   "outputs": [
    {
     "data": {
      "image/png": "[encoded data removed]",
      "text/plain": [
       "<Figure size 1000x600 with 1 Axes>"
      ]
     },
     "metadata": {},
     "output_type": "display_data"
    }
   ],
   "source": [
    "lr = linear_model.LinearRegression() # create a linear regression object\n",
    "\n",
    "# scikit-learn doesn't work as well with pandas, so we have to extract values \n",
    "x = advert['TV'].values.reshape(advert['TV'].shape[0],1)\n",
    "y = advert['Sales'].values.reshape(advert['Sales'].shape[0],1)\n",
    "#print(advert['TV'].shape[0])\n",
    "#print(x)\n",
    "#print(type(x))\n",
    "\n",
    "lr.fit(X=x, y=y)\n",
    "\n",
    "plt.scatter(x, y,  color='black')\n",
    "plt.plot(x, lr.predict(x), color='blue', linewidth=3)\n",
    "\n",
    "plt.xlabel('TV budget (Thousands of dollars)')\n",
    "plt.ylabel('Sales (Thousand units of product)')\n",
    "plt.show()"
   ]
  },
  {
   "cell_type": "markdown",
   "metadata": {
    "slideshow": {
     "slide_type": "slide"
    }
   },
   "source": [
    "## Hypothesis testing in linear regression\n",
    "\n",
    "In lecture 4, we introduced a distinction between descriptive statistics and statistical inference. \n",
    "1. In descriptive statistics, one seeks just to describe the data. In the present setting, we have described how the response variable linearly depends on the predictor variable by minimizing the residual sum of squares (RSS). \n",
    "+ The statistical inference way of looking at this problem would be to **suppose that there exists a ground truth population with $x$ and $y$** related by \n",
    "$$\n",
    "y = \\beta_0 + \\beta_1 x \n",
    "$$\n",
    "for some unknown values of $\\beta_0$ and $\\beta_1$. \n",
    "Our sampled data consists of points $(x_i, y_i)$ of the form \n",
    "$$\n",
    "y_i = \\beta_0 + \\beta_1 x_i + \\varepsilon_i. \n",
    "$$\n",
    "Here $\\varepsilon_i$ are random variable (say normally distributed) that we think of as \"error\" being introduced into the samples. The job of the statistician is to *infer* the values of $\\beta_0$ and $\\beta_1$ from the noisy data.  \n",
    "\n",
    "This is precisely the setting we were in when determining whether a coin was fair. There, we had a sample proportion of heads (analogous to the samples $(x_i,y_i)$ here.) We used the Central Limit Theorem to say that the variance (standard error) is given by\n",
    "$$\n",
    "SE(\\hat \\mu)^2 = \\sigma^2/n \n",
    "$$\n",
    "Using this value and assuming the null hypothesis (the coin is fair), we could evaluate the likelihood of obtaining a sample as extreme as the one obtained. \n",
    "\n",
    "In simple linear regression, we will take the null hypothesis to be\n",
    "$$\n",
    "H_0: \\text{There is no linear relationship between $x$ and $y$} \\iff \\beta_1 = 0 \n",
    "$$\n",
    "with alternative\n",
    "$$\n",
    "H_a: \\text{There is a linear relationship between $x$ and $y$}  \\iff \\beta_1 \\neq 0 \n",
    "$$\n",
    "We assume that $\\varepsilon$ is a normal random variable with zero mean and variance $\\sigma^2$. Using similar ideas as above, the standard error for $\\hat \\beta_0$ and $\\hat \\beta_1$ (estimates of true parameters in this model) are computed to be \n",
    "$$\n",
    "SE(\\hat \\beta_0)^2 = \\sigma^2 \\left( \\frac{1}{n} + \\frac{\\bar x^2}{\\sum_{i=1}^n (x_i - \\bar x)^2} \\right) \n",
    "\\quad \\text{and} \\quad\n",
    "SE(\\hat \\beta_1)^2 =  \\frac{\\sigma^2}{\\sum_{i=1}^n (x_i - \\bar x)^2}\n",
    "$$\n",
    "\n",
    "\n",
    "For this hypothesis test, the test statistic is \n",
    "$$\n",
    "t = \\frac{ \\hat \\beta_1 - 0}{SE(\\hat \\beta_1)},\n",
    "$$\n",
    "which under the assumptions of the null hypothesis, is distributed according to the **$t$ distribution with $n-2$ degrees of freedom**. The $p$-value is computed as the probability of observing a value as extreme as $|t|$. A small $p$-value is interpreted to mean that there is an association between the independent and dependent variables. "
   ]
  },
  {
   "cell_type": "markdown",
   "metadata": {
    "slideshow": {
     "slide_type": "-"
    }
   },
   "source": [
    "### An experiment\n",
    "Before we go back and discuss the $p$-values for the advertising data, let's look at some synthetic data. We generate 100 random points according to the model \n",
    "$$\n",
    "y = 3*x + \\varepsilon,\n",
    "$$\n",
    "where $\\varepsilon$ is normally distributed with mean zero and standard deviation 2. The best fit is found and this process is repeated 1000 times. "
   ]
  },
  {
   "cell_type": "code",
   "execution_count": null,
   "metadata": {
    "slideshow": {
     "slide_type": "-"
    }
   },
   "outputs": [],
   "source": [
    "f= lambda x: 3*x\n",
    "x = np.linspace(-2,2,3).reshape(3,1) #Define 3 values which will be used to plot regression line\n",
    "plt.figure(0)\n",
    "\n",
    "sample_size = 100\n",
    "betaOnes = []\n",
    "for ii in range(1000):\n",
    "    xp = norm.rvs(size=sample_size)\n",
    "    yp = f(xp)+norm.rvs(size=sample_size,scale=2)\n",
    "    \n",
    "    if ii == 0: plt.plot(xp,yp,'ro')        \n",
    "\n",
    "    lr = linear_model.LinearRegression()\n",
    "    lr.fit(X=xp.reshape(100,1), y=yp)\n",
    "    plt.plot(x,lr.predict(x),color='blue',linewidth=1)\n",
    "    \n",
    "    # Collect the slopes \n",
    "    betaOnes.append(lr.coef_[0])\n",
    "\n",
    "plt.plot(xp,f(xp),'k',linewidth=3)\n",
    "plt.xlim(-2,2)    \n",
    "plt.ylim(-10,10)    \n",
    "plt.title('Best fit lines for points generated from a random model')\n",
    "plt.show()\n",
    "\n",
    "plt.figure(1)\n",
    "plt.hist(betaOnes)\n",
    "plt.title('A histogram of estimates for beta_1')\n",
    "plt.show()\n"
   ]
  },
  {
   "cell_type": "markdown",
   "metadata": {
    "slideshow": {
     "slide_type": "-"
    }
   },
   "source": [
    "Now, let's return to the linear regression model of sales on TV advertising, \n",
    "$$\n",
    "Sales = \\beta_0 + \\beta_1 * TV.\n",
    "$$\n",
    "Looking at the `statsmodels` output, we see that the $p$-values for both the intercept and the slope are very small. The probability of obtaining these values is nearly zero, assuming $H_0$ is true. So, we reject the null hypothesis and say there is a linear association between TV advertising (independent variable) and sales (dependent variable). \n"
   ]
  },
  {
   "cell_type": "markdown",
   "metadata": {
    "slideshow": {
     "slide_type": "slide"
    }
   },
   "source": [
    "## Other advertisement methods?  \n",
    "Recall that we not only know the ad budget for TV, but also Radio and Newspaper. \n",
    "\n",
    "Next, let's repeat the linear regression analysis for the other types of advertisements using `statsmodels`. "
   ]
  },
  {
   "cell_type": "code",
   "execution_count": null,
   "metadata": {
    "slideshow": {
     "slide_type": "-"
    }
   },
   "outputs": [],
   "source": [
    "ad_Radio_ols = sm.ols(formula=\"Sales ~ Radio\", data=advert).fit()\n",
    "ad_Radio_ols.summary()"
   ]
  },
  {
   "cell_type": "code",
   "execution_count": null,
   "metadata": {
    "slideshow": {
     "slide_type": "-"
    }
   },
   "outputs": [],
   "source": [
    "ad_Newspaper_ols = sm.ols(formula=\"Sales ~ Newspaper\", data=advert).fit()\n",
    "ad_Newspaper_ols.summary()"
   ]
  },
  {
   "cell_type": "code",
   "execution_count": null,
   "metadata": {
    "slideshow": {
     "slide_type": "-"
    }
   },
   "outputs": [],
   "source": [
    "plt.scatter(x=advert['TV'],y=advert['Sales'],c='r',marker='s',label='TV')\n",
    "plt.scatter(x=advert['Radio'],y=advert['Sales'],c='b',marker='o',label='Radio')\n",
    "plt.scatter(x=advert['Newspaper'],y=advert['Sales'],c='k',marker='*',label='Newspaper')\n",
    "plt.legend(loc=4)\n",
    "\n",
    "plt.plot(advert['TV'],ad_TV_ols.predict(),c='r',linewidth=3)\n",
    "plt.plot(advert['Radio'],ad_Radio_ols.predict(),c='b',linewidth=3)\n",
    "plt.plot(advert['Newspaper'],ad_Newspaper_ols.predict(),c='k',linewidth=3)\n",
    "\n",
    "plt.xlabel('Ad budget (Thousands of dollars)')\n",
    "plt.ylabel('Sales (units of product)')\n",
    "plt.show()\n"
   ]
  },
  {
   "cell_type": "markdown",
   "metadata": {
    "slideshow": {
     "slide_type": "-"
    }
   },
   "source": [
    "## Interpretation\n",
    "\n",
    "*So what is the most effective advertising media?*\n",
    "\n",
    "The slope for radio is largest, so you might argue that this is the most effective advertising media. For every additional \\$1k spent on Radio advertising, an additional 202 units of product are sold. (Compare to 54.7 for newspaper and 47.5 for TV.)\n",
    "\n",
    "On the other hand, the $R^2$ value for radio is just $33\\%$. So the model isn't explaining as much of the data as the model for TV advertising ($R^2 = 61\\%$), but is explaining more than the model for newspaper advertising ($R^2 = 5\\%$). \n",
    "\n",
    "The main problem with the approach here is that for each advertising media we look at, we're ignoring the ads in the other media. For example, in the model for TV advertising, \n",
    "$$\n",
    "Sales = \\beta_0 + \\beta_1 * TV,\n",
    "$$\n",
    "we're ignoring both Radio and Newspaper advertising. \n",
    "\n",
    "We need to take all three into account at once. Maybe we can construct a model that looks like \n",
    "$$\n",
    "Sales = \\beta_0 + \\beta_1 * TV + \\beta_2*Radio + \\beta_3*Newspaper. \n",
    "$$\n",
    "This is the idea behind Multiple Linear Regression. "
   ]
  },
  {
   "cell_type": "markdown",
   "metadata": {
    "slideshow": {
     "slide_type": "slide"
    }
   },
   "source": [
    "## Multiple Linear Regression\n",
    "\n",
    "**Model:**\n",
    "$$\n",
    "Sales = \\beta_0 + \\beta_1 * TV + \\beta_2*Radio + \\beta_3*Newspaper. \n",
    "$$\n"
   ]
  },
  {
   "cell_type": "code",
   "execution_count": null,
   "metadata": {
    "slideshow": {
     "slide_type": "-"
    }
   },
   "outputs": [],
   "source": [
    "ad_all_ols = sm.ols(formula=\"Sales ~ TV + Radio + Newspaper\", data=advert).fit()\n",
    "ad_all_ols.summary()"
   ]
  },
  {
   "cell_type": "markdown",
   "metadata": {
    "slideshow": {
     "slide_type": "-"
    }
   },
   "source": [
    "## Interpretation\n",
    "\n",
    "Spending an additional \\$1,000  on radio advertising results in an increase in sales by 189 units. Radio is the most effective method of advertising. \n",
    "\n",
    "In multilinear regression, the F-test is a way to test the null hypothesis,\n",
    "$$\n",
    "H_0 = \\textrm{all coefficients are zero.}\n",
    "$$\n",
    "In this case, we see that the $p$-value for the $F$-statistic is vanishingly small - indicating that our model is significant. \n",
    "\n",
    "Now let's consider the individual coefficients in the model and their $p$-values. Note that the coefficients for TV and Radio are approximately the same as for simple linear regression. The coefficient for Newspaper changed significantly. Furthermore, note that the $p$-value is now very large $p=0.86$. There is not sufficient evidence to reject the null hypothesis that the Newspaper and Sales variables have no relationship. \n",
    "\n",
    "So then why did the simple linear regression give that there is a relationship between Newspaper and Sales Variables? \n",
    "*Newspaper is actually a confounder!* (Remember the example where temperature is a confounder for pool deaths and ice creams sales.) Let's look at the correlations between the four variables. Recall that correlation between two variables is given by \n",
    "$$\n",
    "r_{x,y} = \\frac{ \\frac{1}{n}\\sum_{i=1}^n (x_i - \\bar x) (y_i - \\bar y)}{s_x s_y}.\n",
    "$$\n",
    "Correlation is a number between −1 to +1 and measures how much the two variables vary together. \n",
    "\n",
    "Plotted below is also a scatter plot matrix, which is a good way of visualizing the correlations. "
   ]
  },
  {
   "cell_type": "code",
   "execution_count": null,
   "metadata": {
    "slideshow": {
     "slide_type": "-"
    }
   },
   "outputs": [],
   "source": [
    "print(advert.corr())\n",
    "#pd.plotting.scatter_matrix(advert, figsize=(10, 10), diagonal='kde')\n",
    "#plt.show()"
   ]
  },
  {
   "cell_type": "markdown",
   "metadata": {
    "slideshow": {
     "slide_type": "-"
    }
   },
   "source": [
    "The correlation between Newspaper and Radio is 0.35, which implies that in markets where the company advertised using Radio, they also advertised using newspaper. Thus, the influence of Radio on Sales can be incorrectly attributed to Newspaper advertisements! \n",
    "\n",
    "This leads us to the following linear regression model, where we forget about Newspaper advertisements:\n",
    "$$\n",
    "\\text{Sales} = \\beta_0 + \\beta_1 * \\text{TV_budget} + \\beta_2*\\text{Radio_budget} \n",
    "$$\n"
   ]
  },
  {
   "cell_type": "code",
   "execution_count": null,
   "metadata": {
    "slideshow": {
     "slide_type": "-"
    }
   },
   "outputs": [],
   "source": [
    "ad_TR_ols = sm.ols(formula=\"Sales ~ TV + Radio\", data=advert).fit()\n",
    "ad_TR_ols.summary()"
   ]
  },
  {
   "cell_type": "markdown",
   "metadata": {
    "slideshow": {
     "slide_type": "-"
    }
   },
   "source": [
    "This model performs pretty well. It accounts for $R^2 = 90\\%$ of the variance in the data. "
   ]
  },
  {
   "cell_type": "code",
   "execution_count": null,
   "metadata": {
    "slideshow": {
     "slide_type": "-"
    }
   },
   "outputs": [],
   "source": [
    "plt.rcParams['figure.figsize'] = (15, 9)\n",
    "\n",
    "fig = plt.figure()\n",
    "ax = fig.add_subplot(111, projection='3d')\n",
    "\n",
    "ax.scatter(xs=advert['TV'], ys=advert['Radio'], zs=advert['Sales'])\n",
    "\n",
    "x = np.linspace(advert['TV'].min(), advert['TV'].max(), 100)\n",
    "y = np.linspace(advert['Radio'].min(), advert['Radio'].max(), 100)\n",
    "X,Y = np.meshgrid(x,y)\n",
    "par = dict(ad_TR_ols.params)\n",
    "Z = par[\"Intercept\"] + par[\"TV\"]*X + par[\"Radio\"]*Y \n",
    "surf = ax.plot_surface(X, Y, Z,cmap=cm.Greys, alpha=0.2)\n",
    "\n",
    "ax.view_init(25,-71)\n",
    "\n",
    "ax.set_xlabel('TV budget')\n",
    "ax.set_ylabel('Radio budget')\n",
    "ax.set_zlabel('Sales')\n",
    "\n",
    "plt.show()"
   ]
  },
  {
   "cell_type": "markdown",
   "metadata": {
    "slideshow": {
     "slide_type": "slide"
    }
   },
   "source": [
    "## Nonlinear relationships\n",
    "\n",
    "We can consider the interaction between TV and Radio advertising in the model, by taking \n",
    "$$\n",
    "\\text{Sales} = \\beta_0 + \\beta_1 * \\text{TV_budget} + \\beta_2*\\text{Radio_budget} + \\beta_3 \\text{TV_budget} *\\text{Radio_budget}. \n",
    "$$\n",
    "The rational behind the last term is that perhaps spending $x$ on television advertising and $y$ on radio advertising leads to more sales than simply $x+y$. In marketing this is known as the *synergy effect* and in statistics it is known as the *interaction effect*.\n",
    "\n",
    "**Note**: even though the relationship between the independent and dependent variables is nonlinear, the model is still linear. "
   ]
  },
  {
   "cell_type": "code",
   "execution_count": null,
   "metadata": {
    "slideshow": {
     "slide_type": "-"
    }
   },
   "outputs": [],
   "source": [
    "ad_NL = sm.ols(formula=\"Sales ~ TV + Radio + TV*Radio\", data=advert).fit()\n",
    "ad_NL.summary()"
   ]
  },
  {
   "cell_type": "markdown",
   "metadata": {
    "slideshow": {
     "slide_type": "-"
    }
   },
   "source": [
    "This model is really excellent. All of the $p$-values are small and $R^2 = 97\\%$ of the variability in the data is accounted for by the model. "
   ]
  },
  {
   "cell_type": "code",
   "execution_count": null,
   "metadata": {
    "slideshow": {
     "slide_type": "-"
    }
   },
   "outputs": [],
   "source": [
    "fig = plt.figure()\n",
    "ax = fig.add_subplot(111, projection='3d')\n",
    "\n",
    "ax.scatter(xs=advert['TV'], ys=advert['Radio'], zs=advert['Sales'])\n",
    "\n",
    "x = np.linspace(advert['TV'].min(), advert['TV'].max(), 100)\n",
    "y = np.linspace(advert['Radio'].min(), advert['Radio'].max(), 100)\n",
    "X,Y = np.meshgrid(x,y)\n",
    "par = dict(ad_NL.params)\n",
    "Z = par[\"Intercept\"] + par[\"TV\"]*X + par[\"Radio\"]*Y + par[\"TV:Radio\"]*X*Y\n",
    "surf = ax.plot_surface(X, Y, Z,cmap=cm.Greys, alpha=0.2)\n",
    "\n",
    "ax.view_init(25,-71)\n",
    "\n",
    "ax.set_xlabel('TV budget')\n",
    "ax.set_ylabel('Radio budget')\n",
    "ax.set_zlabel('Sales')\n",
    "\n",
    "plt.show()"
   ]
  },
  {
   "cell_type": "markdown",
   "metadata": {
    "slideshow": {
     "slide_type": "-"
    }
   },
   "source": [
    "## A word of caution on overfitting (more on this later)\n",
    "\n",
    "It is tempting to include a lot of terms in the regression, but this is problematic. A useful model will  *generalize* beyond the data given to it. \n",
    "\n",
    "![image](http://imgs.xkcd.com/comics/curve_fitting_2x.png)\n"
   ]
  }
 ],
 "metadata": {
  "anaconda-cloud": {},
  "celltoolbar": "Slideshow",
  "kernelspec": {
   "display_name": "Python 3 (ipykernel)",
   "language": "python",
   "name": "python3"
  },
  "language_info": {
   "codemirror_mode": {
    "name": "ipython",
    "version": 3
   },
   "file_extension": ".py",
   "mimetype": "text/x-python",
   "name": "python",
   "nbconvert_exporter": "python",
   "pygments_lexer": "ipython3",
   "version": "3.11.4"
  }
 },
 "nbformat": 4,
 "nbformat_minor": 4
}
