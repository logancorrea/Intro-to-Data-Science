{
 "cells": [
  {
   "cell_type": "code",
   "execution_count": 36,
   "metadata": {},
   "outputs": [
    {
     "name": "stdout",
     "output_type": "stream",
     "text": [
      "78 78 78 59\n"
     ]
    }
   ],
   "source": [
    "from bs4 import BeautifulSoup\n",
    "import pandas as pd\n",
    "\n",
    "# Read in the html file and soup it \n",
    "with open('Data columns in Kepler Objects of Interest Table.html','r') as f:\n",
    "    html = f.read()\n",
    "    soup = BeautifulSoup(html, 'html.parser')\n",
    "\n",
    "#columns = []\n",
    "\n",
    "#for element in soup.find_all(class_='column'):\n",
    "#    columns.append(element.text.strip())\n",
    "\n",
    "\n",
    "# Column Names\n",
    "column_name = []\n",
    "for element in soup.find_all('td', class_='name'):\n",
    "    column_name.append(element.text.strip())\n",
    "\n",
    "# Table Label\n",
    "tabel_labels = []\n",
    "for element in soup.find_all('td', class_='label'):\n",
    "    text = element.text.strip()\n",
    "    if text != '' and '_str' not in text:\n",
    "        tabel_labels.append(element.text.strip())\n",
    "\n",
    "# Description\n",
    "description = []\n",
    "for element in soup.find_all('td', class_='description'):\n",
    "    description.append(element.text.strip())\n",
    "\n",
    "uncertainity = []\n",
    "for column in soup.find_all('td', class_='column'):\n",
    "\n",
    "    for element in soup.find_all('td', class_='uncertainty'):\n",
    "        text = element.text.strip()\n",
    "        if text != '&nbsp;':\n",
    "            uncertainity.append(text)\n",
    "        else:\n",
    "            uncertainity.append('None')\n",
    "\n",
    "print(len(column_name), len(tabel_labels), len(description), len(uncertainity))"
   ]
  },
  {
   "cell_type": "code",
   "execution_count": 80,
   "metadata": {},
   "outputs": [
    {
     "name": "stdout",
     "output_type": "stream",
     "text": [
      "85\n",
      "[None, None, None, None, None, None, 'koi_period_err1,', 'koi_period_err2', 'koi_time0bk_err1,', 'koi_time0bk_err2', 'koi_time0_err1,', 'koi_time0_err2', 'koi_eccen_err1,', 'koi_eccen_err2', 'koi_longp_err1,', 'koi_longp_err2', 'koi_impact_err1,', 'koi_impact_err2', 'koi_duration_err1,', 'koi_duration_err2', 'koi_ingress_err1,', 'koi_ingress_err2', 'koi_depth_err1,', 'koi_depth_err2', 'koi_ror_err1,', 'koi_ror_err2', 'koi_srho_err1,', 'koi_srho_err2', 'koi_prad_err1,', 'koi_prad_err2', 'koi_sma_err1,', 'koi_sma_err2', 'koi_incl_err1,', 'koi_incl_err2', 'koi_teq_err1,', 'koi_teq_err2', 'koi_dor_err1,', 'koi_dor_err2', None, None, None, None, None, None, None, None, None, None, None, None, None, 'koi_steff_err1,', 'koi_steff_err2', 'koi_slogg_err1,', 'koi_slogg_err2', 'koi_smet_err1,', 'koi_smet_err2', 'koi_srad_err1,', 'koi_srad_err2', 'koi_smass_err1,', 'koi_smass_err2', 'koi_sage_err1,', 'koi_sage_err2', 'ra_err', 'dec_err', 'koi_kepmag_err', 'koi_gmag_err', 'koi_rmag_err', 'koi_imag_err', 'koi_zmag_err', 'koi_jmag_err', 'koi_hmag_err', 'koi_kmag_err', 'koi_fwm_sra_err', 'koi_fwm_sdec_err', 'koi_fwm_srao_err', 'koi_fwm_sdeco_err', 'koi_fwm_prao_err', 'koi_fwm_pdeco_err', 'koi_dicco_mra_err', 'koi_dicco_mdec_err', 'koi_dicco_msky_err', 'koi_dikco_mra_err', 'koi_dikco_mdec_err', 'koi_dikco_msky_err']\n"
     ]
    }
   ],
   "source": [
    "uncertainty = []\n",
    "columns = soup.find_all('tr', class_='column')\n",
    "\n",
    "\n",
    "for item in columns:\n",
    "    uncertainty_element = item.find('td', class_='uncertainty')\n",
    "    if uncertainty_element:\n",
    "        uncertainty.extend(uncertainty_element.text.split())\n",
    "    else:\n",
    "        uncertainty.append(None)\n",
    "print(len(uncertainty))\n",
    "print(uncertainty)\n",
    "\n",
    "\n",
    "\n"
   ]
  },
  {
   "cell_type": "markdown",
   "metadata": {},
   "source": [
    "This research has made use of the NASA Exoplanet Archive, which is operated by the California Institute of Technology, under contract with the National Aeronautics and Space Administration under the Exoplanet Exploration Program.\n",
    "\n",
    "DOI 10.26133/NEA4"
   ]
  }
 ],
 "metadata": {
  "kernelspec": {
   "display_name": "Python 3",
   "language": "python",
   "name": "python3"
  },
  "language_info": {
   "codemirror_mode": {
    "name": "ipython",
    "version": 3
   },
   "file_extension": ".py",
   "mimetype": "text/x-python",
   "name": "python",
   "nbconvert_exporter": "python",
   "pygments_lexer": "ipython3",
   "version": "3.10.13"
  }
 },
 "nbformat": 4,
 "nbformat_minor": 2
}
