from sklearn.metrics import accuracy_score

# Assuming you have already trained the model and obtained predictions
y_pred = model.predict(X_test)

# Calculate the accuracy
accuracy = accuracy_score(y_test, y_pred)
print("Accuracy:", accuracy)