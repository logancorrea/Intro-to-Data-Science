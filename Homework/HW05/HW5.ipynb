{
 "cells": [
  {
   "cell_type": "markdown",
   "metadata": {},
   "source": [
    "# Introduction to Data Science – Homework 5\n",
    "*COMP 5360 / MATH 4100, University of Utah, http://datasciencecourse.net/*\n",
    "\n",
    "Due: Friday, February 23, 2024, 11:59pm.\n",
    "\n",
    "In this homework you will use linear regression to study house prices in Salt Lake City."
   ]
  },
  {
   "cell_type": "markdown",
   "metadata": {},
   "source": [
    "## Your Data\n",
    "Fill out the following information: \n",
    "\n",
    "*First Name: Logan*   \n",
    "*Last Name: Correa*   \n",
    "*E-mail: logan.correa@utah.edu*\n",
    "*UID: u1094034*  \n"
   ]
  },
  {
   "cell_type": "markdown",
   "metadata": {},
   "source": [
    "## Regression of real estate data\n",
    "For this problem, you will analyze SLC real estate data. The dataset contains multiple listing service (MLS) real estate transactions for houses sold in 2015-16 in zip code 84103 ([SLC avenues neighborhood](https://www.google.com/maps/place/Salt+Lake+City,+UT+84103/@40.8030372,-111.8957957,12z/data=!3m1!4b1!4m5!3m4!1s0x87525f672006dded:0x311e638d9a1a2de5!8m2!3d40.810506!4d-111.8449346)). We are primarily interested in regressing the `SoldPrice` on the house attributes (`property size`, `house size`, `number of bedrooms`, etc...). \n",
    "\n",
    "\n",
    "### Task 1: Import the data \n",
    "Use the [`pandas.read_csv()`](https://pandas.pydata.org/pandas-docs/stable/reference/api/pandas.read_csv.html) function to import the dataset. The data is contained in two files located in the same directory as this notebook: [`train1.csv`](train1.csv) and [`train2.csv`](train2.csv). After you import these files separately, concatenate them into one big dataframe. This pandas dataframe will be used for data exploration and linear regression. "
   ]
  },
  {
   "cell_type": "code",
   "execution_count": 2,
   "metadata": {},
   "outputs": [],
   "source": [
    "# imports and setup \n",
    "import pandas as pd\n",
    "import scipy as sc\n",
    "import numpy as np\n",
    "\n",
    "import statsmodels.formula.api as sm\n",
    "\n",
    "#%matplotlib notebook\n",
    "import matplotlib.pyplot as plt \n",
    "plt.style.use('ggplot')\n",
    "%matplotlib inline  \n",
    "plt.rcParams['figure.figsize'] = (10, 6) "
   ]
  },
  {
   "cell_type": "code",
   "execution_count": 17,
   "metadata": {
    "scrolled": false
   },
   "outputs": [
    {
     "name": "stdout",
     "output_type": "stream",
     "text": [
      "<class 'pandas.core.frame.DataFrame'>\n",
      "Index: 348 entries, 0 to 147\n",
      "Columns: 206 entries, ListNo to LastMod\n",
      "dtypes: float64(30), int64(83), object(93)\n",
      "memory usage: 562.8+ KB\n"
     ]
    }
   ],
   "source": [
    "train1 = pd.read_csv('train1.csv')\n",
    "train2 = pd.read_csv('train2.csv')\n",
    "\n",
    "house = pd.concat([train1, train2])"
   ]
  },
  {
   "cell_type": "markdown",
   "metadata": {},
   "source": [
    "### Task 2: Clean the data \n",
    "\n",
    "1. There are 206 different variables associated with each of the 348 houses in this dataset. Skim them and try to get a rough understanding of what information this dataset contains. If you've never seen a real estate listing before, you might take a look at one on [this](http://www.utahrealestate.com/) website to get a better sense of the meanings of the column headers in the dataset.  \n",
    "\n",
    "+ Only keep houses with List Price between 300,000 and 900,000 dollars both inclusive. This is an arbitrary choice and we realize that some people are high rollers, but for our purposes we'll consider the others as outliers. \n",
    "\n",
    "+ Remove columns that you don't think contribute to the value of the house. This is a personal decision – what attributes of a house are important to you? \n",
    "You should at least keep the following variables since questions below will use them: `` ['Acres', 'Deck', 'GaragCap', 'Latitude', 'Longitude', 'DaysOnMkt', 'LstPrice', 'PkgSpacs', 'PropType', 'SoldPrice', 'Taxes', 'TotBed', 'TotBth', 'TotSqf', 'YearBlt']\n",
    "\n",
    "+ Check the datatypes and convert any numbers that were read as strings to numerical values. (Hint: You can use [`str.replace()`](http://pandas.pydata.org/pandas-docs/stable/generated/pandas.Series.str.replace.html) to work with strings.) If there are any categorical values you're interested in, then you should convert them to numerical values as in Lecture. In particular, convert 'TotSqf' to an integer and add a column titled `Prop_Type_num` that is \n",
    "$$\n",
    "\\text{Prop_Type_num}_i = \\begin{cases} \n",
    "2 & \\text{if $i$-th listing is a townhouse} \\\\\n",
    "1 & \\text{if $i$-th listing is a condo} \\\\\n",
    "0 & \\text{if $i$-th listing is a single family house}\n",
    "\\end{cases}. \n",
    "$$\n",
    "+ Remove the listings with erroneous `Longitude` (one has Longitude = 0) and `Taxes` values (two have unreasonably large values)."
   ]
  },
  {
   "cell_type": "code",
   "execution_count": 41,
   "metadata": {},
   "outputs": [
    {
     "data": {
      "text/html": [
       "<div>\n",
       "<style scoped>\n",
       "    .dataframe tbody tr th:only-of-type {\n",
       "        vertical-align: middle;\n",
       "    }\n",
       "\n",
       "    .dataframe tbody tr th {\n",
       "        vertical-align: top;\n",
       "    }\n",
       "\n",
       "    .dataframe thead th {\n",
       "        text-align: right;\n",
       "    }\n",
       "</style>\n",
       "<table border=\"1\" class=\"dataframe\">\n",
       "  <thead>\n",
       "    <tr style=\"text-align: right;\">\n",
       "      <th></th>\n",
       "      <th>Acres</th>\n",
       "      <th>Deck</th>\n",
       "      <th>GaragCap</th>\n",
       "      <th>Latitude</th>\n",
       "      <th>Longitude</th>\n",
       "      <th>DaysOnMkt</th>\n",
       "      <th>LstPrice</th>\n",
       "      <th>PkgSpacs</th>\n",
       "      <th>PropType</th>\n",
       "      <th>SoldPrice</th>\n",
       "      <th>Taxes</th>\n",
       "      <th>TotBed</th>\n",
       "      <th>TotBth</th>\n",
       "      <th>TotSqf</th>\n",
       "      <th>YearBlt</th>\n",
       "      <th>Prop_Type_num</th>\n",
       "    </tr>\n",
       "  </thead>\n",
       "  <tbody>\n",
       "    <tr>\n",
       "      <th>0</th>\n",
       "      <td>0.29</td>\n",
       "      <td>1</td>\n",
       "      <td>3</td>\n",
       "      <td>40.779524</td>\n",
       "      <td>-111.893542</td>\n",
       "      <td>7.0</td>\n",
       "      <td>725000</td>\n",
       "      <td>0</td>\n",
       "      <td>Single Family</td>\n",
       "      <td>752000</td>\n",
       "      <td>7244</td>\n",
       "      <td>4.0</td>\n",
       "      <td>5.0</td>\n",
       "      <td>0.29</td>\n",
       "      <td>1998</td>\n",
       "      <td>0</td>\n",
       "    </tr>\n",
       "    <tr>\n",
       "      <th>2</th>\n",
       "      <td>0.11</td>\n",
       "      <td>0</td>\n",
       "      <td>0</td>\n",
       "      <td>40.773972</td>\n",
       "      <td>-111.867470</td>\n",
       "      <td>4.0</td>\n",
       "      <td>390000</td>\n",
       "      <td>0</td>\n",
       "      <td>Single Family</td>\n",
       "      <td>390000</td>\n",
       "      <td>1816</td>\n",
       "      <td>3.0</td>\n",
       "      <td>1.0</td>\n",
       "      <td>0.11</td>\n",
       "      <td>1940</td>\n",
       "      <td>0</td>\n",
       "    </tr>\n",
       "    <tr>\n",
       "      <th>3</th>\n",
       "      <td>0.14</td>\n",
       "      <td>0</td>\n",
       "      <td>1</td>\n",
       "      <td>40.783009</td>\n",
       "      <td>-111.872100</td>\n",
       "      <td>12.0</td>\n",
       "      <td>445000</td>\n",
       "      <td>3</td>\n",
       "      <td>Single Family</td>\n",
       "      <td>443000</td>\n",
       "      <td>3260</td>\n",
       "      <td>3.0</td>\n",
       "      <td>2.0</td>\n",
       "      <td>0.14</td>\n",
       "      <td>1940</td>\n",
       "      <td>0</td>\n",
       "    </tr>\n",
       "    <tr>\n",
       "      <th>5</th>\n",
       "      <td>0.01</td>\n",
       "      <td>0</td>\n",
       "      <td>2</td>\n",
       "      <td>40.771693</td>\n",
       "      <td>-111.886951</td>\n",
       "      <td>12.0</td>\n",
       "      <td>339000</td>\n",
       "      <td>2</td>\n",
       "      <td>Condo</td>\n",
       "      <td>334000</td>\n",
       "      <td>2141</td>\n",
       "      <td>3.0</td>\n",
       "      <td>2.0</td>\n",
       "      <td>0.01</td>\n",
       "      <td>1976</td>\n",
       "      <td>1</td>\n",
       "    </tr>\n",
       "    <tr>\n",
       "      <th>6</th>\n",
       "      <td>0.14</td>\n",
       "      <td>1</td>\n",
       "      <td>2</td>\n",
       "      <td>40.783889</td>\n",
       "      <td>-111.872194</td>\n",
       "      <td>NaN</td>\n",
       "      <td>600000</td>\n",
       "      <td>2</td>\n",
       "      <td>Single Family</td>\n",
       "      <td>570000</td>\n",
       "      <td>4197</td>\n",
       "      <td>3.0</td>\n",
       "      <td>3.0</td>\n",
       "      <td>0.14</td>\n",
       "      <td>1950</td>\n",
       "      <td>0</td>\n",
       "    </tr>\n",
       "  </tbody>\n",
       "</table>\n",
       "</div>"
      ],
      "text/plain": [
       "   Acres  Deck  GaragCap   Latitude   Longitude  DaysOnMkt  LstPrice  \\\n",
       "0   0.29     1         3  40.779524 -111.893542        7.0    725000   \n",
       "2   0.11     0         0  40.773972 -111.867470        4.0    390000   \n",
       "3   0.14     0         1  40.783009 -111.872100       12.0    445000   \n",
       "5   0.01     0         2  40.771693 -111.886951       12.0    339000   \n",
       "6   0.14     1         2  40.783889 -111.872194        NaN    600000   \n",
       "\n",
       "   PkgSpacs       PropType  SoldPrice  Taxes  TotBed  TotBth  TotSqf  YearBlt  \\\n",
       "0         0  Single Family     752000   7244     4.0     5.0    0.29     1998   \n",
       "2         0  Single Family     390000   1816     3.0     1.0    0.11     1940   \n",
       "3         3  Single Family     443000   3260     3.0     2.0    0.14     1940   \n",
       "5         2          Condo     334000   2141     3.0     2.0    0.01     1976   \n",
       "6         2  Single Family     570000   4197     3.0     3.0    0.14     1950   \n",
       "\n",
       "   Prop_Type_num  \n",
       "0              0  \n",
       "2              0  \n",
       "3              0  \n",
       "5              1  \n",
       "6              0  "
      ]
     },
     "execution_count": 41,
     "metadata": {},
     "output_type": "execute_result"
    }
   ],
   "source": [
    "# Filter List Price and desired columns\n",
    "house_clean = house[(house['LstPrice'] > 300000) & (house['LstPrice'] < 900000)]\n",
    "house_clean = house_clean[['Acres', 'Deck', 'GaragCap', 'Latitude', 'Longitude', 'DaysOnMkt', 'LstPrice', 'PkgSpacs', 'PropType', 'SoldPrice', 'Taxes', 'TotBed', 'TotBth', 'TotSqf', 'YearBlt']]\n",
    "\n",
    "# Check data types and convert to numeric\n",
    "house_clean.dtypes\n",
    "house_clean['TotSqf'] = pd.to_numeric(house_clean['Acres'], errors='coerce')\n",
    "\n",
    "# Add Prop_Type_num column\n",
    "house_clean['Prop_Type_num'] = house_clean['PropType'].map({'Single Family': 0, 'Townhouse': 2, 'Condo': 1})\n",
    "house_clean.head()"
   ]
  },
  {
   "cell_type": "markdown",
   "metadata": {},
   "source": [
    "### Task 3: Exploratory data analysis \n",
    "\n",
    "1. Explore the dataset. Write a short description of the dataset describing the number of items, the number of variables and check to see if the values are reasonable. \n",
    "\n",
    "+ Make a bar chart showing the breakdown of the different types of houses (single family, townhouse, condo). \n",
    "\n",
    "+ Compute the correlation matrix and use a heat map to visualize the correlation coefficients. \n",
    "    - Use a diverging color scale from -1 to +1 (see `vmin` and `vmax` parameters for [pcolor](https://matplotlib.org/devdocs/api/_as_gen/matplotlib.pyplot.pcolor.html))\n",
    "    - Show a legend\n",
    "    - Make sure the proper labels are visible and readable (see [`xticks`](https://matplotlib.org/devdocs/api/_as_gen/matplotlib.pyplot.xticks.html) and the corresponding [`yticks`](https://matplotlib.org/devdocs/api/_as_gen/matplotlib.pyplot.yticks.html).\n",
    "\n",
    "+ Make a scatter plot matrix to visualize the correlations. Color-code the dots by property type. For the plot, only use a subset of the columns: `['Acres', 'LstPrice', 'PkgSpacs', 'SoldPrice', 'Taxes', 'TotBed', 'TotBth', 'TotSqf', 'YearBlt' ]`. Determine which columns have strong correlations. \n",
    "\n",
    "+ Describing your findings. \n"
   ]
  },
  {
   "cell_type": "code",
   "execution_count": 4,
   "metadata": {},
   "outputs": [],
   "source": [
    "# your code goes here\n"
   ]
  },
  {
   "cell_type": "markdown",
   "metadata": {},
   "source": [
    "**Your Interpretation:** TODO"
   ]
  },
  {
   "cell_type": "markdown",
   "metadata": {},
   "source": [
    "### Task 4: Geospatial plot\n",
    "Two of the variables are the latitude and longitude of each listing. Salt Lake City is on this nice east-west, north south grid, so even a simple plot of lat and long makes sense. Create a scatterplot of these two variables. Use color to indicate the price of the house. How does the price depend on the house location?\n",
    "\n",
    "What can you say about the relation between the location and the house price?  "
   ]
  },
  {
   "cell_type": "code",
   "execution_count": 5,
   "metadata": {},
   "outputs": [],
   "source": [
    "# your code goes here\n"
   ]
  },
  {
   "cell_type": "markdown",
   "metadata": {},
   "source": [
    "**Your Interpretation:** TODO"
   ]
  },
  {
   "cell_type": "markdown",
   "metadata": {},
   "source": [
    "### Task 5: Simple  Linear Regression \n",
    "Use the `ols` function from the [statsmodels](http://www.statsmodels.org/stable/index.html) package to regress the Sold price on some of the other variables. Your model should be of the form:\n",
    "$$\n",
    "\\text{Sold Price} = \\beta_0 + \\beta_1 x, \n",
    "$$\n",
    "where $x$ is one of the other variables. \n",
    "\n",
    "You'll find that the best predictor of sold price is the list price. Report the R-squared value for this model (`SoldPrice ~ LstPrice`) and give an interpretation for its meaning. Also give an interpretation of $\\beta_1$ for this model. Make a scatterplot of list price vs. sold price and overlay the prediction coming from your regression model. "
   ]
  },
  {
   "cell_type": "code",
   "execution_count": 6,
   "metadata": {
    "scrolled": false
   },
   "outputs": [],
   "source": [
    "# Your code here\n"
   ]
  },
  {
   "cell_type": "markdown",
   "metadata": {},
   "source": [
    "**Your Interpretation:** TODO"
   ]
  },
  {
   "cell_type": "markdown",
   "metadata": {},
   "source": [
    "### Task 6: Multilinear Regression \n",
    "Develop a multilinear regression model for house prices in this neighborhood. We could use this to come up with a list price for houses coming on the market, so do not include the list price in your model and, for now, ignore the categorical variable Prop_Type. Your model should be of the form:\n",
    "$$\n",
    "\\text{Sold Price} = \\beta_0 + \\beta_1 x_1 + \\beta_2 x_2 + \\cdots +  \\beta_n x_n, \n",
    "$$\n",
    "where $x_i$ are predictive variables.\n",
    "\n",
    "\n",
    "**Question 1**: If we wanted to start a 'house flipping' company, we'd have to be able to do a better job of predicting the sold price than the list price does. How does your model compare? \n",
    "\n",
    "Next look at the difference between list price and sold price explicitly. Calculate two new columns for your dataset. `DiffPriceAbsolute` and `DiffPriceRelative`.\n",
    "\n",
    "* `DiffPriceAbsolute` - This is difference between sold price and list price. If it is positive, that means the house sold for more than it was listed at.\n",
    "* `DiffPriceRelative` - This is the relative difference between sold price and list price. A value of 1.1 here means that the house sold for 110% of the asking price, and 0.9 means the house sold for 90% of the asking price.\n",
    "\n",
    "Now, create two new models. One to predict `DiffPriceAbsolute`, and one to predict `DiffPriceRelative`. Use the same predictive variables as in the last model.\n",
    "\n",
    "\n",
    "**Question 2**: Which of these two new models makes better predictions.\n",
    "\n",
    "**Question 3**: Based on your answer to question two, why are these models different/the same.\n",
    "\n",
    "To help justify your answer to question 3, train two models to predict `DiffPriceAbsolute` and `DiffPriceRelative` based on just `SoldPrice`. In addition, for each model make a scatterplots similar to Task 5 for these models."
   ]
  },
  {
   "cell_type": "code",
   "execution_count": 7,
   "metadata": {
    "scrolled": false
   },
   "outputs": [],
   "source": [
    "# your code goes here\n"
   ]
  },
  {
   "cell_type": "markdown",
   "metadata": {},
   "source": [
    "**Your Interpretation:** TODO - answer Questions 1, 2, and 3"
   ]
  },
  {
   "cell_type": "markdown",
   "metadata": {},
   "source": [
    "### Task 7: Incorporating a categorical variable\n",
    "\n",
    "Above, we considered houses, townhouses, and condos together, but here we'll distinguish between them. Consider the two regression models: \n",
    "$$\n",
    "\\text{SoldPrice} = \\beta_0 + \\beta_1 \\text{Prop_Type_num}\n",
    "$$\n",
    "and \n",
    "$$\n",
    "\\text{SoldPrice} = \\beta_0  + \\beta_1 \\text{Prop_Type_num} + \\beta_2 \\text{TotSqf}\n",
    "$$\n",
    "From the first model, it would appear that Property type is significant in predicting the sold price. On the other hand, the second model indicates that when you take into account total square footage, property type is no longer predictive. Explain this. (Hint: there is a confounder lurking here.) Make a scatterplot of TotSqf vs. SoldPrice where the house types are colored differently to illustrate your explanation. "
   ]
  },
  {
   "cell_type": "code",
   "execution_count": 8,
   "metadata": {},
   "outputs": [],
   "source": [
    "# Your code goes here\n"
   ]
  },
  {
   "cell_type": "markdown",
   "metadata": {},
   "source": [
    "**Your Interpretation:** TODO"
   ]
  }
 ],
 "metadata": {
  "anaconda-cloud": {},
  "kernelspec": {
   "display_name": "Python 3",
   "language": "python",
   "name": "python3"
  },
  "language_info": {
   "codemirror_mode": {
    "name": "ipython",
    "version": 3
   },
   "file_extension": ".py",
   "mimetype": "text/x-python",
   "name": "python",
   "nbconvert_exporter": "python",
   "pygments_lexer": "ipython3",
   "version": "3.10.13"
  }
 },
 "nbformat": 4,
 "nbformat_minor": 1
}
